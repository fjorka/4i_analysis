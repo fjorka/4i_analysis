{
 "cells": [
  {
   "cell_type": "markdown",
   "metadata": {},
   "source": [
    "## About this notebook:"
   ]
  },
  {
   "cell_type": "markdown",
   "metadata": {},
   "source": [
    "This notebook uses saved transformations to align all channels in a selected well (works for a single well because manual checking of alignment for each well is a good idea).\n",
    "\n",
    "Input:\n",
    "- a set of transforms (one transform/round)\n",
    "- data frames with channel data for each channel\n",
    "- nd2 images\n",
    "\n",
    "Output:\n",
    "- aligned tiffs \n",
    "- updated data frame"
   ]
  },
  {
   "cell_type": "markdown",
   "metadata": {},
   "source": [
    "## Fill in info about the experiment to process"
   ]
  },
  {
   "cell_type": "code",
   "execution_count": 9,
   "metadata": {},
   "outputs": [],
   "source": [
    "# pathway to a directory with data frames (ex. df)\n",
    "path_df = r''\n",
    "path_tmat=path_df\n",
    "\n",
    "# pathway to save aligned tiffs (ex. aligned_tiffs)\n",
    "path_save = r''\n",
    "\n",
    "# list of wells to be processed (usually names as 'A3')\n",
    "selected_well = ''\n",
    "\n",
    "# if you want to use this notebook for visualization of results\n",
    "collect_for_test = True"
   ]
  },
  {
   "cell_type": "markdown",
   "metadata": {},
   "source": [
    "## Prepare for processing"
   ]
  },
  {
   "cell_type": "code",
   "execution_count": 10,
   "metadata": {},
   "outputs": [],
   "source": [
    "import os\n",
    "import pickle5 as pickle\n",
    "import pandas as pd\n",
    "import numpy as np\n",
    "import nd2\n",
    "\n",
    "from tifffile import imsave\n",
    "from skimage import transform\n",
    "\n",
    "import ipywidgets as widgets\n",
    "from IPython.display import display"
   ]
  },
  {
   "cell_type": "code",
   "execution_count": 11,
   "metadata": {},
   "outputs": [
    {
     "name": "stdout",
     "output_type": "stream",
     "text": [
      "Directory not created.\n",
      "Directory not created.\n"
     ]
    }
   ],
   "source": [
    "# create directory for saving data frames if needed\n",
    "try:\n",
    "    os.mkdir(path_save)\n",
    "    print('Directory for saving aligned tiffs created.')\n",
    "except:\n",
    "    print('Directory not created.')\n",
    "    \n",
    "try:\n",
    "    os.mkdir(os.path.join(path_save,selected_well))\n",
    "    print('Sub-directory for saving aligned tiffs created.')\n",
    "except:\n",
    "    print('Directory not created.')"
   ]
  },
  {
   "cell_type": "code",
   "execution_count": 12,
   "metadata": {},
   "outputs": [],
   "source": [
    "df_name = f'df_{selected_well}.pkl'\n",
    "tmat_name = f'tmat_{selected_well}.pkl'"
   ]
  },
  {
   "cell_type": "code",
   "execution_count": 13,
   "metadata": {},
   "outputs": [],
   "source": [
    "# read in the data\n",
    "#myData = pd.read_pickle(os.path.join(path_df,df_name))\n",
    "with open(os.path.join(path_df,df_name), \"rb\") as fh:\n",
    "  myData = pickle.load(fh)\n",
    "\n",
    "tmat_list = pickle.load(open(os.path.join(path_tmat,tmat_name), \"rb\"))"
   ]
  },
  {
   "cell_type": "markdown",
   "metadata": {},
   "source": [
    "# Align and save images"
   ]
  },
  {
   "cell_type": "code",
   "execution_count": 14,
   "metadata": {},
   "outputs": [
    {
     "data": {
      "application/vnd.jupyter.widget-view+json": {
       "model_id": "9c39f08af4a3437386eca238e188d332",
       "version_major": 2,
       "version_minor": 0
      },
      "text/plain": [
       "FloatProgress(value=0.0, max=13.0)"
      ]
     },
     "metadata": {},
     "output_type": "display_data"
    }
   ],
   "source": [
    "myProgress = widgets.FloatProgress()\n",
    "myProgress.min = 0\n",
    "myProgress.max = len(myData)\n",
    "myProgress.value = 0\n",
    "display(myProgress)\n",
    "\n",
    "test_im = []\n",
    "for ind,my_signal in myData.iterrows():\n",
    "    \n",
    "    # set progress bar\n",
    "    myProgress.value = ind\n",
    "    \n",
    "    # get a path to the image file\n",
    "    file_path = os.path.join(my_signal.dir,my_signal.sub_dir,my_signal.file)\n",
    "\n",
    "    # get a handle to the nd2 file\n",
    "    myIm = nd2.ND2File(file_path)\n",
    "\n",
    "    # choose the right frame\n",
    "    dask_im = myIm.to_dask()\n",
    "    im = dask_im[my_signal.channel_in_file,:,:]\n",
    "    \n",
    "    # trim if needed\n",
    "    if ((my_signal.width_min < my_signal.width) | (my_signal.height_min < my_signal.height)):\n",
    "\n",
    "        im = im[:my_signal.height_min,:my_signal.width_min]\n",
    "    \n",
    "    # get the transform\n",
    "    tf = tmat_list[int(my_signal.alignRound)]\n",
    "    \n",
    "    # apply transform\n",
    "    im_alig = transform.warp(im,tf,output_shape=im.shape)\n",
    "    im_alig[im_alig<0] = 0\n",
    "    \n",
    "    # get the range correct\n",
    "    im_alig = im_alig*2**16\n",
    "    im_alig = im_alig.astype('uint16')\n",
    "    \n",
    "    # collect the image if requested\n",
    "    if collect_for_test == True:\n",
    "        test_im.append(im_alig)\n",
    "    \n",
    "    # save image\n",
    "    alig_name = f'Round_{str(int(my_signal.nameRound)).zfill(2)}_well{my_signal.well}_{my_signal.signal}.tif'\n",
    "    imsave(os.path.join(path_save,selected_well,alig_name),im_alig)\n",
    "    \n",
    "    # remember this in the df\n",
    "    myData.loc[ind,'aligned_file_name'] = alig_name\n",
    "    myData.to_pickle(os.path.join(path_df,df_name))\n",
    "    \n",
    "myProgress.value = len(myData)"
   ]
  },
  {
   "cell_type": "markdown",
   "metadata": {},
   "source": [
    "## Optional - view alignment"
   ]
  },
  {
   "cell_type": "code",
   "execution_count": 15,
   "metadata": {},
   "outputs": [],
   "source": [
    "import napari"
   ]
  },
  {
   "cell_type": "code",
   "execution_count": 16,
   "metadata": {},
   "outputs": [
    {
     "name": "stderr",
     "output_type": "stream",
     "text": [
      "C:\\ProgramData\\Anaconda3\\envs\\cellpose\\lib\\site-packages\\napari\\_vispy\\vispy_camera.py:109: RuntimeWarning: divide by zero encountered in true_divide\n",
      "  zoom = np.min(canvas_size / scale)\n"
     ]
    },
    {
     "data": {
      "text/plain": [
       "<Image layer 'test_im' at 0x2076c3e24c8>"
      ]
     },
     "execution_count": 16,
     "metadata": {},
     "output_type": "execute_result"
    }
   ],
   "source": [
    "# test alignment\n",
    "\n",
    "viewer = napari.Viewer()\n",
    "\n",
    "test_im = np.array(test_im)\n",
    "\n",
    "viewer.add_image(test_im,blending = 'additive',contrast_limits=[0,4095])"
   ]
  },
  {
   "cell_type": "code",
   "execution_count": 17,
   "metadata": {},
   "outputs": [
    {
     "name": "stderr",
     "output_type": "stream",
     "text": [
      "C:\\ProgramData\\Anaconda3\\envs\\cellpose\\lib\\site-packages\\napari\\_vispy\\vispy_camera.py:109: RuntimeWarning: divide by zero encountered in true_divide\n",
      "  zoom = np.min(canvas_size / scale)\n"
     ]
    }
   ],
   "source": [
    "\n",
    "viewer = napari.Viewer()"
   ]
  },
  {
   "cell_type": "code",
   "execution_count": null,
   "metadata": {},
   "outputs": [],
   "source": []
  }
 ],
 "metadata": {
  "kernelspec": {
   "display_name": "Python 3 (ipykernel)",
   "language": "python",
   "name": "python3"
  },
  "language_info": {
   "codemirror_mode": {
    "name": "ipython",
    "version": 3
   },
   "file_extension": ".py",
   "mimetype": "text/x-python",
   "name": "python",
   "nbconvert_exporter": "python",
   "pygments_lexer": "ipython3",
   "version": "3.7.10"
  }
 },
 "nbformat": 4,
 "nbformat_minor": 4
}
