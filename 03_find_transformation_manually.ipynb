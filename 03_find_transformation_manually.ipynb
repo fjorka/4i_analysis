{
 "cells": [
  {
   "cell_type": "markdown",
   "metadata": {},
   "source": [
    "## About this notebook:"
   ]
  },
  {
   "cell_type": "markdown",
   "metadata": {},
   "source": [
    "This notebook uses Affinder napari plugin to find transformation manually.\n",
    "\n",
    "Input:\n",
    "- pathway to a directory containing segmented labels\n",
    "- pathway to a directory containing data frames\n",
    "- pathway to a directory containing transformations (pkl files)\n",
    "- well and round (as in the names of directories) selected for corrections\n",
    "\n",
    "Output:\n",
    "- a set of transforms for the selected well with the corrected transform for a given round\n",
    "\n",
    "Optionally you can visualize alignment (visualization uses Napari)."
   ]
  },
  {
   "cell_type": "markdown",
   "metadata": {},
   "source": [
    "## Fill in info about the experiment to process"
   ]
  },
  {
   "cell_type": "code",
   "execution_count": 14,
   "metadata": {},
   "outputs": [],
   "source": [
    "# details about the experiment\n",
    "\n",
    "# pathway to a directory with segmented masks for alignment (ex. im_segmented)\n",
    "path_labels = r''\n",
    "\n",
    "# pathway to a directory with data frames (ex. df)\n",
    "path_df = r''\n",
    "\n",
    "# pathway to save transformations (ex. df)\n",
    "path_save = r''\n",
    "\n",
    "# specify which round in which well to correct manually\n",
    "myWell =''\n",
    "myRound =  # as named in the directory"
   ]
  },
  {
   "cell_type": "markdown",
   "metadata": {},
   "source": [
    "## Prepare for processing"
   ]
  },
  {
   "cell_type": "code",
   "execution_count": 1,
   "metadata": {},
   "outputs": [],
   "source": [
    "import os\n",
    "import pickle\n",
    "import pandas as pd\n",
    "import numpy as np\n",
    "import napari\n",
    "from tifffile import imsave,imread\n",
    "from scipy import ndimage as ndi\n",
    "from skimage import transform\n",
    "import matplotlib.pyplot as plt"
   ]
  },
  {
   "cell_type": "code",
   "execution_count": 15,
   "metadata": {},
   "outputs": [],
   "source": [
    "def read_labels(path_labels,myWell,alignRound):\n",
    "    \n",
    "    labels_list = [x for x in os.listdir(os.path.join(path_labels,myWell)) if 'tif' in x]\n",
    "    labels_list.sort()\n",
    "\n",
    "    labels_list = [labels_list[0],labels_list[int(alignRound)]]\n",
    "\n",
    "    labels_im_list = []\n",
    "    for lab_im_name in labels_list:\n",
    "\n",
    "        lab_im = plt.imread(os.path.join(path_labels,myWell,lab_im_name))\n",
    "        labels_im_list.append(lab_im)\n",
    "\n",
    "    labels_im = np.array(labels_im_list)\n",
    "    \n",
    "    return labels_im"
   ]
  },
  {
   "cell_type": "code",
   "execution_count": 16,
   "metadata": {},
   "outputs": [
    {
     "name": "stderr",
     "output_type": "stream",
     "text": [
      "C:\\Users\\kmkedz\\.conda\\envs\\napari-tests\\lib\\site-packages\\PIL\\Image.py:2896: DecompressionBombWarning: Image size (100721296 pixels) exceeds limit of 89478485 pixels, could be decompression bomb DOS attack.\n",
      "  warnings.warn(\n"
     ]
    }
   ],
   "source": [
    "# open df\n",
    "df_path = os.path.join(path_save,f'df_{myWell}.pkl')\n",
    "df = pd.read_pickle(df_path)\n",
    "\n",
    "# check which alignRound for the selected round\n",
    "alignRound = df.loc[df.nameRound == myRound,'alignRound'].tolist()[0]\n",
    "\n",
    "# open labels and the control\n",
    "labels_im = read_labels(path_labels,myWell,alignRound)\n",
    "\n",
    "# open the list of transformations for a given well\n",
    "tmat_path = os.path.join(path_save,f'tmat_{myWell}.pkl')\n",
    "with open(tmat_path,'rb') as tmat_file:\n",
    "    tmat = pickle.load(tmat_file)\n",
    "\n",
    "# select the appropriate transformation\n",
    "t_org = tmat[int(alignRound)]\n"
   ]
  },
  {
   "cell_type": "markdown",
   "metadata": {},
   "source": [
    "## Use Affinder in Napari"
   ]
  },
  {
   "cell_type": "markdown",
   "metadata": {},
   "source": [
    "Remember to set parameters of the plugin correctly:\n",
    "- reference image\n",
    "- image to transform\n",
    "- 'similarity' as transformation\n",
    "\n",
    "Information about Affinder can be found:\n",
    "- https://github.com/jni/affinder\n",
    "- https://www.napari-hub.org/plugins/affinder?imageModality=Fluorescence+microscopy"
   ]
  },
  {
   "cell_type": "code",
   "execution_count": 18,
   "metadata": {},
   "outputs": [
    {
     "name": "stderr",
     "output_type": "stream",
     "text": [
      "C:\\Users\\kmkedz\\.conda\\envs\\napari-tests\\lib\\site-packages\\napari_tools_menu\\__init__.py:165: FutureWarning: Public access to Window.qt_viewer is deprecated and will be removed in\n",
      "v0.5.0. It is considered an \"implementation detail\" of the napari\n",
      "application, not part of the napari viewer model. If your use case\n",
      "requires access to qt_viewer, please open an issue to discuss.\n",
      "  self.tools_menu = ToolsMenu(self, self.qt_viewer.viewer)\n",
      "C:\\Users\\kmkedz\\.conda\\envs\\napari-tests\\lib\\site-packages\\affinder\\affinder.py:28: FutureWarning: Private attribute access ('Viewer._canvas_size') in this context (e.g. inside a plugin widget or dock widget) is deprecated and will be unavailable in version 0.5.0\n",
      "  viewer.camera.zoom = np.min(viewer._canvas_size) / np.max(size)\n",
      "C:\\Users\\kmkedz\\.conda\\envs\\napari-tests\\lib\\site-packages\\numpy\\core\\numeric.py:2446: FutureWarning: elementwise comparison failed; returning scalar instead, but in the future will perform elementwise comparison\n",
      "  return bool(asarray(a1 == a2).all())\n",
      "C:\\Users\\kmkedz\\.conda\\envs\\napari-tests\\lib\\site-packages\\numpy\\core\\numeric.py:2446: FutureWarning: elementwise comparison failed; returning scalar instead, but in the future will perform elementwise comparison\n",
      "  return bool(asarray(a1 == a2).all())\n",
      "C:\\Users\\kmkedz\\.conda\\envs\\napari-tests\\lib\\site-packages\\affinder\\affinder.py:28: FutureWarning: Private attribute access ('Viewer._canvas_size') in this context (e.g. inside a plugin widget or dock widget) is deprecated and will be unavailable in version 0.5.0\n",
      "  viewer.camera.zoom = np.min(viewer._canvas_size) / np.max(size)\n",
      "C:\\Users\\kmkedz\\.conda\\envs\\napari-tests\\lib\\site-packages\\affinder\\affinder.py:28: FutureWarning: Private attribute access ('Viewer._canvas_size') in this context (e.g. inside a plugin widget or dock widget) is deprecated and will be unavailable in version 0.5.0\n",
      "  viewer.camera.zoom = np.min(viewer._canvas_size) / np.max(size)\n",
      "C:\\Users\\kmkedz\\.conda\\envs\\napari-tests\\lib\\site-packages\\affinder\\affinder.py:28: FutureWarning: Private attribute access ('Viewer._canvas_size') in this context (e.g. inside a plugin widget or dock widget) is deprecated and will be unavailable in version 0.5.0\n",
      "  viewer.camera.zoom = np.min(viewer._canvas_size) / np.max(size)\n",
      "C:\\Users\\kmkedz\\.conda\\envs\\napari-tests\\lib\\site-packages\\affinder\\affinder.py:28: FutureWarning: Private attribute access ('Viewer._canvas_size') in this context (e.g. inside a plugin widget or dock widget) is deprecated and will be unavailable in version 0.5.0\n",
      "  viewer.camera.zoom = np.min(viewer._canvas_size) / np.max(size)\n",
      "C:\\Users\\kmkedz\\.conda\\envs\\napari-tests\\lib\\site-packages\\affinder\\affinder.py:28: FutureWarning: Private attribute access ('Viewer._canvas_size') in this context (e.g. inside a plugin widget or dock widget) is deprecated and will be unavailable in version 0.5.0\n",
      "  viewer.camera.zoom = np.min(viewer._canvas_size) / np.max(size)\n",
      "C:\\Users\\kmkedz\\.conda\\envs\\napari-tests\\lib\\site-packages\\affinder\\affinder.py:28: FutureWarning: Private attribute access ('Viewer._canvas_size') in this context (e.g. inside a plugin widget or dock widget) is deprecated and will be unavailable in version 0.5.0\n",
      "  viewer.camera.zoom = np.min(viewer._canvas_size) / np.max(size)\n",
      "C:\\Users\\kmkedz\\.conda\\envs\\napari-tests\\lib\\site-packages\\affinder\\affinder.py:28: FutureWarning: Private attribute access ('Viewer._canvas_size') in this context (e.g. inside a plugin widget or dock widget) is deprecated and will be unavailable in version 0.5.0\n",
      "  viewer.camera.zoom = np.min(viewer._canvas_size) / np.max(size)\n",
      "C:\\Users\\kmkedz\\.conda\\envs\\napari-tests\\lib\\site-packages\\affinder\\affinder.py:28: FutureWarning: Private attribute access ('Viewer._canvas_size') in this context (e.g. inside a plugin widget or dock widget) is deprecated and will be unavailable in version 0.5.0\n",
      "  viewer.camera.zoom = np.min(viewer._canvas_size) / np.max(size)\n",
      "C:\\Users\\kmkedz\\.conda\\envs\\napari-tests\\lib\\site-packages\\affinder\\affinder.py:28: FutureWarning: Private attribute access ('Viewer._canvas_size') in this context (e.g. inside a plugin widget or dock widget) is deprecated and will be unavailable in version 0.5.0\n",
      "  viewer.camera.zoom = np.min(viewer._canvas_size) / np.max(size)\n"
     ]
    }
   ],
   "source": [
    "viewer = napari.Viewer()\n",
    "l0 = viewer.add_image(labels_im[0], colormap='bop blue', blending='additive',name='ref')\n",
    "l1 = viewer.add_image(labels_im[1], colormap='bop purple', blending='additive',name='moving')\n",
    "\n",
    "qtwidget, widget = viewer.window.add_plugin_dock_widget(\n",
    "        'affinder', 'Start affinder'\n",
    "        )\n",
    "widget.reference.bind(l0)\n",
    "widget.moving.bind(l1)\n",
    "widget()"
   ]
  },
  {
   "cell_type": "markdown",
   "metadata": {},
   "source": [
    "## Collect transformation matrix"
   ]
  },
  {
   "cell_type": "code",
   "execution_count": 19,
   "metadata": {},
   "outputs": [
    {
     "data": {
      "text/plain": [
       "<Image layer 'tfd_ndi' at 0x1c6a74745e0>"
      ]
     },
     "execution_count": 19,
     "metadata": {},
     "output_type": "execute_result"
    }
   ],
   "source": [
    "# optionally - test matrix\n",
    "mat = np.asarray(viewer.layers['moving'].affine)"
   ]
  },
  {
   "cell_type": "markdown",
   "metadata": {},
   "source": [
    "## Visualize transformation from the collected matrix (optional)"
   ]
  },
  {
   "cell_type": "code",
   "execution_count": null,
   "metadata": {},
   "outputs": [],
   "source": [
    "tfd_ndi = ndi.affine_transform(labels_im[1], np.linalg.inv(mat))\n",
    "viewer.add_image(tfd_ndi, colormap='bop orange', blending='additive')"
   ]
  },
  {
   "cell_type": "markdown",
   "metadata": {},
   "source": [
    "## Save transformation matrix"
   ]
  },
  {
   "cell_type": "code",
   "execution_count": 20,
   "metadata": {},
   "outputs": [],
   "source": [
    "def matrix_rc2xy(affine_matrix):\n",
    "    swapped_cols = affine_matrix[:, [1, 0, 2]]\n",
    "    swapped_rows = swapped_cols[[1, 0, 2], :]\n",
    "    return swapped_rows\n",
    "\n",
    "\n",
    "tmat[int(alignRound),:,:] = np.linalg.inv(matrix_rc2xy(mat))\n",
    "tmat.dump(tmat_path)"
   ]
  }
 ],
 "metadata": {
  "interpreter": {
   "hash": "60f8c998a4002f338f112ec7ee84bce9751194547efeb38279b7c2dc8c19ce0a"
  },
  "kernelspec": {
   "display_name": "Python 3.7.10 ('cellpose')",
   "language": "python",
   "name": "python3"
  },
  "language_info": {
   "codemirror_mode": {
    "name": "ipython",
    "version": 3
   },
   "file_extension": ".py",
   "mimetype": "text/x-python",
   "name": "python",
   "nbconvert_exporter": "python",
   "pygments_lexer": "ipython3",
   "version": "3.9.10"
  },
  "orig_nbformat": 4
 },
 "nbformat": 4,
 "nbformat_minor": 2
}
