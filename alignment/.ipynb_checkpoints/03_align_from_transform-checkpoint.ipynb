{
 "cells": [
  {
   "cell_type": "markdown",
   "metadata": {},
   "source": [
    "# Points collection for the alignment of 4i data"
   ]
  },
  {
   "cell_type": "markdown",
   "metadata": {},
   "source": [
    "This script allows collection of points that will be used for alignment of 4i experiments."
   ]
  },
  {
   "cell_type": "markdown",
   "metadata": {},
   "source": [
    "# Select a well to align"
   ]
  },
  {
   "cell_type": "code",
   "execution_count": 1,
   "metadata": {},
   "outputs": [],
   "source": [
    "myWell = 'A3'"
   ]
  },
  {
   "cell_type": "markdown",
   "metadata": {},
   "source": [
    "# Preparing the data"
   ]
  },
  {
   "cell_type": "markdown",
   "metadata": {},
   "source": [
    "Execute all cells in this section. If you see any errors stop, save the file and report it. If a cell is not supposed to execute right away it will have expected waiting time indicated above. "
   ]
  },
  {
   "cell_type": "code",
   "execution_count": 2,
   "metadata": {},
   "outputs": [
    {
     "name": "stdout",
     "output_type": "stream",
     "text": [
      "creating new log file\n",
      "2021-07-26 11:22:31,577 [INFO] WRITING LOG OUTPUT TO C:\\Users\\kmkedz\\.cellpose\\run.log\n"
     ]
    }
   ],
   "source": [
    "import os\n",
    "import re\n",
    "import time\n",
    "import pickle\n",
    "\n",
    "import nd2reader\n",
    "\n",
    "import pickle\n",
    "\n",
    "import pandas as pd\n",
    "import numpy as np\n",
    "\n",
    "from scipy.spatial import distance\n",
    "from tifffile import imread,imsave\n",
    "from skimage import transform\n",
    "from skimage.transform import downscale_local_mean\n",
    "\n",
    "import matplotlib.pyplot as plt\n",
    "\n",
    "import napari\n",
    "\n",
    "from pystackreg import StackReg\n",
    "import pystackreg\n",
    "\n",
    "import mxnet\n",
    "from cellpose import models\n",
    "\n",
    "import ipywidgets as widgets\n",
    "from IPython.display import display"
   ]
  },
  {
   "cell_type": "code",
   "execution_count": 3,
   "metadata": {},
   "outputs": [],
   "source": [
    "pathInfoFile=r'Z:\\Wayne\\20210716_sen_sig_IF\\210716_info.csv'\n",
    "\n",
    "pathData=r'Z:\\Wayne\\20210716_sen_sig_IF'"
   ]
  },
  {
   "cell_type": "markdown",
   "metadata": {},
   "source": [
    "**Expected execution time: 10s.**"
   ]
  },
  {
   "cell_type": "code",
   "execution_count": 4,
   "metadata": {},
   "outputs": [
    {
     "name": "stderr",
     "output_type": "stream",
     "text": [
      "C:\\ProgramData\\Anaconda3\\envs\\cellpose\\lib\\site-packages\\nd2reader\\raw_metadata.py:171: UserWarning: Z-levels details missing in metadata. Using Z-coordinates instead.\n",
      "  warnings.warn(\"Z-levels details missing in metadata. Using Z-coordinates instead.\")\n"
     ]
    },
    {
     "name": "stdout",
     "output_type": "stream",
     "text": [
      "2021-07-26 11:22:32,391 [INFO] Note: NumExpr detected 20 cores but \"NUMEXPR_MAX_THREADS\" not set, so enforcing safe limit of 8.\n",
      "2021-07-26 11:22:32,392 [INFO] NumExpr defaulting to 8 threads.\n",
      "Wall time: 726 ms\n"
     ]
    }
   ],
   "source": [
    "%%time\n",
    "\n",
    "# read in the file with the info about the eperiment\n",
    "myDataRounds = pd.read_csv(pathInfoFile)\n",
    "\n",
    "# create a list of subdirectories\n",
    "myFiles = os.listdir(pathData)\n",
    "\n",
    "\n",
    "myData=pd.DataFrame()\n",
    "\n",
    "k=0\n",
    "\n",
    "for i,myRoundInfo in myDataRounds.iterrows():\n",
    "    \n",
    "    mySubDirName = [x for x in myFiles if (f'Round_{myRoundInfo.myRound}_' in x)]\n",
    "    \n",
    "    mySubDir = os.path.join(pathData,mySubDirName[0])\n",
    "    \n",
    "    myFileName = [x for x in os.listdir(mySubDir) if f'Well{myWell}_Channel' in x][0]\n",
    "    \n",
    "    # get a handle to the file\n",
    "    myIm = nd2reader.ND2Reader(os.path.join(mySubDir,myFileName))\n",
    "    \n",
    "    # through the channels in the file\n",
    "    for j,myChannel in enumerate(myIm.metadata['channels']):\n",
    "        \n",
    "        mySignal = myRoundInfo[myChannel]\n",
    "        \n",
    "        if mySignal == mySignal: # if this channel was admitted\n",
    "        \n",
    "            myData.loc[k,'file'] = myFileName\n",
    "            myData.loc[k,'myRound'] = myRoundInfo.myRound\n",
    "            \n",
    "            myData.loc[k,'signal'] = myRoundInfo[myChannel]\n",
    "            myData.loc[k,'width'] = myIm.metadata['width']\n",
    "            myData.loc[k,'height'] = myIm.metadata['height']\n",
    "        \n",
    "            k = k+1\n",
    "\n",
    "\n",
    "########################################################################################################   \n",
    "# choose images for alignment\n",
    "\n",
    "myData['alignIm'] = (myData.signal=='DNA').astype(int)\n",
    "\n",
    "k=0\n",
    "for myGroup in myData.groupby(['myRound']):\n",
    "    \n",
    "    myData.loc[myData.myRound==myGroup[0],'alignRound'] = k\n",
    "    \n",
    "    k=k+1\n",
    "    \n"
   ]
  },
  {
   "cell_type": "code",
   "execution_count": 5,
   "metadata": {},
   "outputs": [
    {
     "data": {
      "text/html": [
       "<div>\n",
       "<style scoped>\n",
       "    .dataframe tbody tr th:only-of-type {\n",
       "        vertical-align: middle;\n",
       "    }\n",
       "\n",
       "    .dataframe tbody tr th {\n",
       "        vertical-align: top;\n",
       "    }\n",
       "\n",
       "    .dataframe thead th {\n",
       "        text-align: right;\n",
       "    }\n",
       "</style>\n",
       "<table border=\"1\" class=\"dataframe\">\n",
       "  <thead>\n",
       "    <tr style=\"text-align: right;\">\n",
       "      <th></th>\n",
       "      <th>file</th>\n",
       "      <th>myRound</th>\n",
       "      <th>signal</th>\n",
       "      <th>width</th>\n",
       "      <th>height</th>\n",
       "      <th>alignIm</th>\n",
       "      <th>alignRound</th>\n",
       "    </tr>\n",
       "  </thead>\n",
       "  <tbody>\n",
       "    <tr>\n",
       "      <th>0</th>\n",
       "      <td>WellA3_ChannelHoechst,AF488_Seq1202.nd2</td>\n",
       "      <td>1.0</td>\n",
       "      <td>DNA</td>\n",
       "      <td>16589.0</td>\n",
       "      <td>16590.0</td>\n",
       "      <td>1</td>\n",
       "      <td>0.0</td>\n",
       "    </tr>\n",
       "    <tr>\n",
       "      <th>1</th>\n",
       "      <td>WellA3_ChannelHoechst,AF488_Seq1202.nd2</td>\n",
       "      <td>1.0</td>\n",
       "      <td>bGal</td>\n",
       "      <td>16589.0</td>\n",
       "      <td>16590.0</td>\n",
       "      <td>0</td>\n",
       "      <td>0.0</td>\n",
       "    </tr>\n",
       "    <tr>\n",
       "      <th>2</th>\n",
       "      <td>WellA3_ChannelHoechst,AF555,AF647_Seq0801.nd2</td>\n",
       "      <td>2.0</td>\n",
       "      <td>DNA</td>\n",
       "      <td>16589.0</td>\n",
       "      <td>16590.0</td>\n",
       "      <td>1</td>\n",
       "      <td>1.0</td>\n",
       "    </tr>\n",
       "    <tr>\n",
       "      <th>3</th>\n",
       "      <td>WellA3_ChannelHoechst,AF555,AF647_Seq0801.nd2</td>\n",
       "      <td>2.0</td>\n",
       "      <td>anti_1</td>\n",
       "      <td>16589.0</td>\n",
       "      <td>16590.0</td>\n",
       "      <td>0</td>\n",
       "      <td>1.0</td>\n",
       "    </tr>\n",
       "    <tr>\n",
       "      <th>4</th>\n",
       "      <td>WellA3_ChannelHoechst,AF555,AF647_Seq0801.nd2</td>\n",
       "      <td>2.0</td>\n",
       "      <td>anti_2</td>\n",
       "      <td>16589.0</td>\n",
       "      <td>16590.0</td>\n",
       "      <td>0</td>\n",
       "      <td>1.0</td>\n",
       "    </tr>\n",
       "    <tr>\n",
       "      <th>5</th>\n",
       "      <td>WellA3_ChannelHoechst,AF647_Seq0400.nd2</td>\n",
       "      <td>3.0</td>\n",
       "      <td>DNA</td>\n",
       "      <td>16589.0</td>\n",
       "      <td>16590.0</td>\n",
       "      <td>1</td>\n",
       "      <td>2.0</td>\n",
       "    </tr>\n",
       "    <tr>\n",
       "      <th>6</th>\n",
       "      <td>WellA3_ChannelHoechst,AF647_Seq0400.nd2</td>\n",
       "      <td>3.0</td>\n",
       "      <td>CDK4</td>\n",
       "      <td>16589.0</td>\n",
       "      <td>16590.0</td>\n",
       "      <td>0</td>\n",
       "      <td>2.0</td>\n",
       "    </tr>\n",
       "  </tbody>\n",
       "</table>\n",
       "</div>"
      ],
      "text/plain": [
       "                                            file  myRound  signal    width  \\\n",
       "0        WellA3_ChannelHoechst,AF488_Seq1202.nd2      1.0     DNA  16589.0   \n",
       "1        WellA3_ChannelHoechst,AF488_Seq1202.nd2      1.0    bGal  16589.0   \n",
       "2  WellA3_ChannelHoechst,AF555,AF647_Seq0801.nd2      2.0     DNA  16589.0   \n",
       "3  WellA3_ChannelHoechst,AF555,AF647_Seq0801.nd2      2.0  anti_1  16589.0   \n",
       "4  WellA3_ChannelHoechst,AF555,AF647_Seq0801.nd2      2.0  anti_2  16589.0   \n",
       "5        WellA3_ChannelHoechst,AF647_Seq0400.nd2      3.0     DNA  16589.0   \n",
       "6        WellA3_ChannelHoechst,AF647_Seq0400.nd2      3.0    CDK4  16589.0   \n",
       "\n",
       "    height  alignIm  alignRound  \n",
       "0  16590.0        1         0.0  \n",
       "1  16590.0        0         0.0  \n",
       "2  16590.0        1         1.0  \n",
       "3  16590.0        0         1.0  \n",
       "4  16590.0        0         1.0  \n",
       "5  16590.0        1         2.0  \n",
       "6  16590.0        0         2.0  "
      ]
     },
     "execution_count": 5,
     "metadata": {},
     "output_type": "execute_result"
    }
   ],
   "source": [
    "myData"
   ]
  },
  {
   "cell_type": "markdown",
   "metadata": {},
   "source": [
    "**Test cell**"
   ]
  },
  {
   "cell_type": "code",
   "execution_count": 6,
   "metadata": {},
   "outputs": [
    {
     "name": "stdout",
     "output_type": "stream",
     "text": [
      "Data preparation passed tests.\n"
     ]
    }
   ],
   "source": [
    "# test wheather each round has one alignment frame\n",
    "\n",
    "t=myData.groupby(['myRound']).sum()\n",
    "test1 = list(t.alignIm)==([1]*len(t))\n",
    "\n",
    "# find numbers of frames of images to align\n",
    "frames2align = list(np.where(np.array(myData.alignIm)==1)[0])\n",
    "\n",
    "test2 = len(frames2align)==3\n",
    "\n",
    "if (test1 & test2):\n",
    "    print('Data preparation passed tests.')\n",
    "else:\n",
    "    print('Error - stop and report.')"
   ]
  },
  {
   "cell_type": "markdown",
   "metadata": {},
   "source": [
    "# Opening images"
   ]
  },
  {
   "cell_type": "markdown",
   "metadata": {},
   "source": [
    "**Expected execution time: ~4min.**"
   ]
  },
  {
   "cell_type": "code",
   "execution_count": 7,
   "metadata": {},
   "outputs": [
    {
     "name": "stderr",
     "output_type": "stream",
     "text": [
      "C:\\ProgramData\\Anaconda3\\envs\\cellpose\\lib\\site-packages\\nd2reader\\raw_metadata.py:171: UserWarning: Z-levels details missing in metadata. Using Z-coordinates instead.\n",
      "  warnings.warn(\"Z-levels details missing in metadata. Using Z-coordinates instead.\")\n"
     ]
    },
    {
     "name": "stdout",
     "output_type": "stream",
     "text": [
      "Wall time: 1min 23s\n"
     ]
    }
   ],
   "source": [
    "%%time\n",
    "# load images\n",
    "# it goes through the same loops so it is in the same order as the main dataframe\n",
    "\n",
    "imList=[]\n",
    "\n",
    "for i,myRoundInfo in myDataRounds.iterrows():\n",
    "    \n",
    "    mySubDirName = [x for x in myFiles if (f'Round_{myRoundInfo.myRound}_' in x)]\n",
    "    \n",
    "    mySubDir = os.path.join(pathData,mySubDirName[0])\n",
    "    \n",
    "    myFileName = [x for x in os.listdir(mySubDir) if f'Well{myWell}_Channel' in x][0]\n",
    "    \n",
    "    # get a handle to the nd2 file\n",
    "    myIm = nd2reader.ND2Reader(os.path.join(mySubDir,myFileName))\n",
    "    \n",
    "    # through the channels in the file\n",
    "    for j,myChannel in enumerate(myIm.metadata['channels']):\n",
    "        \n",
    "        mySignal = myRoundInfo[myChannel]\n",
    "        \n",
    "        if mySignal == mySignal: # if this channel was admitted\n",
    "            \n",
    "            try:\n",
    "                temp = myIm.get_frame_2D(c=j)\n",
    "            except:\n",
    "                tiff_file = [x for x in os.listdir(mySubDir) if ((myWell in x) and ('tif' in x))][0]\n",
    "                temp = imread(os.path.join(mySubDir,tiff_file),key=j)\n",
    "            \n",
    "            imList.append(temp)\n"
   ]
  },
  {
   "cell_type": "code",
   "execution_count": 8,
   "metadata": {},
   "outputs": [
    {
     "data": {
      "text/plain": [
       "7"
      ]
     },
     "execution_count": 8,
     "metadata": {},
     "output_type": "execute_result"
    }
   ],
   "source": [
    "len(imList)"
   ]
  },
  {
   "cell_type": "markdown",
   "metadata": {},
   "source": [
    "## Load transformations"
   ]
  },
  {
   "cell_type": "code",
   "execution_count": 9,
   "metadata": {},
   "outputs": [],
   "source": [
    "transform_dir = os.path.join(pathData,'transforms')\n",
    "save_file_path = os.path.join(transform_dir,f'tranformations_{myWell}.pkl') \n",
    "\n",
    "transformation_list = pickle.load(open(save_file_path, \"rb\"))"
   ]
  },
  {
   "cell_type": "code",
   "execution_count": 10,
   "metadata": {},
   "outputs": [
    {
     "data": {
      "text/plain": [
       "3"
      ]
     },
     "execution_count": 10,
     "metadata": {},
     "output_type": "execute_result"
    }
   ],
   "source": [
    "len(transformation_list)"
   ]
  },
  {
   "cell_type": "markdown",
   "metadata": {},
   "source": [
    "## Align images"
   ]
  },
  {
   "cell_type": "code",
   "execution_count": 11,
   "metadata": {},
   "outputs": [
    {
     "data": {
      "application/vnd.jupyter.widget-view+json": {
       "model_id": "92158d8f3cf94e3c863945a2cb1e5954",
       "version_major": 2,
       "version_minor": 0
      },
      "text/plain": [
       "FloatProgress(value=0.0, max=6.0)"
      ]
     },
     "metadata": {},
     "output_type": "display_data"
    },
    {
     "name": "stdout",
     "output_type": "stream",
     "text": [
      "Wall time: 1min 54s\n"
     ]
    }
   ],
   "source": [
    "%%time\n",
    "\n",
    "myProgress = widgets.FloatProgress()\n",
    "myProgress.min=0\n",
    "myProgress.max=len(imList)-1\n",
    "myProgress.value=0\n",
    "display(myProgress)\n",
    "\n",
    "alignedIm=[]\n",
    "\n",
    "# find the transformations\n",
    "\n",
    "for k in range(len(imList)):\n",
    "\n",
    "    tf = transformation_list[int(myData.loc[k,'alignRound'])]\n",
    "    \n",
    "    # align the real image\n",
    "    im_alig = transform.warp(imList[k],tf,output_shape=imList[k].shape)\n",
    "    im_alig[im_alig<0] = 0\n",
    "\n",
    "    alignedIm.append((im_alig*2**16).astype('uint16'))\n",
    "    \n",
    "    myProgress.value = k"
   ]
  },
  {
   "cell_type": "code",
   "execution_count": 12,
   "metadata": {},
   "outputs": [
    {
     "data": {
      "text/plain": [
       "7"
      ]
     },
     "execution_count": 12,
     "metadata": {},
     "output_type": "execute_result"
    }
   ],
   "source": [
    "len(alignedIm)"
   ]
  },
  {
   "cell_type": "markdown",
   "metadata": {},
   "source": [
    "## Save images"
   ]
  },
  {
   "cell_type": "code",
   "execution_count": 14,
   "metadata": {},
   "outputs": [],
   "source": [
    "saveDir = os.path.join(pathData,'aligned_tiffs')"
   ]
  },
  {
   "cell_type": "code",
   "execution_count": 15,
   "metadata": {},
   "outputs": [
    {
     "name": "stdout",
     "output_type": "stream",
     "text": [
      "Directory exists\n"
     ]
    }
   ],
   "source": [
    "try:\n",
    "    os.mkdir(saveDir)\n",
    "    print('Save dir created')\n",
    "except(FileExistsError):\n",
    "    print('Directory exists')"
   ]
  },
  {
   "cell_type": "code",
   "execution_count": 16,
   "metadata": {},
   "outputs": [
    {
     "name": "stdout",
     "output_type": "stream",
     "text": [
      "Wall time: 33.7 s\n"
     ]
    }
   ],
   "source": [
    "%%time\n",
    "\n",
    "# save images\n",
    "\n",
    "for i,myIm in myData.iterrows():\n",
    "    \n",
    "    imsave(os.path.join(saveDir,f'Round_{str(int(myIm.myRound)).zfill(2)}_well{myWell}_{myIm.signal}.tif'),alignedIm[i])"
   ]
  },
  {
   "cell_type": "code",
   "execution_count": 17,
   "metadata": {},
   "outputs": [
    {
     "data": {
      "text/html": [
       "<div>\n",
       "<style scoped>\n",
       "    .dataframe tbody tr th:only-of-type {\n",
       "        vertical-align: middle;\n",
       "    }\n",
       "\n",
       "    .dataframe tbody tr th {\n",
       "        vertical-align: top;\n",
       "    }\n",
       "\n",
       "    .dataframe thead th {\n",
       "        text-align: right;\n",
       "    }\n",
       "</style>\n",
       "<table border=\"1\" class=\"dataframe\">\n",
       "  <thead>\n",
       "    <tr style=\"text-align: right;\">\n",
       "      <th></th>\n",
       "      <th>file</th>\n",
       "      <th>myRound</th>\n",
       "      <th>signal</th>\n",
       "      <th>width</th>\n",
       "      <th>height</th>\n",
       "      <th>alignIm</th>\n",
       "      <th>alignRound</th>\n",
       "    </tr>\n",
       "  </thead>\n",
       "  <tbody>\n",
       "    <tr>\n",
       "      <th>0</th>\n",
       "      <td>WellA3_ChannelHoechst,AF488_Seq1202.nd2</td>\n",
       "      <td>1.0</td>\n",
       "      <td>DNA</td>\n",
       "      <td>16589.0</td>\n",
       "      <td>16590.0</td>\n",
       "      <td>1</td>\n",
       "      <td>0.0</td>\n",
       "    </tr>\n",
       "    <tr>\n",
       "      <th>1</th>\n",
       "      <td>WellA3_ChannelHoechst,AF488_Seq1202.nd2</td>\n",
       "      <td>1.0</td>\n",
       "      <td>bGal</td>\n",
       "      <td>16589.0</td>\n",
       "      <td>16590.0</td>\n",
       "      <td>0</td>\n",
       "      <td>0.0</td>\n",
       "    </tr>\n",
       "    <tr>\n",
       "      <th>2</th>\n",
       "      <td>WellA3_ChannelHoechst,AF555,AF647_Seq0801.nd2</td>\n",
       "      <td>2.0</td>\n",
       "      <td>DNA</td>\n",
       "      <td>16589.0</td>\n",
       "      <td>16590.0</td>\n",
       "      <td>1</td>\n",
       "      <td>1.0</td>\n",
       "    </tr>\n",
       "    <tr>\n",
       "      <th>3</th>\n",
       "      <td>WellA3_ChannelHoechst,AF555,AF647_Seq0801.nd2</td>\n",
       "      <td>2.0</td>\n",
       "      <td>anti_1</td>\n",
       "      <td>16589.0</td>\n",
       "      <td>16590.0</td>\n",
       "      <td>0</td>\n",
       "      <td>1.0</td>\n",
       "    </tr>\n",
       "    <tr>\n",
       "      <th>4</th>\n",
       "      <td>WellA3_ChannelHoechst,AF555,AF647_Seq0801.nd2</td>\n",
       "      <td>2.0</td>\n",
       "      <td>anti_2</td>\n",
       "      <td>16589.0</td>\n",
       "      <td>16590.0</td>\n",
       "      <td>0</td>\n",
       "      <td>1.0</td>\n",
       "    </tr>\n",
       "    <tr>\n",
       "      <th>5</th>\n",
       "      <td>WellA3_ChannelHoechst,AF647_Seq0400.nd2</td>\n",
       "      <td>3.0</td>\n",
       "      <td>DNA</td>\n",
       "      <td>16589.0</td>\n",
       "      <td>16590.0</td>\n",
       "      <td>1</td>\n",
       "      <td>2.0</td>\n",
       "    </tr>\n",
       "    <tr>\n",
       "      <th>6</th>\n",
       "      <td>WellA3_ChannelHoechst,AF647_Seq0400.nd2</td>\n",
       "      <td>3.0</td>\n",
       "      <td>CDK4</td>\n",
       "      <td>16589.0</td>\n",
       "      <td>16590.0</td>\n",
       "      <td>0</td>\n",
       "      <td>2.0</td>\n",
       "    </tr>\n",
       "  </tbody>\n",
       "</table>\n",
       "</div>"
      ],
      "text/plain": [
       "                                            file  myRound  signal    width  \\\n",
       "0        WellA3_ChannelHoechst,AF488_Seq1202.nd2      1.0     DNA  16589.0   \n",
       "1        WellA3_ChannelHoechst,AF488_Seq1202.nd2      1.0    bGal  16589.0   \n",
       "2  WellA3_ChannelHoechst,AF555,AF647_Seq0801.nd2      2.0     DNA  16589.0   \n",
       "3  WellA3_ChannelHoechst,AF555,AF647_Seq0801.nd2      2.0  anti_1  16589.0   \n",
       "4  WellA3_ChannelHoechst,AF555,AF647_Seq0801.nd2      2.0  anti_2  16589.0   \n",
       "5        WellA3_ChannelHoechst,AF647_Seq0400.nd2      3.0     DNA  16589.0   \n",
       "6        WellA3_ChannelHoechst,AF647_Seq0400.nd2      3.0    CDK4  16589.0   \n",
       "\n",
       "    height  alignIm  alignRound  \n",
       "0  16590.0        1         0.0  \n",
       "1  16590.0        0         0.0  \n",
       "2  16590.0        1         1.0  \n",
       "3  16590.0        0         1.0  \n",
       "4  16590.0        0         1.0  \n",
       "5  16590.0        1         2.0  \n",
       "6  16590.0        0         2.0  "
      ]
     },
     "execution_count": 17,
     "metadata": {},
     "output_type": "execute_result"
    }
   ],
   "source": [
    "myData"
   ]
  },
  {
   "cell_type": "code",
   "execution_count": 20,
   "metadata": {},
   "outputs": [
    {
     "name": "stderr",
     "output_type": "stream",
     "text": [
      "C:\\ProgramData\\Anaconda3\\envs\\cellpose\\lib\\site-packages\\napari\\_vispy\\vispy_image_layer.py:186: UserWarning: data shape (16590, 16589) exceeds GL_MAX_TEXTURE_SIZE 16384 in at least one axis and will be downsampled. Rendering is currently in 2D mode.\n",
      "  ndisplay=self.layer._ndisplay,\n"
     ]
    },
    {
     "data": {
      "text/plain": [
       "<Image layer 'Image' at 0x2616cd63a08>"
      ]
     },
     "execution_count": 20,
     "metadata": {},
     "output_type": "execute_result"
    },
    {
     "name": "stderr",
     "output_type": "stream",
     "text": [
      "C:\\ProgramData\\Anaconda3\\envs\\cellpose\\lib\\site-packages\\napari\\_vispy\\vispy_image_layer.py:186: UserWarning: data shape (16590, 16589) exceeds GL_MAX_TEXTURE_SIZE 16384 in at least one axis and will be downsampled. Rendering is currently in 2D mode.\n",
      "  ndisplay=self.layer._ndisplay,\n",
      "C:\\ProgramData\\Anaconda3\\envs\\cellpose\\lib\\site-packages\\napari\\_vispy\\vispy_image_layer.py:186: UserWarning: data shape (16590, 16589) exceeds GL_MAX_TEXTURE_SIZE 16384 in at least one axis and will be downsampled. Rendering is currently in 2D mode.\n",
      "  ndisplay=self.layer._ndisplay,\n",
      "C:\\ProgramData\\Anaconda3\\envs\\cellpose\\lib\\site-packages\\napari\\_vispy\\vispy_image_layer.py:186: UserWarning: data shape (16590, 16589) exceeds GL_MAX_TEXTURE_SIZE 16384 in at least one axis and will be downsampled. Rendering is currently in 2D mode.\n",
      "  ndisplay=self.layer._ndisplay,\n",
      "C:\\ProgramData\\Anaconda3\\envs\\cellpose\\lib\\site-packages\\napari\\_vispy\\vispy_image_layer.py:186: UserWarning: data shape (16590, 16589) exceeds GL_MAX_TEXTURE_SIZE 16384 in at least one axis and will be downsampled. Rendering is currently in 2D mode.\n",
      "  ndisplay=self.layer._ndisplay,\n",
      "C:\\ProgramData\\Anaconda3\\envs\\cellpose\\lib\\site-packages\\napari\\_vispy\\vispy_image_layer.py:186: UserWarning: data shape (16590, 16589) exceeds GL_MAX_TEXTURE_SIZE 16384 in at least one axis and will be downsampled. Rendering is currently in 2D mode.\n",
      "  ndisplay=self.layer._ndisplay,\n",
      "C:\\ProgramData\\Anaconda3\\envs\\cellpose\\lib\\site-packages\\napari\\_vispy\\vispy_image_layer.py:186: UserWarning: data shape (16590, 16589) exceeds GL_MAX_TEXTURE_SIZE 16384 in at least one axis and will be downsampled. Rendering is currently in 2D mode.\n",
      "  ndisplay=self.layer._ndisplay,\n",
      "C:\\ProgramData\\Anaconda3\\envs\\cellpose\\lib\\site-packages\\napari\\_vispy\\vispy_image_layer.py:186: UserWarning: data shape (16590, 16589) exceeds GL_MAX_TEXTURE_SIZE 16384 in at least one axis and will be downsampled. Rendering is currently in 2D mode.\n",
      "  ndisplay=self.layer._ndisplay,\n",
      "C:\\ProgramData\\Anaconda3\\envs\\cellpose\\lib\\site-packages\\napari\\_vispy\\vispy_image_layer.py:186: UserWarning: data shape (16590, 16589) exceeds GL_MAX_TEXTURE_SIZE 16384 in at least one axis and will be downsampled. Rendering is currently in 2D mode.\n",
      "  ndisplay=self.layer._ndisplay,\n",
      "C:\\ProgramData\\Anaconda3\\envs\\cellpose\\lib\\site-packages\\napari\\_vispy\\vispy_image_layer.py:186: UserWarning: data shape (16590, 16589) exceeds GL_MAX_TEXTURE_SIZE 16384 in at least one axis and will be downsampled. Rendering is currently in 2D mode.\n",
      "  ndisplay=self.layer._ndisplay,\n",
      "C:\\ProgramData\\Anaconda3\\envs\\cellpose\\lib\\site-packages\\napari\\_vispy\\vispy_image_layer.py:186: UserWarning: data shape (16590, 16589) exceeds GL_MAX_TEXTURE_SIZE 16384 in at least one axis and will be downsampled. Rendering is currently in 2D mode.\n",
      "  ndisplay=self.layer._ndisplay,\n",
      "C:\\ProgramData\\Anaconda3\\envs\\cellpose\\lib\\site-packages\\napari\\_vispy\\vispy_image_layer.py:186: UserWarning: data shape (16590, 16589) exceeds GL_MAX_TEXTURE_SIZE 16384 in at least one axis and will be downsampled. Rendering is currently in 2D mode.\n",
      "  ndisplay=self.layer._ndisplay,\n",
      "C:\\ProgramData\\Anaconda3\\envs\\cellpose\\lib\\site-packages\\napari\\_vispy\\vispy_image_layer.py:186: UserWarning: data shape (16590, 16589) exceeds GL_MAX_TEXTURE_SIZE 16384 in at least one axis and will be downsampled. Rendering is currently in 2D mode.\n",
      "  ndisplay=self.layer._ndisplay,\n",
      "C:\\ProgramData\\Anaconda3\\envs\\cellpose\\lib\\site-packages\\napari\\_vispy\\vispy_image_layer.py:186: UserWarning: data shape (16590, 16589) exceeds GL_MAX_TEXTURE_SIZE 16384 in at least one axis and will be downsampled. Rendering is currently in 2D mode.\n",
      "  ndisplay=self.layer._ndisplay,\n",
      "C:\\ProgramData\\Anaconda3\\envs\\cellpose\\lib\\site-packages\\napari\\_vispy\\vispy_image_layer.py:186: UserWarning: data shape (16590, 16589) exceeds GL_MAX_TEXTURE_SIZE 16384 in at least one axis and will be downsampled. Rendering is currently in 2D mode.\n",
      "  ndisplay=self.layer._ndisplay,\n",
      "C:\\ProgramData\\Anaconda3\\envs\\cellpose\\lib\\site-packages\\napari\\_vispy\\vispy_image_layer.py:186: UserWarning: data shape (16590, 16589) exceeds GL_MAX_TEXTURE_SIZE 16384 in at least one axis and will be downsampled. Rendering is currently in 2D mode.\n",
      "  ndisplay=self.layer._ndisplay,\n",
      "C:\\ProgramData\\Anaconda3\\envs\\cellpose\\lib\\site-packages\\napari\\_vispy\\vispy_image_layer.py:186: UserWarning: data shape (16590, 16589) exceeds GL_MAX_TEXTURE_SIZE 16384 in at least one axis and will be downsampled. Rendering is currently in 2D mode.\n",
      "  ndisplay=self.layer._ndisplay,\n",
      "C:\\ProgramData\\Anaconda3\\envs\\cellpose\\lib\\site-packages\\napari\\_vispy\\vispy_image_layer.py:186: UserWarning: data shape (16590, 16589) exceeds GL_MAX_TEXTURE_SIZE 16384 in at least one axis and will be downsampled. Rendering is currently in 2D mode.\n",
      "  ndisplay=self.layer._ndisplay,\n",
      "C:\\ProgramData\\Anaconda3\\envs\\cellpose\\lib\\site-packages\\napari\\_vispy\\vispy_image_layer.py:186: UserWarning: data shape (16590, 16589) exceeds GL_MAX_TEXTURE_SIZE 16384 in at least one axis and will be downsampled. Rendering is currently in 2D mode.\n",
      "  ndisplay=self.layer._ndisplay,\n"
     ]
    }
   ],
   "source": [
    "viewer = napari.Viewer()\n",
    "\n",
    "viewer.add_image(np.array(alignedIm))"
   ]
  },
  {
   "cell_type": "code",
   "execution_count": null,
   "metadata": {},
   "outputs": [],
   "source": []
  }
 ],
 "metadata": {
  "kernelspec": {
   "display_name": "Python 3 (ipykernel)",
   "language": "python",
   "name": "python3"
  },
  "language_info": {
   "codemirror_mode": {
    "name": "ipython",
    "version": 3
   },
   "file_extension": ".py",
   "mimetype": "text/x-python",
   "name": "python",
   "nbconvert_exporter": "python",
   "pygments_lexer": "ipython3",
   "version": "3.7.10"
  }
 },
 "nbformat": 4,
 "nbformat_minor": 4
}
