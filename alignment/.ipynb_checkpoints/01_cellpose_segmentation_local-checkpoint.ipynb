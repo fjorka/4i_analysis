{
 "cells": [
  {
   "cell_type": "markdown",
   "metadata": {},
   "source": [
    "## About this notebook"
   ]
  },
  {
   "cell_type": "markdown",
   "metadata": {},
   "source": [
    "This notebook segments files selected for calculating alignment in each round.\n",
    "\n",
    "Input:\n",
    "- pathway to a directory containing selected files for the segmentation (im_to_segment)\n",
    "- list of wells to process\n",
    "\n",
    "Output:\n",
    "- segmented masks of selected channels"
   ]
  },
  {
   "cell_type": "markdown",
   "metadata": {},
   "source": [
    "## Fill in info about the experiment to process"
   ]
  },
  {
   "cell_type": "code",
   "execution_count": 7,
   "metadata": {
    "colab": {
     "base_uri": "https://localhost:8080/"
    },
    "executionInfo": {
     "elapsed": 673,
     "status": "ok",
     "timestamp": 1632407726537,
     "user": {
      "displayName": "Kasia Kedziora",
      "photoUrl": "https://lh3.googleusercontent.com/a-/AOh14GgrQL0MsvECWuGnchGIHhSl1W_pja8hBNRpVtVXRQ=s64",
      "userId": "07632994697540200154"
     },
     "user_tz": 240
    },
    "id": "v2JigGQ5jZ2t",
    "outputId": "9240a63a-06b6-4198-ced4-4aa1690f0db2"
   },
   "outputs": [
    {
     "data": {
      "text/plain": [
       "['34_300k_meso_5.2.nd2', 'results']"
      ]
     },
     "execution_count": 7,
     "metadata": {},
     "output_type": "execute_result"
    }
   ],
   "source": [
    "# define a pathway to a directory that contains images for segmentation (im_to_segment)\n",
    "path_data = r''\n",
    "\n",
    "# list of wells to be processed (usually names as 'A3')\n",
    "well_list = [''] \n",
    "\n",
    "# pathway to a directory to save segmented images\n",
    "path_save = r''\n",
    "\n",
    "# expected diameter of objects for segmentation in pixels (default 30)\n",
    "selected_diameter = 30"
   ]
  },
  {
   "cell_type": "markdown",
   "metadata": {},
   "source": [
    "## Prepare for segmentation"
   ]
  },
  {
   "cell_type": "code",
   "execution_count": 4,
   "metadata": {
    "colab": {
     "base_uri": "https://localhost:8080/"
    },
    "executionInfo": {
     "elapsed": 90927,
     "status": "ok",
     "timestamp": 1632407640398,
     "user": {
      "displayName": "Kasia Kedziora",
      "photoUrl": "https://lh3.googleusercontent.com/a-/AOh14GgrQL0MsvECWuGnchGIHhSl1W_pja8hBNRpVtVXRQ=s64",
      "userId": "07632994697540200154"
     },
     "user_tz": 240
    },
    "id": "dElQxtT7kRmy",
    "outputId": "50e47847-212c-4357-e5fc-5ea311980843"
   },
   "outputs": [
    {
     "name": "stdout",
     "output_type": "stream",
     "text": [
      "creating new log file\n",
      "2021-09-23 14:32:36,202 [INFO] WRITING LOG OUTPUT TO /root/.cellpose/run.log\n",
      "2021-09-23 14:32:36,222 [INFO] Downloading: \"https://www.cellpose.org/models/cyto_0\" to /root/.cellpose/models/cyto_0\n",
      "\n"
     ]
    },
    {
     "name": "stderr",
     "output_type": "stream",
     "text": [
      "100%|██████████| 25.2M/25.2M [00:03<00:00, 8.46MB/s]"
     ]
    },
    {
     "name": "stdout",
     "output_type": "stream",
     "text": [
      "2021-09-23 14:32:40,345 [INFO] Downloading: \"https://www.cellpose.org/models/cyto_1\" to /root/.cellpose/models/cyto_1\n",
      "\n"
     ]
    },
    {
     "name": "stderr",
     "output_type": "stream",
     "text": [
      "\n",
      "100%|██████████| 25.2M/25.2M [00:03<00:00, 8.01MB/s]"
     ]
    },
    {
     "name": "stdout",
     "output_type": "stream",
     "text": [
      "2021-09-23 14:32:44,598 [INFO] Downloading: \"https://www.cellpose.org/models/cyto_2\" to /root/.cellpose/models/cyto_2\n",
      "\n"
     ]
    },
    {
     "name": "stderr",
     "output_type": "stream",
     "text": [
      "\n",
      "100%|██████████| 25.2M/25.2M [00:02<00:00, 8.90MB/s]"
     ]
    },
    {
     "name": "stdout",
     "output_type": "stream",
     "text": [
      "2021-09-23 14:32:48,552 [INFO] Downloading: \"https://www.cellpose.org/models/cyto_3\" to /root/.cellpose/models/cyto_3\n",
      "\n"
     ]
    },
    {
     "name": "stderr",
     "output_type": "stream",
     "text": [
      "\n",
      "100%|██████████| 25.2M/25.2M [00:02<00:00, 8.91MB/s]"
     ]
    },
    {
     "name": "stdout",
     "output_type": "stream",
     "text": [
      "2021-09-23 14:32:52,480 [INFO] Downloading: \"https://www.cellpose.org/models/size_cyto_0.npy\" to /root/.cellpose/models/size_cyto_0.npy\n",
      "\n"
     ]
    },
    {
     "name": "stderr",
     "output_type": "stream",
     "text": [
      "\n",
      "100%|██████████| 3.55k/3.55k [00:00<00:00, 5.59MB/s]"
     ]
    },
    {
     "name": "stdout",
     "output_type": "stream",
     "text": [
      "2021-09-23 14:32:53,254 [INFO] Downloading: \"https://www.cellpose.org/models/cytotorch_0\" to /root/.cellpose/models/cytotorch_0\n",
      "\n"
     ]
    },
    {
     "name": "stderr",
     "output_type": "stream",
     "text": [
      "\n",
      "100%|██████████| 25.3M/25.3M [00:02<00:00, 8.99MB/s]"
     ]
    },
    {
     "name": "stdout",
     "output_type": "stream",
     "text": [
      "2021-09-23 14:32:57,152 [INFO] Downloading: \"https://www.cellpose.org/models/cytotorch_1\" to /root/.cellpose/models/cytotorch_1\n",
      "\n"
     ]
    },
    {
     "name": "stderr",
     "output_type": "stream",
     "text": [
      "\n",
      "100%|██████████| 25.3M/25.3M [00:02<00:00, 8.99MB/s]"
     ]
    },
    {
     "name": "stdout",
     "output_type": "stream",
     "text": [
      "2021-09-23 14:33:01,061 [INFO] Downloading: \"https://www.cellpose.org/models/cytotorch_2\" to /root/.cellpose/models/cytotorch_2\n",
      "\n"
     ]
    },
    {
     "name": "stderr",
     "output_type": "stream",
     "text": [
      "\n",
      "100%|██████████| 25.3M/25.3M [00:02<00:00, 9.04MB/s]\n"
     ]
    },
    {
     "name": "stdout",
     "output_type": "stream",
     "text": [
      "2021-09-23 14:33:04,972 [INFO] Downloading: \"https://www.cellpose.org/models/cytotorch_3\" to /root/.cellpose/models/cytotorch_3\n",
      "\n"
     ]
    },
    {
     "name": "stderr",
     "output_type": "stream",
     "text": [
      "100%|██████████| 25.3M/25.3M [00:02<00:00, 8.97MB/s]\n"
     ]
    },
    {
     "name": "stdout",
     "output_type": "stream",
     "text": [
      "2021-09-23 14:33:08,888 [INFO] Downloading: \"https://www.cellpose.org/models/size_cytotorch_0.npy\" to /root/.cellpose/models/size_cytotorch_0.npy\n",
      "\n"
     ]
    },
    {
     "name": "stderr",
     "output_type": "stream",
     "text": [
      "100%|██████████| 5.23k/5.23k [00:00<00:00, 1.35MB/s]"
     ]
    },
    {
     "name": "stdout",
     "output_type": "stream",
     "text": [
      "2021-09-23 14:33:09,667 [INFO] Downloading: \"https://www.cellpose.org/models/cyto2torch_0\" to /root/.cellpose/models/cyto2torch_0\n",
      "\n"
     ]
    },
    {
     "name": "stderr",
     "output_type": "stream",
     "text": [
      "\n",
      "100%|██████████| 25.3M/25.3M [00:03<00:00, 7.96MB/s]"
     ]
    },
    {
     "name": "stdout",
     "output_type": "stream",
     "text": [
      "2021-09-23 14:33:13,963 [INFO] Downloading: \"https://www.cellpose.org/models/cyto2torch_1\" to /root/.cellpose/models/cyto2torch_1\n",
      "\n"
     ]
    },
    {
     "name": "stderr",
     "output_type": "stream",
     "text": [
      "\n",
      "100%|██████████| 25.3M/25.3M [00:02<00:00, 8.95MB/s]"
     ]
    },
    {
     "name": "stdout",
     "output_type": "stream",
     "text": [
      "2021-09-23 14:33:17,882 [INFO] Downloading: \"https://www.cellpose.org/models/cyto2torch_2\" to /root/.cellpose/models/cyto2torch_2\n",
      "\n"
     ]
    },
    {
     "name": "stderr",
     "output_type": "stream",
     "text": [
      "\n",
      "100%|██████████| 25.3M/25.3M [00:03<00:00, 8.00MB/s]"
     ]
    },
    {
     "name": "stdout",
     "output_type": "stream",
     "text": [
      "2021-09-23 14:33:22,164 [INFO] Downloading: \"https://www.cellpose.org/models/cyto2torch_3\" to /root/.cellpose/models/cyto2torch_3\n",
      "\n"
     ]
    },
    {
     "name": "stderr",
     "output_type": "stream",
     "text": [
      "\n",
      "100%|██████████| 25.3M/25.3M [00:02<00:00, 9.01MB/s]"
     ]
    },
    {
     "name": "stdout",
     "output_type": "stream",
     "text": [
      "2021-09-23 14:33:26,110 [INFO] Downloading: \"https://www.cellpose.org/models/size_cyto2torch_0.npy\" to /root/.cellpose/models/size_cyto2torch_0.npy\n",
      "\n"
     ]
    },
    {
     "name": "stderr",
     "output_type": "stream",
     "text": [
      "\n",
      "100%|██████████| 3.54k/3.54k [00:00<00:00, 7.03MB/s]"
     ]
    },
    {
     "name": "stdout",
     "output_type": "stream",
     "text": [
      "2021-09-23 14:33:26,877 [INFO] Downloading: \"https://www.cellpose.org/models/nuclei_0\" to /root/.cellpose/models/nuclei_0\n",
      "\n"
     ]
    },
    {
     "name": "stderr",
     "output_type": "stream",
     "text": [
      "\n",
      "100%|██████████| 25.2M/25.2M [00:02<00:00, 9.53MB/s]"
     ]
    },
    {
     "name": "stdout",
     "output_type": "stream",
     "text": [
      "2021-09-23 14:33:30,601 [INFO] Downloading: \"https://www.cellpose.org/models/nuclei_1\" to /root/.cellpose/models/nuclei_1\n",
      "\n"
     ]
    },
    {
     "name": "stderr",
     "output_type": "stream",
     "text": [
      "\n",
      "100%|██████████| 25.2M/25.2M [00:02<00:00, 8.99MB/s]"
     ]
    },
    {
     "name": "stdout",
     "output_type": "stream",
     "text": [
      "2021-09-23 14:33:34,488 [INFO] Downloading: \"https://www.cellpose.org/models/nuclei_2\" to /root/.cellpose/models/nuclei_2\n",
      "\n"
     ]
    },
    {
     "name": "stderr",
     "output_type": "stream",
     "text": [
      "\n",
      "100%|██████████| 25.2M/25.2M [00:03<00:00, 8.44MB/s]"
     ]
    },
    {
     "name": "stdout",
     "output_type": "stream",
     "text": [
      "2021-09-23 14:33:38,576 [INFO] Downloading: \"https://www.cellpose.org/models/nuclei_3\" to /root/.cellpose/models/nuclei_3\n",
      "\n"
     ]
    },
    {
     "name": "stderr",
     "output_type": "stream",
     "text": [
      "\n",
      "100%|██████████| 25.2M/25.2M [00:02<00:00, 8.94MB/s]"
     ]
    },
    {
     "name": "stdout",
     "output_type": "stream",
     "text": [
      "2021-09-23 14:33:42,477 [INFO] Downloading: \"https://www.cellpose.org/models/size_nuclei_0.npy\" to /root/.cellpose/models/size_nuclei_0.npy\n",
      "\n"
     ]
    },
    {
     "name": "stderr",
     "output_type": "stream",
     "text": [
      "\n",
      "100%|██████████| 3.55k/3.55k [00:00<00:00, 4.86MB/s]"
     ]
    },
    {
     "name": "stdout",
     "output_type": "stream",
     "text": [
      "2021-09-23 14:33:43,241 [INFO] Downloading: \"https://www.cellpose.org/models/nucleitorch_0\" to /root/.cellpose/models/nucleitorch_0\n",
      "\n"
     ]
    },
    {
     "name": "stderr",
     "output_type": "stream",
     "text": [
      "\n",
      "100%|██████████| 25.3M/25.3M [00:03<00:00, 8.49MB/s]"
     ]
    },
    {
     "name": "stdout",
     "output_type": "stream",
     "text": [
      "2021-09-23 14:33:47,352 [INFO] Downloading: \"https://www.cellpose.org/models/nucleitorch_1\" to /root/.cellpose/models/nucleitorch_1\n",
      "\n"
     ]
    },
    {
     "name": "stderr",
     "output_type": "stream",
     "text": [
      "\n",
      "100%|██████████| 25.3M/25.3M [00:03<00:00, 7.99MB/s]"
     ]
    },
    {
     "name": "stdout",
     "output_type": "stream",
     "text": [
      "2021-09-23 14:33:51,623 [INFO] Downloading: \"https://www.cellpose.org/models/nucleitorch_2\" to /root/.cellpose/models/nucleitorch_2\n",
      "\n"
     ]
    },
    {
     "name": "stderr",
     "output_type": "stream",
     "text": [
      "\n",
      "100%|██████████| 25.3M/25.3M [00:03<00:00, 8.46MB/s]"
     ]
    },
    {
     "name": "stdout",
     "output_type": "stream",
     "text": [
      "2021-09-23 14:33:55,713 [INFO] Downloading: \"https://www.cellpose.org/models/nucleitorch_3\" to /root/.cellpose/models/nucleitorch_3\n",
      "\n"
     ]
    },
    {
     "name": "stderr",
     "output_type": "stream",
     "text": [
      "\n",
      "100%|██████████| 25.3M/25.3M [00:03<00:00, 8.45MB/s]"
     ]
    },
    {
     "name": "stdout",
     "output_type": "stream",
     "text": [
      "2021-09-23 14:33:59,802 [INFO] Downloading: \"https://www.cellpose.org/models/size_nucleitorch_0.npy\" to /root/.cellpose/models/size_nucleitorch_0.npy\n",
      "\n"
     ]
    },
    {
     "name": "stderr",
     "output_type": "stream",
     "text": [
      "\n",
      "100%|██████████| 3.54k/3.54k [00:00<00:00, 4.59MB/s]\n"
     ]
    }
   ],
   "source": [
    "import os\n",
    "from tifffile import imread\n",
    "from skimage.io import imsave \n",
    "\n",
    "from cellpose import models"
   ]
  },
  {
   "cell_type": "code",
   "execution_count": 12,
   "metadata": {
    "colab": {
     "base_uri": "https://localhost:8080/"
    },
    "executionInfo": {
     "elapsed": 251,
     "status": "ok",
     "timestamp": 1632407817938,
     "user": {
      "displayName": "Kasia Kedziora",
      "photoUrl": "https://lh3.googleusercontent.com/a-/AOh14GgrQL0MsvECWuGnchGIHhSl1W_pja8hBNRpVtVXRQ=s64",
      "userId": "07632994697540200154"
     },
     "user_tz": 240
    },
    "id": "1hLE2oydpUwk",
    "outputId": "63900649-c83b-443d-d5d2-4e8aa3cebb64"
   },
   "outputs": [
    {
     "name": "stdout",
     "output_type": "stream",
     "text": [
      "Directory not created.\n"
     ]
    }
   ],
   "source": [
    "try:\n",
    "    os.mkdir(save_dir)\n",
    "    print('Directory for saving created.')\n",
    "except:\n",
    "    print('Directory not created.')"
   ]
  },
  {
   "cell_type": "code",
   "execution_count": 9,
   "metadata": {
    "colab": {
     "base_uri": "https://localhost:8080/"
    },
    "executionInfo": {
     "elapsed": 8945,
     "status": "ok",
     "timestamp": 1632407738389,
     "user": {
      "displayName": "Kasia Kedziora",
      "photoUrl": "https://lh3.googleusercontent.com/a-/AOh14GgrQL0MsvECWuGnchGIHhSl1W_pja8hBNRpVtVXRQ=s64",
      "userId": "07632994697540200154"
     },
     "user_tz": 240
    },
    "id": "kBhvHNRUljgD",
    "outputId": "1d9e0419-70b4-4bdd-b3a0-44a9076a37e9"
   },
   "outputs": [
    {
     "name": "stdout",
     "output_type": "stream",
     "text": [
      "2021-09-23 14:35:38,607 [INFO] ** TORCH CUDA version installed and working. **\n",
      "2021-09-23 14:35:38,608 [INFO] >>>> using GPU\n"
     ]
    }
   ],
   "source": [
    "# load cellpose model\n",
    "model = models.Cellpose(gpu=True, model_type='cyto')"
   ]
  },
  {
   "cell_type": "markdown",
   "metadata": {},
   "source": [
    "## Process selected wells"
   ]
  },
  {
   "cell_type": "code",
   "execution_count": 13,
   "metadata": {
    "colab": {
     "base_uri": "https://localhost:8080/",
     "height": 0
    },
    "executionInfo": {
     "elapsed": 5119622,
     "status": "error",
     "timestamp": 1632412941120,
     "user": {
      "displayName": "Kasia Kedziora",
      "photoUrl": "https://lh3.googleusercontent.com/a-/AOh14GgrQL0MsvECWuGnchGIHhSl1W_pja8hBNRpVtVXRQ=s64",
      "userId": "07632994697540200154"
     },
     "user_tz": 240
    },
    "id": "SOG4BDuKpIO0",
    "outputId": "5aabfcb5-b94c-45f7-b969-05b228d1743c"
   },
   "outputs": [
    {
     "name": "stdout",
     "output_type": "stream",
     "text": [
      "2021-09-23 14:37:01,915 [INFO] ~~~ FINDING MASKS ~~~\n"
     ]
    },
    {
     "name": "stderr",
     "output_type": "stream",
     "text": [
      "/usr/local/lib/python3.7/dist-packages/torch/nn/functional.py:3982: UserWarning: Default grid_sample and affine_grid behavior has changed to align_corners=False since 1.3.0. Please specify align_corners=True if the old behavior is desired. See the documentation of grid_sample for details.\n",
      "  \"Default grid_sample and affine_grid behavior has changed \"\n"
     ]
    },
    {
     "name": "stdout",
     "output_type": "stream",
     "text": [
      "2021-09-23 14:37:16,929 [INFO] >>>> TOTAL TIME 15.01 sec\n"
     ]
    },
    {
     "name": "stderr",
     "output_type": "stream",
     "text": [
      "/usr/local/lib/python3.7/dist-packages/ipykernel_launcher.py:17: UserWarning: /content/drive/MyDrive/data_test/sonja/results/34_300k_meso_5.2_0697_labels.png is a low contrast image\n"
     ]
    },
    {
     "name": "stdout",
     "output_type": "stream",
     "text": [
      "2021-09-23 14:37:17,933 [INFO] ~~~ FINDING MASKS ~~~\n",
      "2021-09-23 14:37:32,945 [INFO] >>>> TOTAL TIME 15.01 sec\n"
     ]
    },
    {
     "name": "stderr",
     "output_type": "stream",
     "text": [
      "/usr/local/lib/python3.7/dist-packages/ipykernel_launcher.py:17: UserWarning: /content/drive/MyDrive/data_test/sonja/results/34_300k_meso_5.2_0698_labels.png is a low contrast image\n"
     ]
    },
    {
     "name": "stdout",
     "output_type": "stream",
     "text": [
      "2021-09-23 14:37:33,817 [INFO] ~~~ FINDING MASKS ~~~\n",
      "2021-09-23 14:37:48,697 [INFO] >>>> TOTAL TIME 14.88 sec\n",
      "2021-09-23 14:37:48,868 [INFO] ~~~ FINDING MASKS ~~~\n"
     ]
    },
    {
     "name": "stderr",
     "output_type": "stream",
     "text": [
      "/usr/local/lib/python3.7/dist-packages/ipykernel_launcher.py:17: UserWarning: /content/drive/MyDrive/data_test/sonja/results/34_300k_meso_5.2_0699_labels.png is a low contrast image\n"
     ]
    },
    {
     "name": "stdout",
     "output_type": "stream",
     "text": [
      "2021-09-23 14:38:03,850 [INFO] >>>> TOTAL TIME 14.98 sec\n",
      "2021-09-23 14:38:04,031 [INFO] ~~~ FINDING MASKS ~~~\n"
     ]
    },
    {
     "name": "stderr",
     "output_type": "stream",
     "text": [
      "/usr/local/lib/python3.7/dist-packages/ipykernel_launcher.py:17: UserWarning: /content/drive/MyDrive/data_test/sonja/results/34_300k_meso_5.2_0700_labels.png is a low contrast image\n"
     ]
    },
    {
     "name": "stdout",
     "output_type": "stream",
     "text": [
      "2021-09-23 14:38:19,132 [INFO] >>>> TOTAL TIME 15.10 sec\n",
      "2021-09-23 14:38:19,312 [INFO] ~~~ FINDING MASKS ~~~\n"
     ]
    },
    {
     "name": "stderr",
     "output_type": "stream",
     "text": [
      "/usr/local/lib/python3.7/dist-packages/ipykernel_launcher.py:17: UserWarning: /content/drive/MyDrive/data_test/sonja/results/34_300k_meso_5.2_0701_labels.png is a low contrast image\n"
     ]
    },
    {
     "name": "stdout",
     "output_type": "stream",
     "text": [
      "2021-09-23 14:38:34,403 [INFO] >>>> TOTAL TIME 15.09 sec\n",
      "2021-09-23 14:38:34,592 [INFO] ~~~ FINDING MASKS ~~~\n"
     ]
    },
    {
     "name": "stderr",
     "output_type": "stream",
     "text": [
      "/usr/local/lib/python3.7/dist-packages/ipykernel_launcher.py:17: UserWarning: /content/drive/MyDrive/data_test/sonja/results/34_300k_meso_5.2_0702_labels.png is a low contrast image\n"
     ]
    },
    {
     "name": "stdout",
     "output_type": "stream",
     "text": [
      "2021-09-23 14:38:49,637 [INFO] >>>> TOTAL TIME 15.05 sec\n",
      "2021-09-23 14:38:49,806 [INFO] ~~~ FINDING MASKS ~~~\n"
     ]
    },
    {
     "name": "stderr",
     "output_type": "stream",
     "text": [
      "/usr/local/lib/python3.7/dist-packages/ipykernel_launcher.py:17: UserWarning: /content/drive/MyDrive/data_test/sonja/results/34_300k_meso_5.2_0703_labels.png is a low contrast image\n"
     ]
    },
    {
     "name": "stdout",
     "output_type": "stream",
     "text": [
      "2021-09-23 14:39:04,861 [INFO] >>>> TOTAL TIME 15.06 sec\n",
      "2021-09-23 14:39:05,031 [INFO] ~~~ FINDING MASKS ~~~\n"
     ]
    },
    {
     "name": "stderr",
     "output_type": "stream",
     "text": [
      "/usr/local/lib/python3.7/dist-packages/ipykernel_launcher.py:17: UserWarning: /content/drive/MyDrive/data_test/sonja/results/34_300k_meso_5.2_0704_labels.png is a low contrast image\n"
     ]
    },
    {
     "name": "stdout",
     "output_type": "stream",
     "text": [
      "2021-09-23 14:39:20,067 [INFO] >>>> TOTAL TIME 15.04 sec\n",
      "2021-09-23 14:39:20,237 [INFO] ~~~ FINDING MASKS ~~~\n"
     ]
    },
    {
     "name": "stderr",
     "output_type": "stream",
     "text": [
      "/usr/local/lib/python3.7/dist-packages/ipykernel_launcher.py:17: UserWarning: /content/drive/MyDrive/data_test/sonja/results/34_300k_meso_5.2_0705_labels.png is a low contrast image\n"
     ]
    },
    {
     "name": "stdout",
     "output_type": "stream",
     "text": [
      "2021-09-23 14:39:35,294 [INFO] >>>> TOTAL TIME 15.06 sec\n",
      "2021-09-23 14:39:35,472 [INFO] ~~~ FINDING MASKS ~~~\n"
     ]
    },
    {
     "name": "stderr",
     "output_type": "stream",
     "text": [
      "/usr/local/lib/python3.7/dist-packages/ipykernel_launcher.py:17: UserWarning: /content/drive/MyDrive/data_test/sonja/results/34_300k_meso_5.2_0706_labels.png is a low contrast image\n"
     ]
    },
    {
     "name": "stdout",
     "output_type": "stream",
     "text": [
      "2021-09-23 14:39:50,573 [INFO] >>>> TOTAL TIME 15.10 sec\n",
      "2021-09-23 14:39:50,743 [INFO] ~~~ FINDING MASKS ~~~\n"
     ]
    },
    {
     "name": "stderr",
     "output_type": "stream",
     "text": [
      "/usr/local/lib/python3.7/dist-packages/ipykernel_launcher.py:17: UserWarning: /content/drive/MyDrive/data_test/sonja/results/34_300k_meso_5.2_0707_labels.png is a low contrast image\n"
     ]
    },
    {
     "name": "stdout",
     "output_type": "stream",
     "text": [
      "2021-09-23 14:40:05,842 [INFO] >>>> TOTAL TIME 15.10 sec\n",
      "2021-09-23 14:40:06,013 [INFO] ~~~ FINDING MASKS ~~~\n"
     ]
    },
    {
     "name": "stderr",
     "output_type": "stream",
     "text": [
      "/usr/local/lib/python3.7/dist-packages/ipykernel_launcher.py:17: UserWarning: /content/drive/MyDrive/data_test/sonja/results/34_300k_meso_5.2_0708_labels.png is a low contrast image\n"
     ]
    },
    {
     "name": "stdout",
     "output_type": "stream",
     "text": [
      "2021-09-23 14:40:21,176 [INFO] >>>> TOTAL TIME 15.16 sec\n",
      "2021-09-23 14:40:21,358 [INFO] ~~~ FINDING MASKS ~~~\n"
     ]
    },
    {
     "name": "stderr",
     "output_type": "stream",
     "text": [
      "/usr/local/lib/python3.7/dist-packages/ipykernel_launcher.py:17: UserWarning: /content/drive/MyDrive/data_test/sonja/results/34_300k_meso_5.2_0709_labels.png is a low contrast image\n"
     ]
    },
    {
     "name": "stdout",
     "output_type": "stream",
     "text": [
      "2021-09-23 14:40:36,481 [INFO] >>>> TOTAL TIME 15.12 sec\n",
      "2021-09-23 14:40:36,654 [INFO] ~~~ FINDING MASKS ~~~\n"
     ]
    },
    {
     "name": "stderr",
     "output_type": "stream",
     "text": [
      "/usr/local/lib/python3.7/dist-packages/ipykernel_launcher.py:17: UserWarning: /content/drive/MyDrive/data_test/sonja/results/34_300k_meso_5.2_0710_labels.png is a low contrast image\n"
     ]
    },
    {
     "name": "stdout",
     "output_type": "stream",
     "text": [
      "2021-09-23 14:40:51,709 [INFO] >>>> TOTAL TIME 15.05 sec\n",
      "2021-09-23 14:40:51,873 [INFO] ~~~ FINDING MASKS ~~~\n"
     ]
    },
    {
     "name": "stderr",
     "output_type": "stream",
     "text": [
      "/usr/local/lib/python3.7/dist-packages/ipykernel_launcher.py:17: UserWarning: /content/drive/MyDrive/data_test/sonja/results/34_300k_meso_5.2_0711_labels.png is a low contrast image\n"
     ]
    },
    {
     "name": "stdout",
     "output_type": "stream",
     "text": [
      "2021-09-23 14:41:06,898 [INFO] >>>> TOTAL TIME 15.02 sec\n",
      "2021-09-23 14:41:07,063 [INFO] ~~~ FINDING MASKS ~~~\n"
     ]
    },
    {
     "name": "stderr",
     "output_type": "stream",
     "text": [
      "/usr/local/lib/python3.7/dist-packages/ipykernel_launcher.py:17: UserWarning: /content/drive/MyDrive/data_test/sonja/results/34_300k_meso_5.2_0712_labels.png is a low contrast image\n"
     ]
    },
    {
     "name": "stdout",
     "output_type": "stream",
     "text": [
      "2021-09-23 14:41:22,043 [INFO] >>>> TOTAL TIME 14.98 sec\n",
      "2021-09-23 14:41:22,202 [INFO] ~~~ FINDING MASKS ~~~\n"
     ]
    },
    {
     "name": "stderr",
     "output_type": "stream",
     "text": [
      "/usr/local/lib/python3.7/dist-packages/ipykernel_launcher.py:17: UserWarning: /content/drive/MyDrive/data_test/sonja/results/34_300k_meso_5.2_0713_labels.png is a low contrast image\n"
     ]
    },
    {
     "name": "stdout",
     "output_type": "stream",
     "text": [
      "2021-09-23 14:41:37,140 [INFO] >>>> TOTAL TIME 14.94 sec\n",
      "2021-09-23 14:41:37,298 [INFO] ~~~ FINDING MASKS ~~~\n"
     ]
    },
    {
     "name": "stderr",
     "output_type": "stream",
     "text": [
      "/usr/local/lib/python3.7/dist-packages/ipykernel_launcher.py:17: UserWarning: /content/drive/MyDrive/data_test/sonja/results/34_300k_meso_5.2_0714_labels.png is a low contrast image\n"
     ]
    },
    {
     "name": "stdout",
     "output_type": "stream",
     "text": [
      "2021-09-23 14:41:52,307 [INFO] >>>> TOTAL TIME 15.01 sec\n",
      "2021-09-23 14:41:52,496 [INFO] ~~~ FINDING MASKS ~~~\n"
     ]
    },
    {
     "name": "stderr",
     "output_type": "stream",
     "text": [
      "/usr/local/lib/python3.7/dist-packages/ipykernel_launcher.py:17: UserWarning: /content/drive/MyDrive/data_test/sonja/results/34_300k_meso_5.2_0715_labels.png is a low contrast image\n"
     ]
    },
    {
     "name": "stdout",
     "output_type": "stream",
     "text": [
      "2021-09-23 14:42:07,480 [INFO] >>>> TOTAL TIME 14.98 sec\n",
      "2021-09-23 14:42:07,648 [INFO] ~~~ FINDING MASKS ~~~\n"
     ]
    },
    {
     "name": "stderr",
     "output_type": "stream",
     "text": [
      "/usr/local/lib/python3.7/dist-packages/ipykernel_launcher.py:17: UserWarning: /content/drive/MyDrive/data_test/sonja/results/34_300k_meso_5.2_0716_labels.png is a low contrast image\n"
     ]
    },
    {
     "name": "stdout",
     "output_type": "stream",
     "text": [
      "2021-09-23 14:42:22,611 [INFO] >>>> TOTAL TIME 14.96 sec\n",
      "2021-09-23 14:42:22,777 [INFO] ~~~ FINDING MASKS ~~~\n"
     ]
    },
    {
     "name": "stderr",
     "output_type": "stream",
     "text": [
      "/usr/local/lib/python3.7/dist-packages/ipykernel_launcher.py:17: UserWarning: /content/drive/MyDrive/data_test/sonja/results/34_300k_meso_5.2_0717_labels.png is a low contrast image\n"
     ]
    },
    {
     "name": "stdout",
     "output_type": "stream",
     "text": [
      "2021-09-23 14:42:37,743 [INFO] >>>> TOTAL TIME 14.97 sec\n",
      "2021-09-23 14:42:37,912 [INFO] ~~~ FINDING MASKS ~~~\n"
     ]
    },
    {
     "name": "stderr",
     "output_type": "stream",
     "text": [
      "/usr/local/lib/python3.7/dist-packages/ipykernel_launcher.py:17: UserWarning: /content/drive/MyDrive/data_test/sonja/results/34_300k_meso_5.2_0718_labels.png is a low contrast image\n"
     ]
    },
    {
     "name": "stdout",
     "output_type": "stream",
     "text": [
      "2021-09-23 14:42:52,862 [INFO] >>>> TOTAL TIME 14.95 sec\n",
      "2021-09-23 14:42:53,022 [INFO] ~~~ FINDING MASKS ~~~\n"
     ]
    },
    {
     "name": "stderr",
     "output_type": "stream",
     "text": [
      "/usr/local/lib/python3.7/dist-packages/ipykernel_launcher.py:17: UserWarning: /content/drive/MyDrive/data_test/sonja/results/34_300k_meso_5.2_0719_labels.png is a low contrast image\n"
     ]
    },
    {
     "name": "stdout",
     "output_type": "stream",
     "text": [
      "2021-09-23 14:43:07,988 [INFO] >>>> TOTAL TIME 14.97 sec\n",
      "2021-09-23 14:43:08,148 [INFO] ~~~ FINDING MASKS ~~~\n"
     ]
    },
    {
     "name": "stderr",
     "output_type": "stream",
     "text": [
      "/usr/local/lib/python3.7/dist-packages/ipykernel_launcher.py:17: UserWarning: /content/drive/MyDrive/data_test/sonja/results/34_300k_meso_5.2_0720_labels.png is a low contrast image\n"
     ]
    },
    {
     "name": "stdout",
     "output_type": "stream",
     "text": [
      "2021-09-23 14:43:23,076 [INFO] >>>> TOTAL TIME 14.93 sec\n",
      "2021-09-23 14:43:23,241 [INFO] ~~~ FINDING MASKS ~~~\n"
     ]
    },
    {
     "name": "stderr",
     "output_type": "stream",
     "text": [
      "/usr/local/lib/python3.7/dist-packages/ipykernel_launcher.py:17: UserWarning: /content/drive/MyDrive/data_test/sonja/results/34_300k_meso_5.2_0721_labels.png is a low contrast image\n"
     ]
    },
    {
     "name": "stdout",
     "output_type": "stream",
     "text": [
      "2021-09-23 14:43:38,172 [INFO] >>>> TOTAL TIME 14.93 sec\n",
      "2021-09-23 14:43:38,337 [INFO] ~~~ FINDING MASKS ~~~\n"
     ]
    },
    {
     "name": "stderr",
     "output_type": "stream",
     "text": [
      "/usr/local/lib/python3.7/dist-packages/ipykernel_launcher.py:17: UserWarning: /content/drive/MyDrive/data_test/sonja/results/34_300k_meso_5.2_0722_labels.png is a low contrast image\n"
     ]
    },
    {
     "name": "stdout",
     "output_type": "stream",
     "text": [
      "2021-09-23 14:43:53,257 [INFO] >>>> TOTAL TIME 14.92 sec\n",
      "2021-09-23 14:43:53,413 [INFO] ~~~ FINDING MASKS ~~~\n"
     ]
    },
    {
     "name": "stderr",
     "output_type": "stream",
     "text": [
      "/usr/local/lib/python3.7/dist-packages/ipykernel_launcher.py:17: UserWarning: /content/drive/MyDrive/data_test/sonja/results/34_300k_meso_5.2_0723_labels.png is a low contrast image\n"
     ]
    },
    {
     "name": "stdout",
     "output_type": "stream",
     "text": [
      "2021-09-23 14:44:08,327 [INFO] >>>> TOTAL TIME 14.91 sec\n",
      "2021-09-23 14:44:08,500 [INFO] ~~~ FINDING MASKS ~~~\n"
     ]
    },
    {
     "name": "stderr",
     "output_type": "stream",
     "text": [
      "/usr/local/lib/python3.7/dist-packages/ipykernel_launcher.py:17: UserWarning: /content/drive/MyDrive/data_test/sonja/results/34_300k_meso_5.2_0724_labels.png is a low contrast image\n"
     ]
    },
    {
     "name": "stdout",
     "output_type": "stream",
     "text": [
      "2021-09-23 14:44:23,450 [INFO] >>>> TOTAL TIME 14.95 sec\n",
      "2021-09-23 14:44:23,607 [INFO] ~~~ FINDING MASKS ~~~\n"
     ]
    },
    {
     "name": "stderr",
     "output_type": "stream",
     "text": [
      "/usr/local/lib/python3.7/dist-packages/ipykernel_launcher.py:17: UserWarning: /content/drive/MyDrive/data_test/sonja/results/34_300k_meso_5.2_0725_labels.png is a low contrast image\n"
     ]
    },
    {
     "name": "stdout",
     "output_type": "stream",
     "text": [
      "2021-09-23 14:44:38,583 [INFO] >>>> TOTAL TIME 14.98 sec\n",
      "2021-09-23 14:44:38,742 [INFO] ~~~ FINDING MASKS ~~~\n"
     ]
    },
    {
     "name": "stderr",
     "output_type": "stream",
     "text": [
      "/usr/local/lib/python3.7/dist-packages/ipykernel_launcher.py:17: UserWarning: /content/drive/MyDrive/data_test/sonja/results/34_300k_meso_5.2_0726_labels.png is a low contrast image\n"
     ]
    },
    {
     "name": "stdout",
     "output_type": "stream",
     "text": [
      "2021-09-23 14:44:53,666 [INFO] >>>> TOTAL TIME 14.92 sec\n",
      "2021-09-23 14:44:53,820 [INFO] ~~~ FINDING MASKS ~~~\n"
     ]
    },
    {
     "name": "stderr",
     "output_type": "stream",
     "text": [
      "/usr/local/lib/python3.7/dist-packages/ipykernel_launcher.py:17: UserWarning: /content/drive/MyDrive/data_test/sonja/results/34_300k_meso_5.2_0727_labels.png is a low contrast image\n"
     ]
    },
    {
     "name": "stdout",
     "output_type": "stream",
     "text": [
      "2021-09-23 14:45:08,704 [INFO] >>>> TOTAL TIME 14.88 sec\n",
      "2021-09-23 14:45:08,860 [INFO] ~~~ FINDING MASKS ~~~\n"
     ]
    },
    {
     "name": "stderr",
     "output_type": "stream",
     "text": [
      "/usr/local/lib/python3.7/dist-packages/ipykernel_launcher.py:17: UserWarning: /content/drive/MyDrive/data_test/sonja/results/34_300k_meso_5.2_0728_labels.png is a low contrast image\n"
     ]
    },
    {
     "name": "stdout",
     "output_type": "stream",
     "text": [
      "2021-09-23 14:45:23,702 [INFO] >>>> TOTAL TIME 14.84 sec\n",
      "2021-09-23 14:45:23,856 [INFO] ~~~ FINDING MASKS ~~~\n"
     ]
    },
    {
     "name": "stderr",
     "output_type": "stream",
     "text": [
      "/usr/local/lib/python3.7/dist-packages/ipykernel_launcher.py:17: UserWarning: /content/drive/MyDrive/data_test/sonja/results/34_300k_meso_5.2_0729_labels.png is a low contrast image\n"
     ]
    },
    {
     "name": "stdout",
     "output_type": "stream",
     "text": [
      "2021-09-23 14:45:38,682 [INFO] >>>> TOTAL TIME 14.83 sec\n",
      "2021-09-23 14:45:38,828 [INFO] ~~~ FINDING MASKS ~~~\n"
     ]
    },
    {
     "name": "stderr",
     "output_type": "stream",
     "text": [
      "/usr/local/lib/python3.7/dist-packages/ipykernel_launcher.py:17: UserWarning: /content/drive/MyDrive/data_test/sonja/results/34_300k_meso_5.2_0730_labels.png is a low contrast image\n"
     ]
    },
    {
     "name": "stdout",
     "output_type": "stream",
     "text": [
      "2021-09-23 14:45:53,759 [INFO] >>>> TOTAL TIME 14.93 sec\n",
      "2021-09-23 14:45:53,907 [INFO] ~~~ FINDING MASKS ~~~\n"
     ]
    },
    {
     "name": "stderr",
     "output_type": "stream",
     "text": [
      "/usr/local/lib/python3.7/dist-packages/ipykernel_launcher.py:17: UserWarning: /content/drive/MyDrive/data_test/sonja/results/34_300k_meso_5.2_0731_labels.png is a low contrast image\n"
     ]
    },
    {
     "name": "stdout",
     "output_type": "stream",
     "text": [
      "2021-09-23 14:46:08,841 [INFO] >>>> TOTAL TIME 14.93 sec\n",
      "2021-09-23 14:46:08,995 [INFO] ~~~ FINDING MASKS ~~~\n"
     ]
    },
    {
     "name": "stderr",
     "output_type": "stream",
     "text": [
      "/usr/local/lib/python3.7/dist-packages/ipykernel_launcher.py:17: UserWarning: /content/drive/MyDrive/data_test/sonja/results/34_300k_meso_5.2_0732_labels.png is a low contrast image\n"
     ]
    },
    {
     "name": "stdout",
     "output_type": "stream",
     "text": [
      "2021-09-23 14:46:23,935 [INFO] >>>> TOTAL TIME 14.94 sec\n",
      "2021-09-23 14:46:24,083 [INFO] ~~~ FINDING MASKS ~~~\n"
     ]
    },
    {
     "name": "stderr",
     "output_type": "stream",
     "text": [
      "/usr/local/lib/python3.7/dist-packages/ipykernel_launcher.py:17: UserWarning: /content/drive/MyDrive/data_test/sonja/results/34_300k_meso_5.2_0733_labels.png is a low contrast image\n"
     ]
    },
    {
     "name": "stdout",
     "output_type": "stream",
     "text": [
      "2021-09-23 14:46:39,042 [INFO] >>>> TOTAL TIME 14.96 sec\n",
      "2021-09-23 14:46:39,191 [INFO] ~~~ FINDING MASKS ~~~\n"
     ]
    },
    {
     "name": "stderr",
     "output_type": "stream",
     "text": [
      "/usr/local/lib/python3.7/dist-packages/ipykernel_launcher.py:17: UserWarning: /content/drive/MyDrive/data_test/sonja/results/34_300k_meso_5.2_0734_labels.png is a low contrast image\n"
     ]
    },
    {
     "name": "stdout",
     "output_type": "stream",
     "text": [
      "2021-09-23 14:46:54,103 [INFO] >>>> TOTAL TIME 14.91 sec\n",
      "2021-09-23 14:46:54,247 [INFO] ~~~ FINDING MASKS ~~~\n"
     ]
    },
    {
     "name": "stderr",
     "output_type": "stream",
     "text": [
      "/usr/local/lib/python3.7/dist-packages/ipykernel_launcher.py:17: UserWarning: /content/drive/MyDrive/data_test/sonja/results/34_300k_meso_5.2_0735_labels.png is a low contrast image\n"
     ]
    },
    {
     "name": "stdout",
     "output_type": "stream",
     "text": [
      "2021-09-23 14:47:09,121 [INFO] >>>> TOTAL TIME 14.87 sec\n",
      "2021-09-23 14:47:09,261 [INFO] ~~~ FINDING MASKS ~~~\n"
     ]
    },
    {
     "name": "stderr",
     "output_type": "stream",
     "text": [
      "/usr/local/lib/python3.7/dist-packages/ipykernel_launcher.py:17: UserWarning: /content/drive/MyDrive/data_test/sonja/results/34_300k_meso_5.2_0736_labels.png is a low contrast image\n"
     ]
    },
    {
     "name": "stdout",
     "output_type": "stream",
     "text": [
      "2021-09-23 14:47:24,138 [INFO] >>>> TOTAL TIME 14.88 sec\n",
      "2021-09-23 14:47:24,286 [INFO] ~~~ FINDING MASKS ~~~\n"
     ]
    },
    {
     "name": "stderr",
     "output_type": "stream",
     "text": [
      "/usr/local/lib/python3.7/dist-packages/ipykernel_launcher.py:17: UserWarning: /content/drive/MyDrive/data_test/sonja/results/34_300k_meso_5.2_0737_labels.png is a low contrast image\n"
     ]
    },
    {
     "name": "stdout",
     "output_type": "stream",
     "text": [
      "2021-09-23 14:47:39,195 [INFO] >>>> TOTAL TIME 14.91 sec\n",
      "2021-09-23 14:47:39,352 [INFO] ~~~ FINDING MASKS ~~~\n"
     ]
    },
    {
     "name": "stderr",
     "output_type": "stream",
     "text": [
      "/usr/local/lib/python3.7/dist-packages/ipykernel_launcher.py:17: UserWarning: /content/drive/MyDrive/data_test/sonja/results/34_300k_meso_5.2_0738_labels.png is a low contrast image\n"
     ]
    },
    {
     "name": "stdout",
     "output_type": "stream",
     "text": [
      "2021-09-23 14:47:54,337 [INFO] >>>> TOTAL TIME 14.99 sec\n",
      "2021-09-23 14:47:54,509 [INFO] ~~~ FINDING MASKS ~~~\n"
     ]
    },
    {
     "name": "stderr",
     "output_type": "stream",
     "text": [
      "/usr/local/lib/python3.7/dist-packages/ipykernel_launcher.py:17: UserWarning: /content/drive/MyDrive/data_test/sonja/results/34_300k_meso_5.2_0739_labels.png is a low contrast image\n"
     ]
    },
    {
     "name": "stdout",
     "output_type": "stream",
     "text": [
      "2021-09-23 14:48:09,399 [INFO] >>>> TOTAL TIME 14.89 sec\n",
      "2021-09-23 14:48:09,552 [INFO] ~~~ FINDING MASKS ~~~\n"
     ]
    },
    {
     "name": "stderr",
     "output_type": "stream",
     "text": [
      "/usr/local/lib/python3.7/dist-packages/ipykernel_launcher.py:17: UserWarning: /content/drive/MyDrive/data_test/sonja/results/34_300k_meso_5.2_0740_labels.png is a low contrast image\n"
     ]
    },
    {
     "name": "stdout",
     "output_type": "stream",
     "text": [
      "2021-09-23 14:48:24,447 [INFO] >>>> TOTAL TIME 14.89 sec\n",
      "2021-09-23 14:48:24,599 [INFO] ~~~ FINDING MASKS ~~~\n"
     ]
    },
    {
     "name": "stderr",
     "output_type": "stream",
     "text": [
      "/usr/local/lib/python3.7/dist-packages/ipykernel_launcher.py:17: UserWarning: /content/drive/MyDrive/data_test/sonja/results/34_300k_meso_5.2_0741_labels.png is a low contrast image\n"
     ]
    },
    {
     "name": "stdout",
     "output_type": "stream",
     "text": [
      "2021-09-23 14:48:39,502 [INFO] >>>> TOTAL TIME 14.90 sec\n",
      "2021-09-23 14:48:39,651 [INFO] ~~~ FINDING MASKS ~~~\n"
     ]
    },
    {
     "name": "stderr",
     "output_type": "stream",
     "text": [
      "/usr/local/lib/python3.7/dist-packages/ipykernel_launcher.py:17: UserWarning: /content/drive/MyDrive/data_test/sonja/results/34_300k_meso_5.2_0742_labels.png is a low contrast image\n"
     ]
    },
    {
     "name": "stdout",
     "output_type": "stream",
     "text": [
      "2021-09-23 14:48:54,641 [INFO] >>>> TOTAL TIME 14.99 sec\n",
      "2021-09-23 14:48:54,797 [INFO] ~~~ FINDING MASKS ~~~\n"
     ]
    },
    {
     "name": "stderr",
     "output_type": "stream",
     "text": [
      "/usr/local/lib/python3.7/dist-packages/ipykernel_launcher.py:17: UserWarning: /content/drive/MyDrive/data_test/sonja/results/34_300k_meso_5.2_0743_labels.png is a low contrast image\n"
     ]
    },
    {
     "name": "stdout",
     "output_type": "stream",
     "text": [
      "2021-09-23 14:49:09,672 [INFO] >>>> TOTAL TIME 14.88 sec\n",
      "2021-09-23 14:49:09,827 [INFO] ~~~ FINDING MASKS ~~~\n"
     ]
    },
    {
     "name": "stderr",
     "output_type": "stream",
     "text": [
      "/usr/local/lib/python3.7/dist-packages/ipykernel_launcher.py:17: UserWarning: /content/drive/MyDrive/data_test/sonja/results/34_300k_meso_5.2_0744_labels.png is a low contrast image\n"
     ]
    },
    {
     "name": "stdout",
     "output_type": "stream",
     "text": [
      "2021-09-23 14:49:24,771 [INFO] >>>> TOTAL TIME 14.94 sec\n",
      "2021-09-23 14:49:24,924 [INFO] ~~~ FINDING MASKS ~~~\n"
     ]
    },
    {
     "name": "stderr",
     "output_type": "stream",
     "text": [
      "/usr/local/lib/python3.7/dist-packages/ipykernel_launcher.py:17: UserWarning: /content/drive/MyDrive/data_test/sonja/results/34_300k_meso_5.2_0745_labels.png is a low contrast image\n"
     ]
    },
    {
     "name": "stdout",
     "output_type": "stream",
     "text": [
      "2021-09-23 14:49:39,801 [INFO] >>>> TOTAL TIME 14.88 sec\n",
      "2021-09-23 14:49:39,958 [INFO] ~~~ FINDING MASKS ~~~\n"
     ]
    },
    {
     "name": "stderr",
     "output_type": "stream",
     "text": [
      "/usr/local/lib/python3.7/dist-packages/ipykernel_launcher.py:17: UserWarning: /content/drive/MyDrive/data_test/sonja/results/34_300k_meso_5.2_0746_labels.png is a low contrast image\n"
     ]
    },
    {
     "name": "stdout",
     "output_type": "stream",
     "text": [
      "2021-09-23 14:49:54,937 [INFO] >>>> TOTAL TIME 14.98 sec\n",
      "2021-09-23 14:49:55,096 [INFO] ~~~ FINDING MASKS ~~~\n"
     ]
    },
    {
     "name": "stderr",
     "output_type": "stream",
     "text": [
      "/usr/local/lib/python3.7/dist-packages/ipykernel_launcher.py:17: UserWarning: /content/drive/MyDrive/data_test/sonja/results/34_300k_meso_5.2_0747_labels.png is a low contrast image\n"
     ]
    },
    {
     "name": "stdout",
     "output_type": "stream",
     "text": [
      "2021-09-23 14:50:09,956 [INFO] >>>> TOTAL TIME 14.86 sec\n",
      "2021-09-23 14:50:10,111 [INFO] ~~~ FINDING MASKS ~~~\n"
     ]
    },
    {
     "name": "stderr",
     "output_type": "stream",
     "text": [
      "/usr/local/lib/python3.7/dist-packages/ipykernel_launcher.py:17: UserWarning: /content/drive/MyDrive/data_test/sonja/results/34_300k_meso_5.2_0748_labels.png is a low contrast image\n"
     ]
    },
    {
     "name": "stdout",
     "output_type": "stream",
     "text": [
      "2021-09-23 14:50:25,031 [INFO] >>>> TOTAL TIME 14.92 sec\n",
      "2021-09-23 14:50:25,186 [INFO] ~~~ FINDING MASKS ~~~\n"
     ]
    },
    {
     "name": "stderr",
     "output_type": "stream",
     "text": [
      "/usr/local/lib/python3.7/dist-packages/ipykernel_launcher.py:17: UserWarning: /content/drive/MyDrive/data_test/sonja/results/34_300k_meso_5.2_0749_labels.png is a low contrast image\n"
     ]
    },
    {
     "name": "stdout",
     "output_type": "stream",
     "text": [
      "2021-09-23 14:50:40,113 [INFO] >>>> TOTAL TIME 14.93 sec\n",
      "2021-09-23 14:50:40,269 [INFO] ~~~ FINDING MASKS ~~~\n"
     ]
    },
    {
     "name": "stderr",
     "output_type": "stream",
     "text": [
      "/usr/local/lib/python3.7/dist-packages/ipykernel_launcher.py:17: UserWarning: /content/drive/MyDrive/data_test/sonja/results/34_300k_meso_5.2_0750_labels.png is a low contrast image\n"
     ]
    },
    {
     "name": "stdout",
     "output_type": "stream",
     "text": [
      "2021-09-23 14:50:55,221 [INFO] >>>> TOTAL TIME 14.95 sec\n",
      "2021-09-23 14:50:55,376 [INFO] ~~~ FINDING MASKS ~~~\n"
     ]
    },
    {
     "name": "stderr",
     "output_type": "stream",
     "text": [
      "/usr/local/lib/python3.7/dist-packages/ipykernel_launcher.py:17: UserWarning: /content/drive/MyDrive/data_test/sonja/results/34_300k_meso_5.2_0751_labels.png is a low contrast image\n"
     ]
    },
    {
     "name": "stdout",
     "output_type": "stream",
     "text": [
      "2021-09-23 14:51:10,314 [INFO] >>>> TOTAL TIME 14.94 sec\n",
      "2021-09-23 14:51:10,460 [INFO] ~~~ FINDING MASKS ~~~\n"
     ]
    },
    {
     "name": "stderr",
     "output_type": "stream",
     "text": [
      "/usr/local/lib/python3.7/dist-packages/ipykernel_launcher.py:17: UserWarning: /content/drive/MyDrive/data_test/sonja/results/34_300k_meso_5.2_0752_labels.png is a low contrast image\n"
     ]
    },
    {
     "name": "stdout",
     "output_type": "stream",
     "text": [
      "2021-09-23 14:51:25,311 [INFO] >>>> TOTAL TIME 14.85 sec\n",
      "2021-09-23 14:51:25,462 [INFO] ~~~ FINDING MASKS ~~~\n"
     ]
    },
    {
     "name": "stderr",
     "output_type": "stream",
     "text": [
      "/usr/local/lib/python3.7/dist-packages/ipykernel_launcher.py:17: UserWarning: /content/drive/MyDrive/data_test/sonja/results/34_300k_meso_5.2_0753_labels.png is a low contrast image\n"
     ]
    },
    {
     "name": "stdout",
     "output_type": "stream",
     "text": [
      "2021-09-23 14:51:40,306 [INFO] >>>> TOTAL TIME 14.84 sec\n",
      "2021-09-23 14:51:40,454 [INFO] ~~~ FINDING MASKS ~~~\n"
     ]
    },
    {
     "name": "stderr",
     "output_type": "stream",
     "text": [
      "/usr/local/lib/python3.7/dist-packages/ipykernel_launcher.py:17: UserWarning: /content/drive/MyDrive/data_test/sonja/results/34_300k_meso_5.2_0754_labels.png is a low contrast image\n"
     ]
    },
    {
     "name": "stdout",
     "output_type": "stream",
     "text": [
      "2021-09-23 14:51:55,389 [INFO] >>>> TOTAL TIME 14.94 sec\n",
      "2021-09-23 14:51:55,547 [INFO] ~~~ FINDING MASKS ~~~\n"
     ]
    },
    {
     "name": "stderr",
     "output_type": "stream",
     "text": [
      "/usr/local/lib/python3.7/dist-packages/ipykernel_launcher.py:17: UserWarning: /content/drive/MyDrive/data_test/sonja/results/34_300k_meso_5.2_0755_labels.png is a low contrast image\n"
     ]
    },
    {
     "name": "stdout",
     "output_type": "stream",
     "text": [
      "2021-09-23 14:52:10,434 [INFO] >>>> TOTAL TIME 14.89 sec\n",
      "2021-09-23 14:52:10,580 [INFO] ~~~ FINDING MASKS ~~~\n"
     ]
    },
    {
     "name": "stderr",
     "output_type": "stream",
     "text": [
      "/usr/local/lib/python3.7/dist-packages/ipykernel_launcher.py:17: UserWarning: /content/drive/MyDrive/data_test/sonja/results/34_300k_meso_5.2_0756_labels.png is a low contrast image\n"
     ]
    },
    {
     "name": "stdout",
     "output_type": "stream",
     "text": [
      "2021-09-23 14:52:25,466 [INFO] >>>> TOTAL TIME 14.89 sec\n",
      "2021-09-23 14:52:25,620 [INFO] ~~~ FINDING MASKS ~~~\n"
     ]
    },
    {
     "name": "stderr",
     "output_type": "stream",
     "text": [
      "/usr/local/lib/python3.7/dist-packages/ipykernel_launcher.py:17: UserWarning: /content/drive/MyDrive/data_test/sonja/results/34_300k_meso_5.2_0757_labels.png is a low contrast image\n"
     ]
    },
    {
     "name": "stdout",
     "output_type": "stream",
     "text": [
      "2021-09-23 14:52:40,533 [INFO] >>>> TOTAL TIME 14.91 sec\n",
      "2021-09-23 14:52:40,679 [INFO] ~~~ FINDING MASKS ~~~\n"
     ]
    },
    {
     "name": "stderr",
     "output_type": "stream",
     "text": [
      "/usr/local/lib/python3.7/dist-packages/ipykernel_launcher.py:17: UserWarning: /content/drive/MyDrive/data_test/sonja/results/34_300k_meso_5.2_0758_labels.png is a low contrast image\n"
     ]
    },
    {
     "name": "stdout",
     "output_type": "stream",
     "text": [
      "2021-09-23 14:52:55,623 [INFO] >>>> TOTAL TIME 14.94 sec\n",
      "2021-09-23 14:52:55,777 [INFO] ~~~ FINDING MASKS ~~~\n"
     ]
    },
    {
     "name": "stderr",
     "output_type": "stream",
     "text": [
      "/usr/local/lib/python3.7/dist-packages/ipykernel_launcher.py:17: UserWarning: /content/drive/MyDrive/data_test/sonja/results/34_300k_meso_5.2_0759_labels.png is a low contrast image\n"
     ]
    },
    {
     "name": "stdout",
     "output_type": "stream",
     "text": [
      "2021-09-23 14:53:10,679 [INFO] >>>> TOTAL TIME 14.90 sec\n",
      "2021-09-23 14:53:10,821 [INFO] ~~~ FINDING MASKS ~~~\n"
     ]
    },
    {
     "name": "stderr",
     "output_type": "stream",
     "text": [
      "/usr/local/lib/python3.7/dist-packages/ipykernel_launcher.py:17: UserWarning: /content/drive/MyDrive/data_test/sonja/results/34_300k_meso_5.2_0760_labels.png is a low contrast image\n"
     ]
    },
    {
     "name": "stdout",
     "output_type": "stream",
     "text": [
      "2021-09-23 14:53:25,737 [INFO] >>>> TOTAL TIME 14.92 sec\n",
      "2021-09-23 14:53:25,879 [INFO] ~~~ FINDING MASKS ~~~\n"
     ]
    },
    {
     "name": "stderr",
     "output_type": "stream",
     "text": [
      "/usr/local/lib/python3.7/dist-packages/ipykernel_launcher.py:17: UserWarning: /content/drive/MyDrive/data_test/sonja/results/34_300k_meso_5.2_0761_labels.png is a low contrast image\n"
     ]
    },
    {
     "name": "stdout",
     "output_type": "stream",
     "text": [
      "2021-09-23 14:53:40,750 [INFO] >>>> TOTAL TIME 14.87 sec\n",
      "2021-09-23 14:53:40,903 [INFO] ~~~ FINDING MASKS ~~~\n"
     ]
    },
    {
     "name": "stderr",
     "output_type": "stream",
     "text": [
      "/usr/local/lib/python3.7/dist-packages/ipykernel_launcher.py:17: UserWarning: /content/drive/MyDrive/data_test/sonja/results/34_300k_meso_5.2_0762_labels.png is a low contrast image\n"
     ]
    },
    {
     "name": "stdout",
     "output_type": "stream",
     "text": [
      "2021-09-23 14:53:55,808 [INFO] >>>> TOTAL TIME 14.91 sec\n",
      "2021-09-23 14:53:55,957 [INFO] ~~~ FINDING MASKS ~~~\n"
     ]
    },
    {
     "name": "stderr",
     "output_type": "stream",
     "text": [
      "/usr/local/lib/python3.7/dist-packages/ipykernel_launcher.py:17: UserWarning: /content/drive/MyDrive/data_test/sonja/results/34_300k_meso_5.2_0763_labels.png is a low contrast image\n"
     ]
    },
    {
     "name": "stdout",
     "output_type": "stream",
     "text": [
      "2021-09-23 14:54:10,852 [INFO] >>>> TOTAL TIME 14.89 sec\n",
      "2021-09-23 14:54:11,013 [INFO] ~~~ FINDING MASKS ~~~\n"
     ]
    },
    {
     "name": "stderr",
     "output_type": "stream",
     "text": [
      "/usr/local/lib/python3.7/dist-packages/ipykernel_launcher.py:17: UserWarning: /content/drive/MyDrive/data_test/sonja/results/34_300k_meso_5.2_0764_labels.png is a low contrast image\n"
     ]
    },
    {
     "name": "stdout",
     "output_type": "stream",
     "text": [
      "2021-09-23 14:54:25,897 [INFO] >>>> TOTAL TIME 14.88 sec\n",
      "2021-09-23 14:54:26,037 [INFO] ~~~ FINDING MASKS ~~~\n"
     ]
    },
    {
     "name": "stderr",
     "output_type": "stream",
     "text": [
      "/usr/local/lib/python3.7/dist-packages/ipykernel_launcher.py:17: UserWarning: /content/drive/MyDrive/data_test/sonja/results/34_300k_meso_5.2_0765_labels.png is a low contrast image\n"
     ]
    },
    {
     "name": "stdout",
     "output_type": "stream",
     "text": [
      "2021-09-23 14:54:40,921 [INFO] >>>> TOTAL TIME 14.88 sec\n",
      "2021-09-23 14:54:41,064 [INFO] ~~~ FINDING MASKS ~~~\n"
     ]
    },
    {
     "name": "stderr",
     "output_type": "stream",
     "text": [
      "/usr/local/lib/python3.7/dist-packages/ipykernel_launcher.py:17: UserWarning: /content/drive/MyDrive/data_test/sonja/results/34_300k_meso_5.2_0766_labels.png is a low contrast image\n"
     ]
    },
    {
     "name": "stdout",
     "output_type": "stream",
     "text": [
      "2021-09-23 14:54:55,924 [INFO] >>>> TOTAL TIME 14.86 sec\n",
      "2021-09-23 14:54:56,070 [INFO] ~~~ FINDING MASKS ~~~\n"
     ]
    },
    {
     "name": "stderr",
     "output_type": "stream",
     "text": [
      "/usr/local/lib/python3.7/dist-packages/ipykernel_launcher.py:17: UserWarning: /content/drive/MyDrive/data_test/sonja/results/34_300k_meso_5.2_0767_labels.png is a low contrast image\n"
     ]
    },
    {
     "name": "stdout",
     "output_type": "stream",
     "text": [
      "2021-09-23 14:55:10,965 [INFO] >>>> TOTAL TIME 14.90 sec\n",
      "2021-09-23 14:55:11,115 [INFO] ~~~ FINDING MASKS ~~~\n"
     ]
    },
    {
     "name": "stderr",
     "output_type": "stream",
     "text": [
      "/usr/local/lib/python3.7/dist-packages/ipykernel_launcher.py:17: UserWarning: /content/drive/MyDrive/data_test/sonja/results/34_300k_meso_5.2_0768_labels.png is a low contrast image\n"
     ]
    },
    {
     "name": "stdout",
     "output_type": "stream",
     "text": [
      "2021-09-23 14:55:25,980 [INFO] >>>> TOTAL TIME 14.87 sec\n",
      "2021-09-23 14:55:26,123 [INFO] ~~~ FINDING MASKS ~~~\n"
     ]
    },
    {
     "name": "stderr",
     "output_type": "stream",
     "text": [
      "/usr/local/lib/python3.7/dist-packages/ipykernel_launcher.py:17: UserWarning: /content/drive/MyDrive/data_test/sonja/results/34_300k_meso_5.2_0769_labels.png is a low contrast image\n"
     ]
    },
    {
     "name": "stdout",
     "output_type": "stream",
     "text": [
      "2021-09-23 14:55:41,033 [INFO] >>>> TOTAL TIME 14.91 sec\n",
      "2021-09-23 14:55:41,191 [INFO] ~~~ FINDING MASKS ~~~\n"
     ]
    },
    {
     "name": "stderr",
     "output_type": "stream",
     "text": [
      "/usr/local/lib/python3.7/dist-packages/ipykernel_launcher.py:17: UserWarning: /content/drive/MyDrive/data_test/sonja/results/34_300k_meso_5.2_0770_labels.png is a low contrast image\n"
     ]
    },
    {
     "name": "stdout",
     "output_type": "stream",
     "text": [
      "2021-09-23 14:55:56,028 [INFO] >>>> TOTAL TIME 14.84 sec\n",
      "2021-09-23 14:55:56,174 [INFO] ~~~ FINDING MASKS ~~~\n"
     ]
    },
    {
     "name": "stderr",
     "output_type": "stream",
     "text": [
      "/usr/local/lib/python3.7/dist-packages/ipykernel_launcher.py:17: UserWarning: /content/drive/MyDrive/data_test/sonja/results/34_300k_meso_5.2_0771_labels.png is a low contrast image\n"
     ]
    },
    {
     "name": "stdout",
     "output_type": "stream",
     "text": [
      "2021-09-23 14:56:11,090 [INFO] >>>> TOTAL TIME 14.92 sec\n",
      "2021-09-23 14:56:11,243 [INFO] ~~~ FINDING MASKS ~~~\n"
     ]
    },
    {
     "name": "stderr",
     "output_type": "stream",
     "text": [
      "/usr/local/lib/python3.7/dist-packages/ipykernel_launcher.py:17: UserWarning: /content/drive/MyDrive/data_test/sonja/results/34_300k_meso_5.2_0772_labels.png is a low contrast image\n"
     ]
    },
    {
     "name": "stdout",
     "output_type": "stream",
     "text": [
      "2021-09-23 14:56:26,193 [INFO] >>>> TOTAL TIME 14.95 sec\n",
      "2021-09-23 14:56:26,347 [INFO] ~~~ FINDING MASKS ~~~\n"
     ]
    },
    {
     "name": "stderr",
     "output_type": "stream",
     "text": [
      "/usr/local/lib/python3.7/dist-packages/ipykernel_launcher.py:17: UserWarning: /content/drive/MyDrive/data_test/sonja/results/34_300k_meso_5.2_0773_labels.png is a low contrast image\n"
     ]
    },
    {
     "name": "stdout",
     "output_type": "stream",
     "text": [
      "2021-09-23 14:56:41,308 [INFO] >>>> TOTAL TIME 14.96 sec\n",
      "2021-09-23 14:56:41,457 [INFO] ~~~ FINDING MASKS ~~~\n"
     ]
    },
    {
     "name": "stderr",
     "output_type": "stream",
     "text": [
      "/usr/local/lib/python3.7/dist-packages/ipykernel_launcher.py:17: UserWarning: /content/drive/MyDrive/data_test/sonja/results/34_300k_meso_5.2_0774_labels.png is a low contrast image\n"
     ]
    },
    {
     "name": "stdout",
     "output_type": "stream",
     "text": [
      "2021-09-23 14:56:56,419 [INFO] >>>> TOTAL TIME 14.96 sec\n",
      "2021-09-23 14:56:56,558 [INFO] ~~~ FINDING MASKS ~~~\n"
     ]
    },
    {
     "name": "stderr",
     "output_type": "stream",
     "text": [
      "/usr/local/lib/python3.7/dist-packages/ipykernel_launcher.py:17: UserWarning: /content/drive/MyDrive/data_test/sonja/results/34_300k_meso_5.2_0775_labels.png is a low contrast image\n"
     ]
    },
    {
     "name": "stdout",
     "output_type": "stream",
     "text": [
      "2021-09-23 14:57:11,495 [INFO] >>>> TOTAL TIME 14.94 sec\n",
      "2021-09-23 14:57:11,667 [INFO] ~~~ FINDING MASKS ~~~\n"
     ]
    },
    {
     "name": "stderr",
     "output_type": "stream",
     "text": [
      "/usr/local/lib/python3.7/dist-packages/ipykernel_launcher.py:17: UserWarning: /content/drive/MyDrive/data_test/sonja/results/34_300k_meso_5.2_0776_labels.png is a low contrast image\n"
     ]
    },
    {
     "name": "stdout",
     "output_type": "stream",
     "text": [
      "2021-09-23 14:57:26,542 [INFO] >>>> TOTAL TIME 14.87 sec\n",
      "2021-09-23 14:57:26,695 [INFO] ~~~ FINDING MASKS ~~~\n"
     ]
    },
    {
     "name": "stderr",
     "output_type": "stream",
     "text": [
      "/usr/local/lib/python3.7/dist-packages/ipykernel_launcher.py:17: UserWarning: /content/drive/MyDrive/data_test/sonja/results/34_300k_meso_5.2_0777_labels.png is a low contrast image\n"
     ]
    },
    {
     "name": "stdout",
     "output_type": "stream",
     "text": [
      "2021-09-23 14:57:41,616 [INFO] >>>> TOTAL TIME 14.92 sec\n",
      "2021-09-23 14:57:41,765 [INFO] ~~~ FINDING MASKS ~~~\n"
     ]
    },
    {
     "name": "stderr",
     "output_type": "stream",
     "text": [
      "/usr/local/lib/python3.7/dist-packages/ipykernel_launcher.py:17: UserWarning: /content/drive/MyDrive/data_test/sonja/results/34_300k_meso_5.2_0778_labels.png is a low contrast image\n"
     ]
    },
    {
     "name": "stdout",
     "output_type": "stream",
     "text": [
      "2021-09-23 14:57:56,709 [INFO] >>>> TOTAL TIME 14.94 sec\n",
      "2021-09-23 14:57:56,860 [INFO] ~~~ FINDING MASKS ~~~\n"
     ]
    },
    {
     "name": "stderr",
     "output_type": "stream",
     "text": [
      "/usr/local/lib/python3.7/dist-packages/ipykernel_launcher.py:17: UserWarning: /content/drive/MyDrive/data_test/sonja/results/34_300k_meso_5.2_0779_labels.png is a low contrast image\n"
     ]
    },
    {
     "name": "stdout",
     "output_type": "stream",
     "text": [
      "2021-09-23 14:58:11,767 [INFO] >>>> TOTAL TIME 14.91 sec\n",
      "2021-09-23 14:58:11,919 [INFO] ~~~ FINDING MASKS ~~~\n"
     ]
    },
    {
     "name": "stderr",
     "output_type": "stream",
     "text": [
      "/usr/local/lib/python3.7/dist-packages/ipykernel_launcher.py:17: UserWarning: /content/drive/MyDrive/data_test/sonja/results/34_300k_meso_5.2_0780_labels.png is a low contrast image\n"
     ]
    },
    {
     "name": "stdout",
     "output_type": "stream",
     "text": [
      "2021-09-23 14:58:26,800 [INFO] >>>> TOTAL TIME 14.88 sec\n",
      "2021-09-23 14:58:26,952 [INFO] ~~~ FINDING MASKS ~~~\n"
     ]
    },
    {
     "name": "stderr",
     "output_type": "stream",
     "text": [
      "/usr/local/lib/python3.7/dist-packages/ipykernel_launcher.py:17: UserWarning: /content/drive/MyDrive/data_test/sonja/results/34_300k_meso_5.2_0781_labels.png is a low contrast image\n"
     ]
    },
    {
     "name": "stdout",
     "output_type": "stream",
     "text": [
      "2021-09-23 14:58:41,857 [INFO] >>>> TOTAL TIME 14.91 sec\n",
      "2021-09-23 14:58:42,005 [INFO] ~~~ FINDING MASKS ~~~\n"
     ]
    },
    {
     "name": "stderr",
     "output_type": "stream",
     "text": [
      "/usr/local/lib/python3.7/dist-packages/ipykernel_launcher.py:17: UserWarning: /content/drive/MyDrive/data_test/sonja/results/34_300k_meso_5.2_0782_labels.png is a low contrast image\n"
     ]
    },
    {
     "name": "stdout",
     "output_type": "stream",
     "text": [
      "2021-09-23 14:58:56,914 [INFO] >>>> TOTAL TIME 14.91 sec\n",
      "2021-09-23 14:58:57,058 [INFO] ~~~ FINDING MASKS ~~~\n"
     ]
    },
    {
     "name": "stderr",
     "output_type": "stream",
     "text": [
      "/usr/local/lib/python3.7/dist-packages/ipykernel_launcher.py:17: UserWarning: /content/drive/MyDrive/data_test/sonja/results/34_300k_meso_5.2_0783_labels.png is a low contrast image\n"
     ]
    },
    {
     "name": "stdout",
     "output_type": "stream",
     "text": [
      "2021-09-23 14:59:11,948 [INFO] >>>> TOTAL TIME 14.89 sec\n",
      "2021-09-23 14:59:12,091 [INFO] ~~~ FINDING MASKS ~~~\n"
     ]
    },
    {
     "name": "stderr",
     "output_type": "stream",
     "text": [
      "/usr/local/lib/python3.7/dist-packages/ipykernel_launcher.py:17: UserWarning: /content/drive/MyDrive/data_test/sonja/results/34_300k_meso_5.2_0784_labels.png is a low contrast image\n"
     ]
    },
    {
     "name": "stdout",
     "output_type": "stream",
     "text": [
      "2021-09-23 14:59:26,985 [INFO] >>>> TOTAL TIME 14.89 sec\n",
      "2021-09-23 14:59:27,147 [INFO] ~~~ FINDING MASKS ~~~\n"
     ]
    },
    {
     "name": "stderr",
     "output_type": "stream",
     "text": [
      "/usr/local/lib/python3.7/dist-packages/ipykernel_launcher.py:17: UserWarning: /content/drive/MyDrive/data_test/sonja/results/34_300k_meso_5.2_0785_labels.png is a low contrast image\n"
     ]
    },
    {
     "name": "stdout",
     "output_type": "stream",
     "text": [
      "2021-09-23 14:59:42,057 [INFO] >>>> TOTAL TIME 14.91 sec\n",
      "2021-09-23 14:59:42,203 [INFO] ~~~ FINDING MASKS ~~~\n"
     ]
    },
    {
     "name": "stderr",
     "output_type": "stream",
     "text": [
      "/usr/local/lib/python3.7/dist-packages/ipykernel_launcher.py:17: UserWarning: /content/drive/MyDrive/data_test/sonja/results/34_300k_meso_5.2_0786_labels.png is a low contrast image\n"
     ]
    },
    {
     "name": "stdout",
     "output_type": "stream",
     "text": [
      "2021-09-23 14:59:57,131 [INFO] >>>> TOTAL TIME 14.93 sec\n",
      "2021-09-23 14:59:57,289 [INFO] ~~~ FINDING MASKS ~~~\n"
     ]
    },
    {
     "name": "stderr",
     "output_type": "stream",
     "text": [
      "/usr/local/lib/python3.7/dist-packages/ipykernel_launcher.py:17: UserWarning: /content/drive/MyDrive/data_test/sonja/results/34_300k_meso_5.2_0787_labels.png is a low contrast image\n"
     ]
    },
    {
     "name": "stdout",
     "output_type": "stream",
     "text": [
      "2021-09-23 15:00:12,239 [INFO] >>>> TOTAL TIME 14.95 sec\n",
      "2021-09-23 15:00:12,402 [INFO] ~~~ FINDING MASKS ~~~\n"
     ]
    },
    {
     "name": "stderr",
     "output_type": "stream",
     "text": [
      "/usr/local/lib/python3.7/dist-packages/ipykernel_launcher.py:17: UserWarning: /content/drive/MyDrive/data_test/sonja/results/34_300k_meso_5.2_0788_labels.png is a low contrast image\n"
     ]
    },
    {
     "name": "stdout",
     "output_type": "stream",
     "text": [
      "2021-09-23 15:00:27,301 [INFO] >>>> TOTAL TIME 14.90 sec\n",
      "2021-09-23 15:00:27,447 [INFO] ~~~ FINDING MASKS ~~~\n"
     ]
    },
    {
     "name": "stderr",
     "output_type": "stream",
     "text": [
      "/usr/local/lib/python3.7/dist-packages/ipykernel_launcher.py:17: UserWarning: /content/drive/MyDrive/data_test/sonja/results/34_300k_meso_5.2_0789_labels.png is a low contrast image\n"
     ]
    },
    {
     "name": "stdout",
     "output_type": "stream",
     "text": [
      "2021-09-23 15:00:42,444 [INFO] >>>> TOTAL TIME 15.00 sec\n",
      "2021-09-23 15:00:42,601 [INFO] ~~~ FINDING MASKS ~~~\n"
     ]
    },
    {
     "name": "stderr",
     "output_type": "stream",
     "text": [
      "/usr/local/lib/python3.7/dist-packages/ipykernel_launcher.py:17: UserWarning: /content/drive/MyDrive/data_test/sonja/results/34_300k_meso_5.2_0790_labels.png is a low contrast image\n"
     ]
    },
    {
     "name": "stdout",
     "output_type": "stream",
     "text": [
      "2021-09-23 15:00:57,531 [INFO] >>>> TOTAL TIME 14.93 sec\n",
      "2021-09-23 15:00:57,687 [INFO] ~~~ FINDING MASKS ~~~\n"
     ]
    },
    {
     "name": "stderr",
     "output_type": "stream",
     "text": [
      "/usr/local/lib/python3.7/dist-packages/ipykernel_launcher.py:17: UserWarning: /content/drive/MyDrive/data_test/sonja/results/34_300k_meso_5.2_0791_labels.png is a low contrast image\n"
     ]
    },
    {
     "name": "stdout",
     "output_type": "stream",
     "text": [
      "2021-09-23 15:01:12,649 [INFO] >>>> TOTAL TIME 14.96 sec\n",
      "2021-09-23 15:01:12,807 [INFO] ~~~ FINDING MASKS ~~~\n"
     ]
    },
    {
     "name": "stderr",
     "output_type": "stream",
     "text": [
      "/usr/local/lib/python3.7/dist-packages/ipykernel_launcher.py:17: UserWarning: /content/drive/MyDrive/data_test/sonja/results/34_300k_meso_5.2_0792_labels.png is a low contrast image\n"
     ]
    },
    {
     "name": "stdout",
     "output_type": "stream",
     "text": [
      "2021-09-23 15:01:27,792 [INFO] >>>> TOTAL TIME 14.99 sec\n",
      "2021-09-23 15:01:27,952 [INFO] ~~~ FINDING MASKS ~~~\n"
     ]
    },
    {
     "name": "stderr",
     "output_type": "stream",
     "text": [
      "/usr/local/lib/python3.7/dist-packages/ipykernel_launcher.py:17: UserWarning: /content/drive/MyDrive/data_test/sonja/results/34_300k_meso_5.2_0793_labels.png is a low contrast image\n"
     ]
    },
    {
     "name": "stdout",
     "output_type": "stream",
     "text": [
      "2021-09-23 15:01:42,976 [INFO] >>>> TOTAL TIME 15.02 sec\n",
      "2021-09-23 15:01:43,132 [INFO] ~~~ FINDING MASKS ~~~\n"
     ]
    },
    {
     "name": "stderr",
     "output_type": "stream",
     "text": [
      "/usr/local/lib/python3.7/dist-packages/ipykernel_launcher.py:17: UserWarning: /content/drive/MyDrive/data_test/sonja/results/34_300k_meso_5.2_0794_labels.png is a low contrast image\n"
     ]
    },
    {
     "name": "stdout",
     "output_type": "stream",
     "text": [
      "2021-09-23 15:01:58,094 [INFO] >>>> TOTAL TIME 14.96 sec\n",
      "2021-09-23 15:01:58,246 [INFO] ~~~ FINDING MASKS ~~~\n"
     ]
    },
    {
     "name": "stderr",
     "output_type": "stream",
     "text": [
      "/usr/local/lib/python3.7/dist-packages/ipykernel_launcher.py:17: UserWarning: /content/drive/MyDrive/data_test/sonja/results/34_300k_meso_5.2_0795_labels.png is a low contrast image\n"
     ]
    },
    {
     "name": "stdout",
     "output_type": "stream",
     "text": [
      "2021-09-23 15:02:13,135 [INFO] >>>> TOTAL TIME 14.89 sec\n",
      "2021-09-23 15:02:13,288 [INFO] ~~~ FINDING MASKS ~~~\n"
     ]
    },
    {
     "name": "stderr",
     "output_type": "stream",
     "text": [
      "/usr/local/lib/python3.7/dist-packages/ipykernel_launcher.py:17: UserWarning: /content/drive/MyDrive/data_test/sonja/results/34_300k_meso_5.2_0796_labels.png is a low contrast image\n"
     ]
    },
    {
     "name": "stdout",
     "output_type": "stream",
     "text": [
      "2021-09-23 15:02:28,190 [INFO] >>>> TOTAL TIME 14.90 sec\n",
      "2021-09-23 15:02:28,352 [INFO] ~~~ FINDING MASKS ~~~\n"
     ]
    },
    {
     "name": "stderr",
     "output_type": "stream",
     "text": [
      "/usr/local/lib/python3.7/dist-packages/ipykernel_launcher.py:17: UserWarning: /content/drive/MyDrive/data_test/sonja/results/34_300k_meso_5.2_0797_labels.png is a low contrast image\n"
     ]
    },
    {
     "name": "stdout",
     "output_type": "stream",
     "text": [
      "2021-09-23 15:02:43,281 [INFO] >>>> TOTAL TIME 14.93 sec\n",
      "2021-09-23 15:02:43,427 [INFO] ~~~ FINDING MASKS ~~~\n"
     ]
    },
    {
     "name": "stderr",
     "output_type": "stream",
     "text": [
      "/usr/local/lib/python3.7/dist-packages/ipykernel_launcher.py:17: UserWarning: /content/drive/MyDrive/data_test/sonja/results/34_300k_meso_5.2_0798_labels.png is a low contrast image\n"
     ]
    },
    {
     "name": "stdout",
     "output_type": "stream",
     "text": [
      "2021-09-23 15:02:58,291 [INFO] >>>> TOTAL TIME 14.86 sec\n",
      "2021-09-23 15:02:58,448 [INFO] ~~~ FINDING MASKS ~~~\n"
     ]
    },
    {
     "name": "stderr",
     "output_type": "stream",
     "text": [
      "/usr/local/lib/python3.7/dist-packages/ipykernel_launcher.py:17: UserWarning: /content/drive/MyDrive/data_test/sonja/results/34_300k_meso_5.2_0799_labels.png is a low contrast image\n"
     ]
    },
    {
     "name": "stdout",
     "output_type": "stream",
     "text": [
      "2021-09-23 15:03:13,306 [INFO] >>>> TOTAL TIME 14.86 sec\n",
      "2021-09-23 15:03:13,473 [INFO] ~~~ FINDING MASKS ~~~\n"
     ]
    },
    {
     "name": "stderr",
     "output_type": "stream",
     "text": [
      "/usr/local/lib/python3.7/dist-packages/ipykernel_launcher.py:17: UserWarning: /content/drive/MyDrive/data_test/sonja/results/34_300k_meso_5.2_0800_labels.png is a low contrast image\n"
     ]
    },
    {
     "name": "stdout",
     "output_type": "stream",
     "text": [
      "2021-09-23 15:03:28,320 [INFO] >>>> TOTAL TIME 14.85 sec\n",
      "2021-09-23 15:03:28,499 [INFO] ~~~ FINDING MASKS ~~~\n"
     ]
    },
    {
     "name": "stderr",
     "output_type": "stream",
     "text": [
      "/usr/local/lib/python3.7/dist-packages/ipykernel_launcher.py:17: UserWarning: /content/drive/MyDrive/data_test/sonja/results/34_300k_meso_5.2_0801_labels.png is a low contrast image\n"
     ]
    },
    {
     "name": "stdout",
     "output_type": "stream",
     "text": [
      "2021-09-23 15:03:43,381 [INFO] >>>> TOTAL TIME 14.88 sec\n",
      "2021-09-23 15:03:43,536 [INFO] ~~~ FINDING MASKS ~~~\n"
     ]
    },
    {
     "name": "stderr",
     "output_type": "stream",
     "text": [
      "/usr/local/lib/python3.7/dist-packages/ipykernel_launcher.py:17: UserWarning: /content/drive/MyDrive/data_test/sonja/results/34_300k_meso_5.2_0802_labels.png is a low contrast image\n"
     ]
    },
    {
     "name": "stdout",
     "output_type": "stream",
     "text": [
      "2021-09-23 15:03:58,431 [INFO] >>>> TOTAL TIME 14.89 sec\n",
      "2021-09-23 15:03:58,604 [INFO] ~~~ FINDING MASKS ~~~\n"
     ]
    },
    {
     "name": "stderr",
     "output_type": "stream",
     "text": [
      "/usr/local/lib/python3.7/dist-packages/ipykernel_launcher.py:17: UserWarning: /content/drive/MyDrive/data_test/sonja/results/34_300k_meso_5.2_0803_labels.png is a low contrast image\n"
     ]
    },
    {
     "name": "stdout",
     "output_type": "stream",
     "text": [
      "2021-09-23 15:04:13,521 [INFO] >>>> TOTAL TIME 14.92 sec\n",
      "2021-09-23 15:04:13,686 [INFO] ~~~ FINDING MASKS ~~~\n"
     ]
    },
    {
     "name": "stderr",
     "output_type": "stream",
     "text": [
      "/usr/local/lib/python3.7/dist-packages/ipykernel_launcher.py:17: UserWarning: /content/drive/MyDrive/data_test/sonja/results/34_300k_meso_5.2_0804_labels.png is a low contrast image\n"
     ]
    },
    {
     "name": "stdout",
     "output_type": "stream",
     "text": [
      "2021-09-23 15:04:28,555 [INFO] >>>> TOTAL TIME 14.87 sec\n",
      "2021-09-23 15:04:28,727 [INFO] ~~~ FINDING MASKS ~~~\n"
     ]
    },
    {
     "name": "stderr",
     "output_type": "stream",
     "text": [
      "/usr/local/lib/python3.7/dist-packages/ipykernel_launcher.py:17: UserWarning: /content/drive/MyDrive/data_test/sonja/results/34_300k_meso_5.2_0805_labels.png is a low contrast image\n"
     ]
    },
    {
     "name": "stdout",
     "output_type": "stream",
     "text": [
      "2021-09-23 15:04:43,640 [INFO] >>>> TOTAL TIME 14.91 sec\n",
      "2021-09-23 15:04:43,793 [INFO] ~~~ FINDING MASKS ~~~\n"
     ]
    },
    {
     "name": "stderr",
     "output_type": "stream",
     "text": [
      "/usr/local/lib/python3.7/dist-packages/ipykernel_launcher.py:17: UserWarning: /content/drive/MyDrive/data_test/sonja/results/34_300k_meso_5.2_0806_labels.png is a low contrast image\n"
     ]
    },
    {
     "name": "stdout",
     "output_type": "stream",
     "text": [
      "2021-09-23 15:04:58,695 [INFO] >>>> TOTAL TIME 14.90 sec\n",
      "2021-09-23 15:04:58,851 [INFO] ~~~ FINDING MASKS ~~~\n"
     ]
    },
    {
     "name": "stderr",
     "output_type": "stream",
     "text": [
      "/usr/local/lib/python3.7/dist-packages/ipykernel_launcher.py:17: UserWarning: /content/drive/MyDrive/data_test/sonja/results/34_300k_meso_5.2_0807_labels.png is a low contrast image\n"
     ]
    },
    {
     "name": "stdout",
     "output_type": "stream",
     "text": [
      "2021-09-23 15:05:13,736 [INFO] >>>> TOTAL TIME 14.88 sec\n",
      "2021-09-23 15:05:13,887 [INFO] ~~~ FINDING MASKS ~~~\n"
     ]
    },
    {
     "name": "stderr",
     "output_type": "stream",
     "text": [
      "/usr/local/lib/python3.7/dist-packages/ipykernel_launcher.py:17: UserWarning: /content/drive/MyDrive/data_test/sonja/results/34_300k_meso_5.2_0808_labels.png is a low contrast image\n"
     ]
    },
    {
     "name": "stdout",
     "output_type": "stream",
     "text": [
      "2021-09-23 15:05:28,734 [INFO] >>>> TOTAL TIME 14.85 sec\n",
      "2021-09-23 15:05:28,899 [INFO] ~~~ FINDING MASKS ~~~\n"
     ]
    },
    {
     "name": "stderr",
     "output_type": "stream",
     "text": [
      "/usr/local/lib/python3.7/dist-packages/ipykernel_launcher.py:17: UserWarning: /content/drive/MyDrive/data_test/sonja/results/34_300k_meso_5.2_0809_labels.png is a low contrast image\n"
     ]
    },
    {
     "name": "stdout",
     "output_type": "stream",
     "text": [
      "2021-09-23 15:05:43,761 [INFO] >>>> TOTAL TIME 14.86 sec\n",
      "2021-09-23 15:05:43,915 [INFO] ~~~ FINDING MASKS ~~~\n"
     ]
    },
    {
     "name": "stderr",
     "output_type": "stream",
     "text": [
      "/usr/local/lib/python3.7/dist-packages/ipykernel_launcher.py:17: UserWarning: /content/drive/MyDrive/data_test/sonja/results/34_300k_meso_5.2_0810_labels.png is a low contrast image\n"
     ]
    },
    {
     "name": "stdout",
     "output_type": "stream",
     "text": [
      "2021-09-23 15:05:58,768 [INFO] >>>> TOTAL TIME 14.85 sec\n",
      "2021-09-23 15:05:58,922 [INFO] ~~~ FINDING MASKS ~~~\n"
     ]
    },
    {
     "name": "stderr",
     "output_type": "stream",
     "text": [
      "/usr/local/lib/python3.7/dist-packages/ipykernel_launcher.py:17: UserWarning: /content/drive/MyDrive/data_test/sonja/results/34_300k_meso_5.2_0811_labels.png is a low contrast image\n"
     ]
    },
    {
     "name": "stdout",
     "output_type": "stream",
     "text": [
      "2021-09-23 15:06:13,837 [INFO] >>>> TOTAL TIME 14.91 sec\n",
      "2021-09-23 15:06:14,002 [INFO] ~~~ FINDING MASKS ~~~\n"
     ]
    },
    {
     "name": "stderr",
     "output_type": "stream",
     "text": [
      "/usr/local/lib/python3.7/dist-packages/ipykernel_launcher.py:17: UserWarning: /content/drive/MyDrive/data_test/sonja/results/34_300k_meso_5.2_0812_labels.png is a low contrast image\n"
     ]
    },
    {
     "name": "stdout",
     "output_type": "stream",
     "text": [
      "2021-09-23 15:06:28,837 [INFO] >>>> TOTAL TIME 14.84 sec\n",
      "2021-09-23 15:06:28,989 [INFO] ~~~ FINDING MASKS ~~~\n"
     ]
    },
    {
     "name": "stderr",
     "output_type": "stream",
     "text": [
      "/usr/local/lib/python3.7/dist-packages/ipykernel_launcher.py:17: UserWarning: /content/drive/MyDrive/data_test/sonja/results/34_300k_meso_5.2_0813_labels.png is a low contrast image\n"
     ]
    },
    {
     "name": "stdout",
     "output_type": "stream",
     "text": [
      "2021-09-23 15:06:43,986 [INFO] >>>> TOTAL TIME 15.00 sec\n",
      "2021-09-23 15:06:44,143 [INFO] ~~~ FINDING MASKS ~~~\n"
     ]
    },
    {
     "name": "stderr",
     "output_type": "stream",
     "text": [
      "/usr/local/lib/python3.7/dist-packages/ipykernel_launcher.py:17: UserWarning: /content/drive/MyDrive/data_test/sonja/results/34_300k_meso_5.2_0814_labels.png is a low contrast image\n"
     ]
    },
    {
     "name": "stdout",
     "output_type": "stream",
     "text": [
      "2021-09-23 15:06:59,056 [INFO] >>>> TOTAL TIME 14.91 sec\n",
      "2021-09-23 15:06:59,213 [INFO] ~~~ FINDING MASKS ~~~\n"
     ]
    },
    {
     "name": "stderr",
     "output_type": "stream",
     "text": [
      "/usr/local/lib/python3.7/dist-packages/ipykernel_launcher.py:17: UserWarning: /content/drive/MyDrive/data_test/sonja/results/34_300k_meso_5.2_0815_labels.png is a low contrast image\n"
     ]
    },
    {
     "name": "stdout",
     "output_type": "stream",
     "text": [
      "2021-09-23 15:07:14,135 [INFO] >>>> TOTAL TIME 14.92 sec\n",
      "2021-09-23 15:07:14,283 [INFO] ~~~ FINDING MASKS ~~~\n"
     ]
    },
    {
     "name": "stderr",
     "output_type": "stream",
     "text": [
      "/usr/local/lib/python3.7/dist-packages/ipykernel_launcher.py:17: UserWarning: /content/drive/MyDrive/data_test/sonja/results/34_300k_meso_5.2_0816_labels.png is a low contrast image\n"
     ]
    },
    {
     "name": "stdout",
     "output_type": "stream",
     "text": [
      "2021-09-23 15:07:29,155 [INFO] >>>> TOTAL TIME 14.87 sec\n",
      "2021-09-23 15:07:29,305 [INFO] ~~~ FINDING MASKS ~~~\n"
     ]
    },
    {
     "name": "stderr",
     "output_type": "stream",
     "text": [
      "/usr/local/lib/python3.7/dist-packages/ipykernel_launcher.py:17: UserWarning: /content/drive/MyDrive/data_test/sonja/results/34_300k_meso_5.2_0817_labels.png is a low contrast image\n"
     ]
    },
    {
     "name": "stdout",
     "output_type": "stream",
     "text": [
      "2021-09-23 15:07:44,207 [INFO] >>>> TOTAL TIME 14.90 sec\n",
      "2021-09-23 15:07:44,367 [INFO] ~~~ FINDING MASKS ~~~\n"
     ]
    },
    {
     "name": "stderr",
     "output_type": "stream",
     "text": [
      "/usr/local/lib/python3.7/dist-packages/ipykernel_launcher.py:17: UserWarning: /content/drive/MyDrive/data_test/sonja/results/34_300k_meso_5.2_0818_labels.png is a low contrast image\n"
     ]
    },
    {
     "name": "stdout",
     "output_type": "stream",
     "text": [
      "2021-09-23 15:07:59,200 [INFO] >>>> TOTAL TIME 14.83 sec\n",
      "2021-09-23 15:07:59,350 [INFO] ~~~ FINDING MASKS ~~~\n"
     ]
    },
    {
     "name": "stderr",
     "output_type": "stream",
     "text": [
      "/usr/local/lib/python3.7/dist-packages/ipykernel_launcher.py:17: UserWarning: /content/drive/MyDrive/data_test/sonja/results/34_300k_meso_5.2_0819_labels.png is a low contrast image\n"
     ]
    },
    {
     "name": "stdout",
     "output_type": "stream",
     "text": [
      "2021-09-23 15:08:14,367 [INFO] >>>> TOTAL TIME 15.02 sec\n",
      "2021-09-23 15:08:14,525 [INFO] ~~~ FINDING MASKS ~~~\n"
     ]
    },
    {
     "name": "stderr",
     "output_type": "stream",
     "text": [
      "/usr/local/lib/python3.7/dist-packages/ipykernel_launcher.py:17: UserWarning: /content/drive/MyDrive/data_test/sonja/results/34_300k_meso_5.2_0820_labels.png is a low contrast image\n"
     ]
    },
    {
     "name": "stdout",
     "output_type": "stream",
     "text": [
      "2021-09-23 15:08:29,376 [INFO] >>>> TOTAL TIME 14.85 sec\n",
      "2021-09-23 15:08:29,523 [INFO] ~~~ FINDING MASKS ~~~\n"
     ]
    },
    {
     "name": "stderr",
     "output_type": "stream",
     "text": [
      "/usr/local/lib/python3.7/dist-packages/ipykernel_launcher.py:17: UserWarning: /content/drive/MyDrive/data_test/sonja/results/34_300k_meso_5.2_0821_labels.png is a low contrast image\n"
     ]
    },
    {
     "name": "stdout",
     "output_type": "stream",
     "text": [
      "2021-09-23 15:08:44,379 [INFO] >>>> TOTAL TIME 14.86 sec\n",
      "2021-09-23 15:08:44,533 [INFO] ~~~ FINDING MASKS ~~~\n"
     ]
    },
    {
     "name": "stderr",
     "output_type": "stream",
     "text": [
      "/usr/local/lib/python3.7/dist-packages/ipykernel_launcher.py:17: UserWarning: /content/drive/MyDrive/data_test/sonja/results/34_300k_meso_5.2_0822_labels.png is a low contrast image\n"
     ]
    },
    {
     "name": "stdout",
     "output_type": "stream",
     "text": [
      "2021-09-23 15:08:59,436 [INFO] >>>> TOTAL TIME 14.90 sec\n",
      "2021-09-23 15:08:59,586 [INFO] ~~~ FINDING MASKS ~~~\n"
     ]
    },
    {
     "name": "stderr",
     "output_type": "stream",
     "text": [
      "/usr/local/lib/python3.7/dist-packages/ipykernel_launcher.py:17: UserWarning: /content/drive/MyDrive/data_test/sonja/results/34_300k_meso_5.2_0823_labels.png is a low contrast image\n"
     ]
    },
    {
     "name": "stdout",
     "output_type": "stream",
     "text": [
      "2021-09-23 15:09:14,434 [INFO] >>>> TOTAL TIME 14.85 sec\n",
      "2021-09-23 15:09:14,609 [INFO] ~~~ FINDING MASKS ~~~\n"
     ]
    },
    {
     "name": "stderr",
     "output_type": "stream",
     "text": [
      "/usr/local/lib/python3.7/dist-packages/ipykernel_launcher.py:17: UserWarning: /content/drive/MyDrive/data_test/sonja/results/34_300k_meso_5.2_0824_labels.png is a low contrast image\n"
     ]
    },
    {
     "name": "stdout",
     "output_type": "stream",
     "text": [
      "2021-09-23 15:09:29,497 [INFO] >>>> TOTAL TIME 14.89 sec\n",
      "2021-09-23 15:09:29,658 [INFO] ~~~ FINDING MASKS ~~~\n"
     ]
    },
    {
     "name": "stderr",
     "output_type": "stream",
     "text": [
      "/usr/local/lib/python3.7/dist-packages/ipykernel_launcher.py:17: UserWarning: /content/drive/MyDrive/data_test/sonja/results/34_300k_meso_5.2_0825_labels.png is a low contrast image\n"
     ]
    },
    {
     "name": "stdout",
     "output_type": "stream",
     "text": [
      "2021-09-23 15:09:44,558 [INFO] >>>> TOTAL TIME 14.90 sec\n",
      "2021-09-23 15:09:44,710 [INFO] ~~~ FINDING MASKS ~~~\n"
     ]
    },
    {
     "name": "stderr",
     "output_type": "stream",
     "text": [
      "/usr/local/lib/python3.7/dist-packages/ipykernel_launcher.py:17: UserWarning: /content/drive/MyDrive/data_test/sonja/results/34_300k_meso_5.2_0826_labels.png is a low contrast image\n"
     ]
    },
    {
     "name": "stdout",
     "output_type": "stream",
     "text": [
      "2021-09-23 15:09:59,565 [INFO] >>>> TOTAL TIME 14.85 sec\n",
      "2021-09-23 15:09:59,720 [INFO] ~~~ FINDING MASKS ~~~\n"
     ]
    },
    {
     "name": "stderr",
     "output_type": "stream",
     "text": [
      "/usr/local/lib/python3.7/dist-packages/ipykernel_launcher.py:17: UserWarning: /content/drive/MyDrive/data_test/sonja/results/34_300k_meso_5.2_0827_labels.png is a low contrast image\n"
     ]
    },
    {
     "name": "stdout",
     "output_type": "stream",
     "text": [
      "2021-09-23 15:10:14,619 [INFO] >>>> TOTAL TIME 14.90 sec\n",
      "2021-09-23 15:10:14,778 [INFO] ~~~ FINDING MASKS ~~~\n"
     ]
    },
    {
     "name": "stderr",
     "output_type": "stream",
     "text": [
      "/usr/local/lib/python3.7/dist-packages/ipykernel_launcher.py:17: UserWarning: /content/drive/MyDrive/data_test/sonja/results/34_300k_meso_5.2_0828_labels.png is a low contrast image\n"
     ]
    },
    {
     "name": "stdout",
     "output_type": "stream",
     "text": [
      "2021-09-23 15:10:29,654 [INFO] >>>> TOTAL TIME 14.88 sec\n",
      "2021-09-23 15:10:29,816 [INFO] ~~~ FINDING MASKS ~~~\n"
     ]
    },
    {
     "name": "stderr",
     "output_type": "stream",
     "text": [
      "/usr/local/lib/python3.7/dist-packages/ipykernel_launcher.py:17: UserWarning: /content/drive/MyDrive/data_test/sonja/results/34_300k_meso_5.2_0829_labels.png is a low contrast image\n"
     ]
    },
    {
     "name": "stdout",
     "output_type": "stream",
     "text": [
      "2021-09-23 15:10:44,731 [INFO] >>>> TOTAL TIME 14.91 sec\n",
      "2021-09-23 15:10:44,886 [INFO] ~~~ FINDING MASKS ~~~\n"
     ]
    },
    {
     "name": "stderr",
     "output_type": "stream",
     "text": [
      "/usr/local/lib/python3.7/dist-packages/ipykernel_launcher.py:17: UserWarning: /content/drive/MyDrive/data_test/sonja/results/34_300k_meso_5.2_0830_labels.png is a low contrast image\n"
     ]
    },
    {
     "name": "stdout",
     "output_type": "stream",
     "text": [
      "2021-09-23 15:10:59,869 [INFO] >>>> TOTAL TIME 14.98 sec\n",
      "2021-09-23 15:11:00,031 [INFO] ~~~ FINDING MASKS ~~~\n"
     ]
    },
    {
     "name": "stderr",
     "output_type": "stream",
     "text": [
      "/usr/local/lib/python3.7/dist-packages/ipykernel_launcher.py:17: UserWarning: /content/drive/MyDrive/data_test/sonja/results/34_300k_meso_5.2_0831_labels.png is a low contrast image\n"
     ]
    },
    {
     "name": "stdout",
     "output_type": "stream",
     "text": [
      "2021-09-23 15:11:14,966 [INFO] >>>> TOTAL TIME 14.94 sec\n",
      "2021-09-23 15:11:15,120 [INFO] ~~~ FINDING MASKS ~~~\n"
     ]
    },
    {
     "name": "stderr",
     "output_type": "stream",
     "text": [
      "/usr/local/lib/python3.7/dist-packages/ipykernel_launcher.py:17: UserWarning: /content/drive/MyDrive/data_test/sonja/results/34_300k_meso_5.2_0832_labels.png is a low contrast image\n"
     ]
    },
    {
     "name": "stdout",
     "output_type": "stream",
     "text": [
      "2021-09-23 15:11:30,021 [INFO] >>>> TOTAL TIME 14.90 sec\n",
      "2021-09-23 15:11:30,182 [INFO] ~~~ FINDING MASKS ~~~\n"
     ]
    },
    {
     "name": "stderr",
     "output_type": "stream",
     "text": [
      "/usr/local/lib/python3.7/dist-packages/ipykernel_launcher.py:17: UserWarning: /content/drive/MyDrive/data_test/sonja/results/34_300k_meso_5.2_0833_labels.png is a low contrast image\n"
     ]
    },
    {
     "name": "stdout",
     "output_type": "stream",
     "text": [
      "2021-09-23 15:11:45,133 [INFO] >>>> TOTAL TIME 14.95 sec\n",
      "2021-09-23 15:11:45,292 [INFO] ~~~ FINDING MASKS ~~~\n"
     ]
    },
    {
     "name": "stderr",
     "output_type": "stream",
     "text": [
      "/usr/local/lib/python3.7/dist-packages/ipykernel_launcher.py:17: UserWarning: /content/drive/MyDrive/data_test/sonja/results/34_300k_meso_5.2_0834_labels.png is a low contrast image\n"
     ]
    },
    {
     "name": "stdout",
     "output_type": "stream",
     "text": [
      "2021-09-23 15:12:00,257 [INFO] >>>> TOTAL TIME 14.97 sec\n",
      "2021-09-23 15:12:00,417 [INFO] ~~~ FINDING MASKS ~~~\n"
     ]
    },
    {
     "name": "stderr",
     "output_type": "stream",
     "text": [
      "/usr/local/lib/python3.7/dist-packages/ipykernel_launcher.py:17: UserWarning: /content/drive/MyDrive/data_test/sonja/results/34_300k_meso_5.2_0835_labels.png is a low contrast image\n"
     ]
    },
    {
     "name": "stdout",
     "output_type": "stream",
     "text": [
      "2021-09-23 15:12:15,320 [INFO] >>>> TOTAL TIME 14.90 sec\n",
      "2021-09-23 15:12:15,486 [INFO] ~~~ FINDING MASKS ~~~\n"
     ]
    },
    {
     "name": "stderr",
     "output_type": "stream",
     "text": [
      "/usr/local/lib/python3.7/dist-packages/ipykernel_launcher.py:17: UserWarning: /content/drive/MyDrive/data_test/sonja/results/34_300k_meso_5.2_0836_labels.png is a low contrast image\n"
     ]
    },
    {
     "name": "stdout",
     "output_type": "stream",
     "text": [
      "2021-09-23 15:12:30,379 [INFO] >>>> TOTAL TIME 14.89 sec\n",
      "2021-09-23 15:12:30,557 [INFO] ~~~ FINDING MASKS ~~~\n"
     ]
    },
    {
     "name": "stderr",
     "output_type": "stream",
     "text": [
      "/usr/local/lib/python3.7/dist-packages/ipykernel_launcher.py:17: UserWarning: /content/drive/MyDrive/data_test/sonja/results/34_300k_meso_5.2_0837_labels.png is a low contrast image\n"
     ]
    },
    {
     "name": "stdout",
     "output_type": "stream",
     "text": [
      "2021-09-23 15:12:45,434 [INFO] >>>> TOTAL TIME 14.88 sec\n",
      "2021-09-23 15:12:45,595 [INFO] ~~~ FINDING MASKS ~~~\n"
     ]
    },
    {
     "name": "stderr",
     "output_type": "stream",
     "text": [
      "/usr/local/lib/python3.7/dist-packages/ipykernel_launcher.py:17: UserWarning: /content/drive/MyDrive/data_test/sonja/results/34_300k_meso_5.2_0838_labels.png is a low contrast image\n"
     ]
    },
    {
     "name": "stdout",
     "output_type": "stream",
     "text": [
      "2021-09-23 15:13:00,556 [INFO] >>>> TOTAL TIME 14.96 sec\n",
      "2021-09-23 15:13:00,716 [INFO] ~~~ FINDING MASKS ~~~\n"
     ]
    },
    {
     "name": "stderr",
     "output_type": "stream",
     "text": [
      "/usr/local/lib/python3.7/dist-packages/ipykernel_launcher.py:17: UserWarning: /content/drive/MyDrive/data_test/sonja/results/34_300k_meso_5.2_0839_labels.png is a low contrast image\n"
     ]
    },
    {
     "name": "stdout",
     "output_type": "stream",
     "text": [
      "2021-09-23 15:13:15,651 [INFO] >>>> TOTAL TIME 14.93 sec\n",
      "2021-09-23 15:13:15,821 [INFO] ~~~ FINDING MASKS ~~~\n"
     ]
    },
    {
     "name": "stderr",
     "output_type": "stream",
     "text": [
      "/usr/local/lib/python3.7/dist-packages/ipykernel_launcher.py:17: UserWarning: /content/drive/MyDrive/data_test/sonja/results/34_300k_meso_5.2_0840_labels.png is a low contrast image\n"
     ]
    },
    {
     "name": "stdout",
     "output_type": "stream",
     "text": [
      "2021-09-23 15:13:30,731 [INFO] >>>> TOTAL TIME 14.91 sec\n",
      "2021-09-23 15:13:30,888 [INFO] ~~~ FINDING MASKS ~~~\n"
     ]
    },
    {
     "name": "stderr",
     "output_type": "stream",
     "text": [
      "/usr/local/lib/python3.7/dist-packages/ipykernel_launcher.py:17: UserWarning: /content/drive/MyDrive/data_test/sonja/results/34_300k_meso_5.2_0841_labels.png is a low contrast image\n"
     ]
    },
    {
     "name": "stdout",
     "output_type": "stream",
     "text": [
      "2021-09-23 15:13:45,764 [INFO] >>>> TOTAL TIME 14.88 sec\n",
      "2021-09-23 15:13:45,920 [INFO] ~~~ FINDING MASKS ~~~\n"
     ]
    },
    {
     "name": "stderr",
     "output_type": "stream",
     "text": [
      "/usr/local/lib/python3.7/dist-packages/ipykernel_launcher.py:17: UserWarning: /content/drive/MyDrive/data_test/sonja/results/34_300k_meso_5.2_0842_labels.png is a low contrast image\n"
     ]
    },
    {
     "name": "stdout",
     "output_type": "stream",
     "text": [
      "2021-09-23 15:14:00,776 [INFO] >>>> TOTAL TIME 14.86 sec\n",
      "2021-09-23 15:14:00,935 [INFO] ~~~ FINDING MASKS ~~~\n"
     ]
    },
    {
     "name": "stderr",
     "output_type": "stream",
     "text": [
      "/usr/local/lib/python3.7/dist-packages/ipykernel_launcher.py:17: UserWarning: /content/drive/MyDrive/data_test/sonja/results/34_300k_meso_5.2_0843_labels.png is a low contrast image\n"
     ]
    },
    {
     "name": "stdout",
     "output_type": "stream",
     "text": [
      "2021-09-23 15:14:15,801 [INFO] >>>> TOTAL TIME 14.87 sec\n",
      "2021-09-23 15:14:15,955 [INFO] ~~~ FINDING MASKS ~~~\n"
     ]
    },
    {
     "name": "stderr",
     "output_type": "stream",
     "text": [
      "/usr/local/lib/python3.7/dist-packages/ipykernel_launcher.py:17: UserWarning: /content/drive/MyDrive/data_test/sonja/results/34_300k_meso_5.2_0844_labels.png is a low contrast image\n"
     ]
    },
    {
     "name": "stdout",
     "output_type": "stream",
     "text": [
      "2021-09-23 15:14:30,893 [INFO] >>>> TOTAL TIME 14.94 sec\n"
     ]
    },
    {
     "name": "stderr",
     "output_type": "stream",
     "text": [
      "/usr/local/lib/python3.7/dist-packages/ipykernel_launcher.py:17: UserWarning: /content/drive/MyDrive/data_test/sonja/results/34_300k_meso_5.2_0845_labels.png is a low contrast image\n"
     ]
    },
    {
     "name": "stdout",
     "output_type": "stream",
     "text": [
      "2021-09-23 15:14:31,150 [INFO] ~~~ FINDING MASKS ~~~\n",
      "2021-09-23 15:14:46,037 [INFO] >>>> TOTAL TIME 14.89 sec\n",
      "2021-09-23 15:14:46,194 [INFO] ~~~ FINDING MASKS ~~~\n"
     ]
    },
    {
     "name": "stderr",
     "output_type": "stream",
     "text": [
      "/usr/local/lib/python3.7/dist-packages/ipykernel_launcher.py:17: UserWarning: /content/drive/MyDrive/data_test/sonja/results/34_300k_meso_5.2_0846_labels.png is a low contrast image\n"
     ]
    },
    {
     "name": "stdout",
     "output_type": "stream",
     "text": [
      "2021-09-23 15:15:01,130 [INFO] >>>> TOTAL TIME 14.94 sec\n",
      "2021-09-23 15:15:01,293 [INFO] ~~~ FINDING MASKS ~~~\n"
     ]
    },
    {
     "name": "stderr",
     "output_type": "stream",
     "text": [
      "/usr/local/lib/python3.7/dist-packages/ipykernel_launcher.py:17: UserWarning: /content/drive/MyDrive/data_test/sonja/results/34_300k_meso_5.2_0847_labels.png is a low contrast image\n"
     ]
    },
    {
     "name": "stdout",
     "output_type": "stream",
     "text": [
      "2021-09-23 15:15:16,258 [INFO] >>>> TOTAL TIME 14.97 sec\n",
      "2021-09-23 15:15:16,413 [INFO] ~~~ FINDING MASKS ~~~\n"
     ]
    },
    {
     "name": "stderr",
     "output_type": "stream",
     "text": [
      "/usr/local/lib/python3.7/dist-packages/ipykernel_launcher.py:17: UserWarning: /content/drive/MyDrive/data_test/sonja/results/34_300k_meso_5.2_0848_labels.png is a low contrast image\n"
     ]
    },
    {
     "name": "stdout",
     "output_type": "stream",
     "text": [
      "2021-09-23 15:15:31,436 [INFO] >>>> TOTAL TIME 15.02 sec\n",
      "2021-09-23 15:15:31,596 [INFO] ~~~ FINDING MASKS ~~~\n"
     ]
    },
    {
     "name": "stderr",
     "output_type": "stream",
     "text": [
      "/usr/local/lib/python3.7/dist-packages/ipykernel_launcher.py:17: UserWarning: /content/drive/MyDrive/data_test/sonja/results/34_300k_meso_5.2_0849_labels.png is a low contrast image\n"
     ]
    },
    {
     "name": "stdout",
     "output_type": "stream",
     "text": [
      "2021-09-23 15:15:46,548 [INFO] >>>> TOTAL TIME 14.95 sec\n",
      "2021-09-23 15:15:46,737 [INFO] ~~~ FINDING MASKS ~~~\n"
     ]
    },
    {
     "name": "stderr",
     "output_type": "stream",
     "text": [
      "/usr/local/lib/python3.7/dist-packages/ipykernel_launcher.py:17: UserWarning: /content/drive/MyDrive/data_test/sonja/results/34_300k_meso_5.2_0850_labels.png is a low contrast image\n"
     ]
    },
    {
     "name": "stdout",
     "output_type": "stream",
     "text": [
      "2021-09-23 15:16:01,707 [INFO] >>>> TOTAL TIME 14.97 sec\n",
      "2021-09-23 15:16:01,873 [INFO] ~~~ FINDING MASKS ~~~\n"
     ]
    },
    {
     "name": "stderr",
     "output_type": "stream",
     "text": [
      "/usr/local/lib/python3.7/dist-packages/ipykernel_launcher.py:17: UserWarning: /content/drive/MyDrive/data_test/sonja/results/34_300k_meso_5.2_0851_labels.png is a low contrast image\n"
     ]
    },
    {
     "name": "stdout",
     "output_type": "stream",
     "text": [
      "2021-09-23 15:16:16,750 [INFO] >>>> TOTAL TIME 14.88 sec\n",
      "2021-09-23 15:16:16,910 [INFO] ~~~ FINDING MASKS ~~~\n"
     ]
    },
    {
     "name": "stderr",
     "output_type": "stream",
     "text": [
      "/usr/local/lib/python3.7/dist-packages/ipykernel_launcher.py:17: UserWarning: /content/drive/MyDrive/data_test/sonja/results/34_300k_meso_5.2_0852_labels.png is a low contrast image\n"
     ]
    },
    {
     "name": "stdout",
     "output_type": "stream",
     "text": [
      "2021-09-23 15:16:31,814 [INFO] >>>> TOTAL TIME 14.90 sec\n",
      "2021-09-23 15:16:31,970 [INFO] ~~~ FINDING MASKS ~~~\n"
     ]
    },
    {
     "name": "stderr",
     "output_type": "stream",
     "text": [
      "/usr/local/lib/python3.7/dist-packages/ipykernel_launcher.py:17: UserWarning: /content/drive/MyDrive/data_test/sonja/results/34_300k_meso_5.2_0853_labels.png is a low contrast image\n"
     ]
    },
    {
     "name": "stdout",
     "output_type": "stream",
     "text": [
      "2021-09-23 15:16:46,946 [INFO] >>>> TOTAL TIME 14.98 sec\n",
      "2021-09-23 15:16:47,106 [INFO] ~~~ FINDING MASKS ~~~\n"
     ]
    },
    {
     "name": "stderr",
     "output_type": "stream",
     "text": [
      "/usr/local/lib/python3.7/dist-packages/ipykernel_launcher.py:17: UserWarning: /content/drive/MyDrive/data_test/sonja/results/34_300k_meso_5.2_0854_labels.png is a low contrast image\n"
     ]
    },
    {
     "name": "stdout",
     "output_type": "stream",
     "text": [
      "2021-09-23 15:17:02,006 [INFO] >>>> TOTAL TIME 14.90 sec\n",
      "2021-09-23 15:17:02,160 [INFO] ~~~ FINDING MASKS ~~~\n"
     ]
    },
    {
     "name": "stderr",
     "output_type": "stream",
     "text": [
      "/usr/local/lib/python3.7/dist-packages/ipykernel_launcher.py:17: UserWarning: /content/drive/MyDrive/data_test/sonja/results/34_300k_meso_5.2_0855_labels.png is a low contrast image\n"
     ]
    },
    {
     "name": "stdout",
     "output_type": "stream",
     "text": [
      "2021-09-23 15:17:17,068 [INFO] >>>> TOTAL TIME 14.91 sec\n",
      "2021-09-23 15:17:17,223 [INFO] ~~~ FINDING MASKS ~~~\n"
     ]
    },
    {
     "name": "stderr",
     "output_type": "stream",
     "text": [
      "/usr/local/lib/python3.7/dist-packages/ipykernel_launcher.py:17: UserWarning: /content/drive/MyDrive/data_test/sonja/results/34_300k_meso_5.2_0856_labels.png is a low contrast image\n"
     ]
    },
    {
     "name": "stdout",
     "output_type": "stream",
     "text": [
      "2021-09-23 15:17:32,169 [INFO] >>>> TOTAL TIME 14.95 sec\n",
      "2021-09-23 15:17:32,335 [INFO] ~~~ FINDING MASKS ~~~\n"
     ]
    },
    {
     "name": "stderr",
     "output_type": "stream",
     "text": [
      "/usr/local/lib/python3.7/dist-packages/ipykernel_launcher.py:17: UserWarning: /content/drive/MyDrive/data_test/sonja/results/34_300k_meso_5.2_0857_labels.png is a low contrast image\n"
     ]
    },
    {
     "name": "stdout",
     "output_type": "stream",
     "text": [
      "2021-09-23 15:17:47,308 [INFO] >>>> TOTAL TIME 14.97 sec\n",
      "2021-09-23 15:17:47,478 [INFO] ~~~ FINDING MASKS ~~~\n"
     ]
    },
    {
     "name": "stderr",
     "output_type": "stream",
     "text": [
      "/usr/local/lib/python3.7/dist-packages/ipykernel_launcher.py:17: UserWarning: /content/drive/MyDrive/data_test/sonja/results/34_300k_meso_5.2_0858_labels.png is a low contrast image\n"
     ]
    },
    {
     "name": "stdout",
     "output_type": "stream",
     "text": [
      "2021-09-23 15:18:02,391 [INFO] >>>> TOTAL TIME 14.91 sec\n",
      "2021-09-23 15:18:02,554 [INFO] ~~~ FINDING MASKS ~~~\n"
     ]
    },
    {
     "name": "stderr",
     "output_type": "stream",
     "text": [
      "/usr/local/lib/python3.7/dist-packages/ipykernel_launcher.py:17: UserWarning: /content/drive/MyDrive/data_test/sonja/results/34_300k_meso_5.2_0859_labels.png is a low contrast image\n"
     ]
    },
    {
     "name": "stdout",
     "output_type": "stream",
     "text": [
      "2021-09-23 15:18:17,459 [INFO] >>>> TOTAL TIME 14.90 sec\n",
      "2021-09-23 15:18:17,614 [INFO] ~~~ FINDING MASKS ~~~\n"
     ]
    },
    {
     "name": "stderr",
     "output_type": "stream",
     "text": [
      "/usr/local/lib/python3.7/dist-packages/ipykernel_launcher.py:17: UserWarning: /content/drive/MyDrive/data_test/sonja/results/34_300k_meso_5.2_0860_labels.png is a low contrast image\n"
     ]
    },
    {
     "name": "stdout",
     "output_type": "stream",
     "text": [
      "2021-09-23 15:18:32,600 [INFO] >>>> TOTAL TIME 14.99 sec\n",
      "2021-09-23 15:18:32,764 [INFO] ~~~ FINDING MASKS ~~~\n"
     ]
    },
    {
     "name": "stderr",
     "output_type": "stream",
     "text": [
      "/usr/local/lib/python3.7/dist-packages/ipykernel_launcher.py:17: UserWarning: /content/drive/MyDrive/data_test/sonja/results/34_300k_meso_5.2_0861_labels.png is a low contrast image\n"
     ]
    },
    {
     "name": "stdout",
     "output_type": "stream",
     "text": [
      "2021-09-23 15:18:47,726 [INFO] >>>> TOTAL TIME 14.96 sec\n",
      "2021-09-23 15:18:47,885 [INFO] ~~~ FINDING MASKS ~~~\n"
     ]
    },
    {
     "name": "stderr",
     "output_type": "stream",
     "text": [
      "/usr/local/lib/python3.7/dist-packages/ipykernel_launcher.py:17: UserWarning: /content/drive/MyDrive/data_test/sonja/results/34_300k_meso_5.2_0862_labels.png is a low contrast image\n"
     ]
    },
    {
     "name": "stdout",
     "output_type": "stream",
     "text": [
      "2021-09-23 15:19:02,898 [INFO] >>>> TOTAL TIME 15.01 sec\n",
      "2021-09-23 15:19:03,060 [INFO] ~~~ FINDING MASKS ~~~\n"
     ]
    },
    {
     "name": "stderr",
     "output_type": "stream",
     "text": [
      "/usr/local/lib/python3.7/dist-packages/ipykernel_launcher.py:17: UserWarning: /content/drive/MyDrive/data_test/sonja/results/34_300k_meso_5.2_0863_labels.png is a low contrast image\n"
     ]
    },
    {
     "name": "stdout",
     "output_type": "stream",
     "text": [
      "2021-09-23 15:19:18,043 [INFO] >>>> TOTAL TIME 14.98 sec\n",
      "2021-09-23 15:19:18,202 [INFO] ~~~ FINDING MASKS ~~~\n"
     ]
    },
    {
     "name": "stderr",
     "output_type": "stream",
     "text": [
      "/usr/local/lib/python3.7/dist-packages/ipykernel_launcher.py:17: UserWarning: /content/drive/MyDrive/data_test/sonja/results/34_300k_meso_5.2_0864_labels.png is a low contrast image\n"
     ]
    },
    {
     "name": "stdout",
     "output_type": "stream",
     "text": [
      "2021-09-23 15:19:33,099 [INFO] >>>> TOTAL TIME 14.90 sec\n",
      "2021-09-23 15:19:33,270 [INFO] ~~~ FINDING MASKS ~~~\n"
     ]
    },
    {
     "name": "stderr",
     "output_type": "stream",
     "text": [
      "/usr/local/lib/python3.7/dist-packages/ipykernel_launcher.py:17: UserWarning: /content/drive/MyDrive/data_test/sonja/results/34_300k_meso_5.2_0865_labels.png is a low contrast image\n"
     ]
    },
    {
     "name": "stdout",
     "output_type": "stream",
     "text": [
      "2021-09-23 15:19:48,176 [INFO] >>>> TOTAL TIME 14.91 sec\n",
      "2021-09-23 15:19:48,348 [INFO] ~~~ FINDING MASKS ~~~\n"
     ]
    },
    {
     "name": "stderr",
     "output_type": "stream",
     "text": [
      "/usr/local/lib/python3.7/dist-packages/ipykernel_launcher.py:17: UserWarning: /content/drive/MyDrive/data_test/sonja/results/34_300k_meso_5.2_0866_labels.png is a low contrast image\n"
     ]
    },
    {
     "name": "stdout",
     "output_type": "stream",
     "text": [
      "2021-09-23 15:20:03,267 [INFO] >>>> TOTAL TIME 14.92 sec\n",
      "2021-09-23 15:20:03,437 [INFO] ~~~ FINDING MASKS ~~~\n"
     ]
    },
    {
     "name": "stderr",
     "output_type": "stream",
     "text": [
      "/usr/local/lib/python3.7/dist-packages/ipykernel_launcher.py:17: UserWarning: /content/drive/MyDrive/data_test/sonja/results/34_300k_meso_5.2_0867_labels.png is a low contrast image\n"
     ]
    },
    {
     "name": "stdout",
     "output_type": "stream",
     "text": [
      "2021-09-23 15:20:18,349 [INFO] >>>> TOTAL TIME 14.91 sec\n",
      "2021-09-23 15:20:18,510 [INFO] ~~~ FINDING MASKS ~~~\n"
     ]
    },
    {
     "name": "stderr",
     "output_type": "stream",
     "text": [
      "/usr/local/lib/python3.7/dist-packages/ipykernel_launcher.py:17: UserWarning: /content/drive/MyDrive/data_test/sonja/results/34_300k_meso_5.2_0868_labels.png is a low contrast image\n"
     ]
    },
    {
     "name": "stdout",
     "output_type": "stream",
     "text": [
      "2021-09-23 15:20:33,483 [INFO] >>>> TOTAL TIME 14.97 sec\n",
      "2021-09-23 15:20:33,647 [INFO] ~~~ FINDING MASKS ~~~\n"
     ]
    },
    {
     "name": "stderr",
     "output_type": "stream",
     "text": [
      "/usr/local/lib/python3.7/dist-packages/ipykernel_launcher.py:17: UserWarning: /content/drive/MyDrive/data_test/sonja/results/34_300k_meso_5.2_0869_labels.png is a low contrast image\n"
     ]
    },
    {
     "name": "stdout",
     "output_type": "stream",
     "text": [
      "2021-09-23 15:20:48,626 [INFO] >>>> TOTAL TIME 14.98 sec\n",
      "2021-09-23 15:20:48,792 [INFO] ~~~ FINDING MASKS ~~~\n"
     ]
    },
    {
     "name": "stderr",
     "output_type": "stream",
     "text": [
      "/usr/local/lib/python3.7/dist-packages/ipykernel_launcher.py:17: UserWarning: /content/drive/MyDrive/data_test/sonja/results/34_300k_meso_5.2_0870_labels.png is a low contrast image\n"
     ]
    },
    {
     "name": "stdout",
     "output_type": "stream",
     "text": [
      "2021-09-23 15:21:03,795 [INFO] >>>> TOTAL TIME 15.00 sec\n",
      "2021-09-23 15:21:03,962 [INFO] ~~~ FINDING MASKS ~~~\n"
     ]
    },
    {
     "name": "stderr",
     "output_type": "stream",
     "text": [
      "/usr/local/lib/python3.7/dist-packages/ipykernel_launcher.py:17: UserWarning: /content/drive/MyDrive/data_test/sonja/results/34_300k_meso_5.2_0871_labels.png is a low contrast image\n"
     ]
    },
    {
     "name": "stdout",
     "output_type": "stream",
     "text": [
      "2021-09-23 15:21:18,902 [INFO] >>>> TOTAL TIME 14.94 sec\n",
      "2021-09-23 15:21:19,069 [INFO] ~~~ FINDING MASKS ~~~\n"
     ]
    },
    {
     "name": "stderr",
     "output_type": "stream",
     "text": [
      "/usr/local/lib/python3.7/dist-packages/ipykernel_launcher.py:17: UserWarning: /content/drive/MyDrive/data_test/sonja/results/34_300k_meso_5.2_0872_labels.png is a low contrast image\n"
     ]
    },
    {
     "name": "stdout",
     "output_type": "stream",
     "text": [
      "2021-09-23 15:21:34,061 [INFO] >>>> TOTAL TIME 14.99 sec\n",
      "2021-09-23 15:21:34,236 [INFO] ~~~ FINDING MASKS ~~~\n"
     ]
    },
    {
     "name": "stderr",
     "output_type": "stream",
     "text": [
      "/usr/local/lib/python3.7/dist-packages/ipykernel_launcher.py:17: UserWarning: /content/drive/MyDrive/data_test/sonja/results/34_300k_meso_5.2_0873_labels.png is a low contrast image\n"
     ]
    },
    {
     "name": "stdout",
     "output_type": "stream",
     "text": [
      "2021-09-23 15:21:49,215 [INFO] >>>> TOTAL TIME 14.98 sec\n",
      "2021-09-23 15:21:49,404 [INFO] ~~~ FINDING MASKS ~~~\n"
     ]
    },
    {
     "name": "stderr",
     "output_type": "stream",
     "text": [
      "/usr/local/lib/python3.7/dist-packages/ipykernel_launcher.py:17: UserWarning: /content/drive/MyDrive/data_test/sonja/results/34_300k_meso_5.2_0874_labels.png is a low contrast image\n"
     ]
    },
    {
     "name": "stdout",
     "output_type": "stream",
     "text": [
      "2021-09-23 15:22:04,389 [INFO] >>>> TOTAL TIME 14.99 sec\n",
      "2021-09-23 15:22:04,564 [INFO] ~~~ FINDING MASKS ~~~\n"
     ]
    },
    {
     "name": "stderr",
     "output_type": "stream",
     "text": [
      "/usr/local/lib/python3.7/dist-packages/ipykernel_launcher.py:17: UserWarning: /content/drive/MyDrive/data_test/sonja/results/34_300k_meso_5.2_0875_labels.png is a low contrast image\n"
     ]
    },
    {
     "name": "stdout",
     "output_type": "stream",
     "text": [
      "2021-09-23 15:22:19,437 [INFO] >>>> TOTAL TIME 14.87 sec\n",
      "2021-09-23 15:22:19,601 [INFO] ~~~ FINDING MASKS ~~~\n"
     ]
    },
    {
     "name": "stderr",
     "output_type": "stream",
     "text": [
      "/usr/local/lib/python3.7/dist-packages/ipykernel_launcher.py:17: UserWarning: /content/drive/MyDrive/data_test/sonja/results/34_300k_meso_5.2_0876_labels.png is a low contrast image\n"
     ]
    },
    {
     "name": "stdout",
     "output_type": "stream",
     "text": [
      "2021-09-23 15:22:34,551 [INFO] >>>> TOTAL TIME 14.95 sec\n",
      "2021-09-23 15:22:34,723 [INFO] ~~~ FINDING MASKS ~~~\n"
     ]
    },
    {
     "name": "stderr",
     "output_type": "stream",
     "text": [
      "/usr/local/lib/python3.7/dist-packages/ipykernel_launcher.py:17: UserWarning: /content/drive/MyDrive/data_test/sonja/results/34_300k_meso_5.2_0877_labels.png is a low contrast image\n"
     ]
    },
    {
     "name": "stdout",
     "output_type": "stream",
     "text": [
      "2021-09-23 15:22:49,699 [INFO] >>>> TOTAL TIME 14.98 sec\n",
      "2021-09-23 15:22:49,875 [INFO] ~~~ FINDING MASKS ~~~\n"
     ]
    },
    {
     "name": "stderr",
     "output_type": "stream",
     "text": [
      "/usr/local/lib/python3.7/dist-packages/ipykernel_launcher.py:17: UserWarning: /content/drive/MyDrive/data_test/sonja/results/34_300k_meso_5.2_0878_labels.png is a low contrast image\n"
     ]
    },
    {
     "name": "stdout",
     "output_type": "stream",
     "text": [
      "2021-09-23 15:23:04,833 [INFO] >>>> TOTAL TIME 14.96 sec\n",
      "2021-09-23 15:23:05,001 [INFO] ~~~ FINDING MASKS ~~~\n"
     ]
    },
    {
     "name": "stderr",
     "output_type": "stream",
     "text": [
      "/usr/local/lib/python3.7/dist-packages/ipykernel_launcher.py:17: UserWarning: /content/drive/MyDrive/data_test/sonja/results/34_300k_meso_5.2_0879_labels.png is a low contrast image\n"
     ]
    },
    {
     "name": "stdout",
     "output_type": "stream",
     "text": [
      "2021-09-23 15:23:19,998 [INFO] >>>> TOTAL TIME 15.00 sec\n",
      "2021-09-23 15:23:20,168 [INFO] ~~~ FINDING MASKS ~~~\n"
     ]
    },
    {
     "name": "stderr",
     "output_type": "stream",
     "text": [
      "/usr/local/lib/python3.7/dist-packages/ipykernel_launcher.py:17: UserWarning: /content/drive/MyDrive/data_test/sonja/results/34_300k_meso_5.2_0880_labels.png is a low contrast image\n"
     ]
    },
    {
     "name": "stdout",
     "output_type": "stream",
     "text": [
      "2021-09-23 15:23:35,244 [INFO] >>>> TOTAL TIME 15.08 sec\n",
      "2021-09-23 15:23:35,408 [INFO] ~~~ FINDING MASKS ~~~\n"
     ]
    },
    {
     "name": "stderr",
     "output_type": "stream",
     "text": [
      "/usr/local/lib/python3.7/dist-packages/ipykernel_launcher.py:17: UserWarning: /content/drive/MyDrive/data_test/sonja/results/34_300k_meso_5.2_0881_labels.png is a low contrast image\n"
     ]
    },
    {
     "name": "stdout",
     "output_type": "stream",
     "text": [
      "2021-09-23 15:23:50,422 [INFO] >>>> TOTAL TIME 15.01 sec\n",
      "2021-09-23 15:23:50,594 [INFO] ~~~ FINDING MASKS ~~~\n"
     ]
    },
    {
     "name": "stderr",
     "output_type": "stream",
     "text": [
      "/usr/local/lib/python3.7/dist-packages/ipykernel_launcher.py:17: UserWarning: /content/drive/MyDrive/data_test/sonja/results/34_300k_meso_5.2_0882_labels.png is a low contrast image\n"
     ]
    },
    {
     "name": "stdout",
     "output_type": "stream",
     "text": [
      "2021-09-23 15:24:05,609 [INFO] >>>> TOTAL TIME 15.01 sec\n",
      "2021-09-23 15:24:05,771 [INFO] ~~~ FINDING MASKS ~~~\n"
     ]
    },
    {
     "name": "stderr",
     "output_type": "stream",
     "text": [
      "/usr/local/lib/python3.7/dist-packages/ipykernel_launcher.py:17: UserWarning: /content/drive/MyDrive/data_test/sonja/results/34_300k_meso_5.2_0883_labels.png is a low contrast image\n"
     ]
    },
    {
     "name": "stdout",
     "output_type": "stream",
     "text": [
      "2021-09-23 15:24:20,749 [INFO] >>>> TOTAL TIME 14.98 sec\n",
      "2021-09-23 15:24:20,922 [INFO] ~~~ FINDING MASKS ~~~\n"
     ]
    },
    {
     "name": "stderr",
     "output_type": "stream",
     "text": [
      "/usr/local/lib/python3.7/dist-packages/ipykernel_launcher.py:17: UserWarning: /content/drive/MyDrive/data_test/sonja/results/34_300k_meso_5.2_0884_labels.png is a low contrast image\n"
     ]
    },
    {
     "name": "stdout",
     "output_type": "stream",
     "text": [
      "2021-09-23 15:24:35,956 [INFO] >>>> TOTAL TIME 15.03 sec\n",
      "2021-09-23 15:24:36,124 [INFO] ~~~ FINDING MASKS ~~~\n"
     ]
    },
    {
     "name": "stderr",
     "output_type": "stream",
     "text": [
      "/usr/local/lib/python3.7/dist-packages/ipykernel_launcher.py:17: UserWarning: /content/drive/MyDrive/data_test/sonja/results/34_300k_meso_5.2_0885_labels.png is a low contrast image\n"
     ]
    },
    {
     "name": "stdout",
     "output_type": "stream",
     "text": [
      "2021-09-23 15:24:51,145 [INFO] >>>> TOTAL TIME 15.02 sec\n",
      "2021-09-23 15:24:51,326 [INFO] ~~~ FINDING MASKS ~~~\n"
     ]
    },
    {
     "name": "stderr",
     "output_type": "stream",
     "text": [
      "/usr/local/lib/python3.7/dist-packages/ipykernel_launcher.py:17: UserWarning: /content/drive/MyDrive/data_test/sonja/results/34_300k_meso_5.2_0886_labels.png is a low contrast image\n"
     ]
    },
    {
     "name": "stdout",
     "output_type": "stream",
     "text": [
      "2021-09-23 15:25:06,355 [INFO] >>>> TOTAL TIME 15.03 sec\n",
      "2021-09-23 15:25:06,550 [INFO] ~~~ FINDING MASKS ~~~\n"
     ]
    },
    {
     "name": "stderr",
     "output_type": "stream",
     "text": [
      "/usr/local/lib/python3.7/dist-packages/ipykernel_launcher.py:17: UserWarning: /content/drive/MyDrive/data_test/sonja/results/34_300k_meso_5.2_0887_labels.png is a low contrast image\n"
     ]
    },
    {
     "name": "stdout",
     "output_type": "stream",
     "text": [
      "2021-09-23 15:25:21,594 [INFO] >>>> TOTAL TIME 15.04 sec\n",
      "2021-09-23 15:25:21,766 [INFO] ~~~ FINDING MASKS ~~~\n"
     ]
    },
    {
     "name": "stderr",
     "output_type": "stream",
     "text": [
      "/usr/local/lib/python3.7/dist-packages/ipykernel_launcher.py:17: UserWarning: /content/drive/MyDrive/data_test/sonja/results/34_300k_meso_5.2_0888_labels.png is a low contrast image\n"
     ]
    },
    {
     "name": "stdout",
     "output_type": "stream",
     "text": [
      "2021-09-23 15:25:36,834 [INFO] >>>> TOTAL TIME 15.07 sec\n",
      "2021-09-23 15:25:37,003 [INFO] ~~~ FINDING MASKS ~~~\n"
     ]
    },
    {
     "name": "stderr",
     "output_type": "stream",
     "text": [
      "/usr/local/lib/python3.7/dist-packages/ipykernel_launcher.py:17: UserWarning: /content/drive/MyDrive/data_test/sonja/results/34_300k_meso_5.2_0889_labels.png is a low contrast image\n"
     ]
    },
    {
     "name": "stdout",
     "output_type": "stream",
     "text": [
      "2021-09-23 15:25:52,007 [INFO] >>>> TOTAL TIME 15.00 sec\n",
      "2021-09-23 15:25:52,173 [INFO] ~~~ FINDING MASKS ~~~\n"
     ]
    },
    {
     "name": "stderr",
     "output_type": "stream",
     "text": [
      "/usr/local/lib/python3.7/dist-packages/ipykernel_launcher.py:17: UserWarning: /content/drive/MyDrive/data_test/sonja/results/34_300k_meso_5.2_0890_labels.png is a low contrast image\n"
     ]
    },
    {
     "name": "stdout",
     "output_type": "stream",
     "text": [
      "2021-09-23 15:26:07,112 [INFO] >>>> TOTAL TIME 14.94 sec\n",
      "2021-09-23 15:26:07,289 [INFO] ~~~ FINDING MASKS ~~~\n"
     ]
    },
    {
     "name": "stderr",
     "output_type": "stream",
     "text": [
      "/usr/local/lib/python3.7/dist-packages/ipykernel_launcher.py:17: UserWarning: /content/drive/MyDrive/data_test/sonja/results/34_300k_meso_5.2_0891_labels.png is a low contrast image\n"
     ]
    },
    {
     "name": "stdout",
     "output_type": "stream",
     "text": [
      "2021-09-23 15:26:22,228 [INFO] >>>> TOTAL TIME 14.94 sec\n",
      "2021-09-23 15:26:22,396 [INFO] ~~~ FINDING MASKS ~~~\n"
     ]
    },
    {
     "name": "stderr",
     "output_type": "stream",
     "text": [
      "/usr/local/lib/python3.7/dist-packages/ipykernel_launcher.py:17: UserWarning: /content/drive/MyDrive/data_test/sonja/results/34_300k_meso_5.2_0892_labels.png is a low contrast image\n"
     ]
    },
    {
     "name": "stdout",
     "output_type": "stream",
     "text": [
      "2021-09-23 15:26:37,344 [INFO] >>>> TOTAL TIME 14.95 sec\n",
      "2021-09-23 15:26:37,524 [INFO] ~~~ FINDING MASKS ~~~\n"
     ]
    },
    {
     "name": "stderr",
     "output_type": "stream",
     "text": [
      "/usr/local/lib/python3.7/dist-packages/ipykernel_launcher.py:17: UserWarning: /content/drive/MyDrive/data_test/sonja/results/34_300k_meso_5.2_0893_labels.png is a low contrast image\n"
     ]
    },
    {
     "name": "stdout",
     "output_type": "stream",
     "text": [
      "2021-09-23 15:26:52,532 [INFO] >>>> TOTAL TIME 15.01 sec\n",
      "2021-09-23 15:26:52,712 [INFO] ~~~ FINDING MASKS ~~~\n"
     ]
    },
    {
     "name": "stderr",
     "output_type": "stream",
     "text": [
      "/usr/local/lib/python3.7/dist-packages/ipykernel_launcher.py:17: UserWarning: /content/drive/MyDrive/data_test/sonja/results/34_300k_meso_5.2_0894_labels.png is a low contrast image\n"
     ]
    },
    {
     "name": "stdout",
     "output_type": "stream",
     "text": [
      "2021-09-23 15:27:07,763 [INFO] >>>> TOTAL TIME 15.05 sec\n",
      "2021-09-23 15:27:07,937 [INFO] ~~~ FINDING MASKS ~~~\n"
     ]
    },
    {
     "name": "stderr",
     "output_type": "stream",
     "text": [
      "/usr/local/lib/python3.7/dist-packages/ipykernel_launcher.py:17: UserWarning: /content/drive/MyDrive/data_test/sonja/results/34_300k_meso_5.2_0895_labels.png is a low contrast image\n"
     ]
    },
    {
     "name": "stdout",
     "output_type": "stream",
     "text": [
      "2021-09-23 15:27:22,915 [INFO] >>>> TOTAL TIME 14.98 sec\n"
     ]
    },
    {
     "name": "stderr",
     "output_type": "stream",
     "text": [
      "/usr/local/lib/python3.7/dist-packages/ipykernel_launcher.py:17: UserWarning: /content/drive/MyDrive/data_test/sonja/results/34_300k_meso_5.2_0896_labels.png is a low contrast image\n"
     ]
    },
    {
     "name": "stdout",
     "output_type": "stream",
     "text": [
      "2021-09-23 15:27:23,173 [INFO] ~~~ FINDING MASKS ~~~\n",
      "2021-09-23 15:27:38,217 [INFO] >>>> TOTAL TIME 15.04 sec\n",
      "2021-09-23 15:27:38,404 [INFO] ~~~ FINDING MASKS ~~~\n"
     ]
    },
    {
     "name": "stderr",
     "output_type": "stream",
     "text": [
      "/usr/local/lib/python3.7/dist-packages/ipykernel_launcher.py:17: UserWarning: /content/drive/MyDrive/data_test/sonja/results/34_300k_meso_5.2_0897_labels.png is a low contrast image\n"
     ]
    },
    {
     "name": "stdout",
     "output_type": "stream",
     "text": [
      "2021-09-23 15:27:53,486 [INFO] >>>> TOTAL TIME 15.08 sec\n",
      "2021-09-23 15:27:53,669 [INFO] ~~~ FINDING MASKS ~~~\n"
     ]
    },
    {
     "name": "stderr",
     "output_type": "stream",
     "text": [
      "/usr/local/lib/python3.7/dist-packages/ipykernel_launcher.py:17: UserWarning: /content/drive/MyDrive/data_test/sonja/results/34_300k_meso_5.2_0898_labels.png is a low contrast image\n"
     ]
    },
    {
     "name": "stdout",
     "output_type": "stream",
     "text": [
      "2021-09-23 15:28:08,729 [INFO] >>>> TOTAL TIME 15.06 sec\n",
      "2021-09-23 15:28:08,917 [INFO] ~~~ FINDING MASKS ~~~\n"
     ]
    },
    {
     "name": "stderr",
     "output_type": "stream",
     "text": [
      "/usr/local/lib/python3.7/dist-packages/ipykernel_launcher.py:17: UserWarning: /content/drive/MyDrive/data_test/sonja/results/34_300k_meso_5.2_0899_labels.png is a low contrast image\n"
     ]
    },
    {
     "name": "stdout",
     "output_type": "stream",
     "text": [
      "2021-09-23 15:28:23,972 [INFO] >>>> TOTAL TIME 15.06 sec\n",
      "2021-09-23 15:28:24,153 [INFO] ~~~ FINDING MASKS ~~~\n"
     ]
    },
    {
     "name": "stderr",
     "output_type": "stream",
     "text": [
      "/usr/local/lib/python3.7/dist-packages/ipykernel_launcher.py:17: UserWarning: /content/drive/MyDrive/data_test/sonja/results/34_300k_meso_5.2_0900_labels.png is a low contrast image\n"
     ]
    },
    {
     "name": "stdout",
     "output_type": "stream",
     "text": [
      "2021-09-23 15:28:39,282 [INFO] >>>> TOTAL TIME 15.13 sec\n",
      "2021-09-23 15:28:39,454 [INFO] ~~~ FINDING MASKS ~~~\n"
     ]
    },
    {
     "name": "stderr",
     "output_type": "stream",
     "text": [
      "/usr/local/lib/python3.7/dist-packages/ipykernel_launcher.py:17: UserWarning: /content/drive/MyDrive/data_test/sonja/results/34_300k_meso_5.2_0901_labels.png is a low contrast image\n"
     ]
    },
    {
     "name": "stdout",
     "output_type": "stream",
     "text": [
      "2021-09-23 15:28:54,595 [INFO] >>>> TOTAL TIME 15.14 sec\n",
      "2021-09-23 15:28:54,775 [INFO] ~~~ FINDING MASKS ~~~\n"
     ]
    },
    {
     "name": "stderr",
     "output_type": "stream",
     "text": [
      "/usr/local/lib/python3.7/dist-packages/ipykernel_launcher.py:17: UserWarning: /content/drive/MyDrive/data_test/sonja/results/34_300k_meso_5.2_0902_labels.png is a low contrast image\n"
     ]
    },
    {
     "name": "stdout",
     "output_type": "stream",
     "text": [
      "2021-09-23 15:29:09,915 [INFO] >>>> TOTAL TIME 15.14 sec\n",
      "2021-09-23 15:29:10,105 [INFO] ~~~ FINDING MASKS ~~~\n"
     ]
    },
    {
     "name": "stderr",
     "output_type": "stream",
     "text": [
      "/usr/local/lib/python3.7/dist-packages/ipykernel_launcher.py:17: UserWarning: /content/drive/MyDrive/data_test/sonja/results/34_300k_meso_5.2_0903_labels.png is a low contrast image\n"
     ]
    },
    {
     "name": "stdout",
     "output_type": "stream",
     "text": [
      "2021-09-23 15:29:25,229 [INFO] >>>> TOTAL TIME 15.12 sec\n",
      "2021-09-23 15:29:25,417 [INFO] ~~~ FINDING MASKS ~~~\n"
     ]
    },
    {
     "name": "stderr",
     "output_type": "stream",
     "text": [
      "/usr/local/lib/python3.7/dist-packages/ipykernel_launcher.py:17: UserWarning: /content/drive/MyDrive/data_test/sonja/results/34_300k_meso_5.2_0904_labels.png is a low contrast image\n"
     ]
    },
    {
     "name": "stdout",
     "output_type": "stream",
     "text": [
      "2021-09-23 15:29:40,513 [INFO] >>>> TOTAL TIME 15.10 sec\n",
      "2021-09-23 15:29:40,706 [INFO] ~~~ FINDING MASKS ~~~\n"
     ]
    },
    {
     "name": "stderr",
     "output_type": "stream",
     "text": [
      "/usr/local/lib/python3.7/dist-packages/ipykernel_launcher.py:17: UserWarning: /content/drive/MyDrive/data_test/sonja/results/34_300k_meso_5.2_0905_labels.png is a low contrast image\n"
     ]
    },
    {
     "name": "stdout",
     "output_type": "stream",
     "text": [
      "2021-09-23 15:29:55,839 [INFO] >>>> TOTAL TIME 15.13 sec\n",
      "2021-09-23 15:29:56,030 [INFO] ~~~ FINDING MASKS ~~~\n"
     ]
    },
    {
     "name": "stderr",
     "output_type": "stream",
     "text": [
      "/usr/local/lib/python3.7/dist-packages/ipykernel_launcher.py:17: UserWarning: /content/drive/MyDrive/data_test/sonja/results/34_300k_meso_5.2_0906_labels.png is a low contrast image\n"
     ]
    },
    {
     "name": "stdout",
     "output_type": "stream",
     "text": [
      "2021-09-23 15:30:11,080 [INFO] >>>> TOTAL TIME 15.05 sec\n",
      "2021-09-23 15:30:11,265 [INFO] ~~~ FINDING MASKS ~~~\n"
     ]
    },
    {
     "name": "stderr",
     "output_type": "stream",
     "text": [
      "/usr/local/lib/python3.7/dist-packages/ipykernel_launcher.py:17: UserWarning: /content/drive/MyDrive/data_test/sonja/results/34_300k_meso_5.2_0907_labels.png is a low contrast image\n"
     ]
    },
    {
     "name": "stdout",
     "output_type": "stream",
     "text": [
      "2021-09-23 15:30:26,349 [INFO] >>>> TOTAL TIME 15.08 sec\n",
      "2021-09-23 15:30:26,534 [INFO] ~~~ FINDING MASKS ~~~\n"
     ]
    },
    {
     "name": "stderr",
     "output_type": "stream",
     "text": [
      "/usr/local/lib/python3.7/dist-packages/ipykernel_launcher.py:17: UserWarning: /content/drive/MyDrive/data_test/sonja/results/34_300k_meso_5.2_0908_labels.png is a low contrast image\n"
     ]
    },
    {
     "name": "stdout",
     "output_type": "stream",
     "text": [
      "2021-09-23 15:30:41,645 [INFO] >>>> TOTAL TIME 15.11 sec\n",
      "2021-09-23 15:30:41,822 [INFO] ~~~ FINDING MASKS ~~~\n"
     ]
    },
    {
     "name": "stderr",
     "output_type": "stream",
     "text": [
      "/usr/local/lib/python3.7/dist-packages/ipykernel_launcher.py:17: UserWarning: /content/drive/MyDrive/data_test/sonja/results/34_300k_meso_5.2_0909_labels.png is a low contrast image\n"
     ]
    },
    {
     "name": "stdout",
     "output_type": "stream",
     "text": [
      "2021-09-23 15:30:56,891 [INFO] >>>> TOTAL TIME 15.07 sec\n",
      "2021-09-23 15:30:57,067 [INFO] ~~~ FINDING MASKS ~~~\n"
     ]
    },
    {
     "name": "stderr",
     "output_type": "stream",
     "text": [
      "/usr/local/lib/python3.7/dist-packages/ipykernel_launcher.py:17: UserWarning: /content/drive/MyDrive/data_test/sonja/results/34_300k_meso_5.2_0910_labels.png is a low contrast image\n"
     ]
    },
    {
     "name": "stdout",
     "output_type": "stream",
     "text": [
      "2021-09-23 15:31:12,182 [INFO] >>>> TOTAL TIME 15.11 sec\n",
      "2021-09-23 15:31:12,368 [INFO] ~~~ FINDING MASKS ~~~\n"
     ]
    },
    {
     "name": "stderr",
     "output_type": "stream",
     "text": [
      "/usr/local/lib/python3.7/dist-packages/ipykernel_launcher.py:17: UserWarning: /content/drive/MyDrive/data_test/sonja/results/34_300k_meso_5.2_0911_labels.png is a low contrast image\n"
     ]
    },
    {
     "name": "stdout",
     "output_type": "stream",
     "text": [
      "2021-09-23 15:31:27,604 [INFO] >>>> TOTAL TIME 15.24 sec\n",
      "2021-09-23 15:31:27,789 [INFO] ~~~ FINDING MASKS ~~~\n"
     ]
    },
    {
     "name": "stderr",
     "output_type": "stream",
     "text": [
      "/usr/local/lib/python3.7/dist-packages/ipykernel_launcher.py:17: UserWarning: /content/drive/MyDrive/data_test/sonja/results/34_300k_meso_5.2_0912_labels.png is a low contrast image\n"
     ]
    },
    {
     "name": "stdout",
     "output_type": "stream",
     "text": [
      "2021-09-23 15:31:42,918 [INFO] >>>> TOTAL TIME 15.13 sec\n",
      "2021-09-23 15:31:43,095 [INFO] ~~~ FINDING MASKS ~~~\n"
     ]
    },
    {
     "name": "stderr",
     "output_type": "stream",
     "text": [
      "/usr/local/lib/python3.7/dist-packages/ipykernel_launcher.py:17: UserWarning: /content/drive/MyDrive/data_test/sonja/results/34_300k_meso_5.2_0913_labels.png is a low contrast image\n"
     ]
    },
    {
     "name": "stdout",
     "output_type": "stream",
     "text": [
      "2021-09-23 15:31:58,214 [INFO] >>>> TOTAL TIME 15.12 sec\n",
      "2021-09-23 15:31:58,390 [INFO] ~~~ FINDING MASKS ~~~\n"
     ]
    },
    {
     "name": "stderr",
     "output_type": "stream",
     "text": [
      "/usr/local/lib/python3.7/dist-packages/ipykernel_launcher.py:17: UserWarning: /content/drive/MyDrive/data_test/sonja/results/34_300k_meso_5.2_0914_labels.png is a low contrast image\n"
     ]
    },
    {
     "name": "stdout",
     "output_type": "stream",
     "text": [
      "2021-09-23 15:32:13,478 [INFO] >>>> TOTAL TIME 15.09 sec\n",
      "2021-09-23 15:32:13,663 [INFO] ~~~ FINDING MASKS ~~~\n"
     ]
    },
    {
     "name": "stderr",
     "output_type": "stream",
     "text": [
      "/usr/local/lib/python3.7/dist-packages/ipykernel_launcher.py:17: UserWarning: /content/drive/MyDrive/data_test/sonja/results/34_300k_meso_5.2_0915_labels.png is a low contrast image\n"
     ]
    },
    {
     "name": "stdout",
     "output_type": "stream",
     "text": [
      "2021-09-23 15:32:28,777 [INFO] >>>> TOTAL TIME 15.11 sec\n",
      "2021-09-23 15:32:28,950 [INFO] ~~~ FINDING MASKS ~~~\n"
     ]
    },
    {
     "name": "stderr",
     "output_type": "stream",
     "text": [
      "/usr/local/lib/python3.7/dist-packages/ipykernel_launcher.py:17: UserWarning: /content/drive/MyDrive/data_test/sonja/results/34_300k_meso_5.2_0916_labels.png is a low contrast image\n"
     ]
    },
    {
     "name": "stdout",
     "output_type": "stream",
     "text": [
      "2021-09-23 15:32:43,975 [INFO] >>>> TOTAL TIME 15.03 sec\n",
      "2021-09-23 15:32:44,150 [INFO] ~~~ FINDING MASKS ~~~\n"
     ]
    },
    {
     "name": "stderr",
     "output_type": "stream",
     "text": [
      "/usr/local/lib/python3.7/dist-packages/ipykernel_launcher.py:17: UserWarning: /content/drive/MyDrive/data_test/sonja/results/34_300k_meso_5.2_0917_labels.png is a low contrast image\n"
     ]
    },
    {
     "name": "stdout",
     "output_type": "stream",
     "text": [
      "2021-09-23 15:32:59,219 [INFO] >>>> TOTAL TIME 15.07 sec\n",
      "2021-09-23 15:32:59,394 [INFO] ~~~ FINDING MASKS ~~~\n"
     ]
    },
    {
     "name": "stderr",
     "output_type": "stream",
     "text": [
      "/usr/local/lib/python3.7/dist-packages/ipykernel_launcher.py:17: UserWarning: /content/drive/MyDrive/data_test/sonja/results/34_300k_meso_5.2_0918_labels.png is a low contrast image\n"
     ]
    },
    {
     "name": "stdout",
     "output_type": "stream",
     "text": [
      "2021-09-23 15:33:14,437 [INFO] >>>> TOTAL TIME 15.04 sec\n",
      "2021-09-23 15:33:14,615 [INFO] ~~~ FINDING MASKS ~~~\n"
     ]
    },
    {
     "name": "stderr",
     "output_type": "stream",
     "text": [
      "/usr/local/lib/python3.7/dist-packages/ipykernel_launcher.py:17: UserWarning: /content/drive/MyDrive/data_test/sonja/results/34_300k_meso_5.2_0919_labels.png is a low contrast image\n"
     ]
    },
    {
     "name": "stdout",
     "output_type": "stream",
     "text": [
      "2021-09-23 15:33:29,663 [INFO] >>>> TOTAL TIME 15.05 sec\n",
      "2021-09-23 15:33:29,838 [INFO] ~~~ FINDING MASKS ~~~\n"
     ]
    },
    {
     "name": "stderr",
     "output_type": "stream",
     "text": [
      "/usr/local/lib/python3.7/dist-packages/ipykernel_launcher.py:17: UserWarning: /content/drive/MyDrive/data_test/sonja/results/34_300k_meso_5.2_0920_labels.png is a low contrast image\n"
     ]
    },
    {
     "name": "stdout",
     "output_type": "stream",
     "text": [
      "2021-09-23 15:33:44,895 [INFO] >>>> TOTAL TIME 15.06 sec\n",
      "2021-09-23 15:33:45,084 [INFO] ~~~ FINDING MASKS ~~~\n"
     ]
    },
    {
     "name": "stderr",
     "output_type": "stream",
     "text": [
      "/usr/local/lib/python3.7/dist-packages/ipykernel_launcher.py:17: UserWarning: /content/drive/MyDrive/data_test/sonja/results/34_300k_meso_5.2_0921_labels.png is a low contrast image\n"
     ]
    },
    {
     "name": "stdout",
     "output_type": "stream",
     "text": [
      "2021-09-23 15:34:00,218 [INFO] >>>> TOTAL TIME 15.13 sec\n",
      "2021-09-23 15:34:00,415 [INFO] ~~~ FINDING MASKS ~~~\n"
     ]
    },
    {
     "name": "stderr",
     "output_type": "stream",
     "text": [
      "/usr/local/lib/python3.7/dist-packages/ipykernel_launcher.py:17: UserWarning: /content/drive/MyDrive/data_test/sonja/results/34_300k_meso_5.2_0922_labels.png is a low contrast image\n"
     ]
    },
    {
     "name": "stdout",
     "output_type": "stream",
     "text": [
      "2021-09-23 15:34:15,404 [INFO] >>>> TOTAL TIME 14.99 sec\n",
      "2021-09-23 15:34:15,578 [INFO] ~~~ FINDING MASKS ~~~\n"
     ]
    },
    {
     "name": "stderr",
     "output_type": "stream",
     "text": [
      "/usr/local/lib/python3.7/dist-packages/ipykernel_launcher.py:17: UserWarning: /content/drive/MyDrive/data_test/sonja/results/34_300k_meso_5.2_0923_labels.png is a low contrast image\n"
     ]
    },
    {
     "name": "stdout",
     "output_type": "stream",
     "text": [
      "2021-09-23 15:34:30,602 [INFO] >>>> TOTAL TIME 15.02 sec\n",
      "2021-09-23 15:34:30,801 [INFO] ~~~ FINDING MASKS ~~~\n"
     ]
    },
    {
     "name": "stderr",
     "output_type": "stream",
     "text": [
      "/usr/local/lib/python3.7/dist-packages/ipykernel_launcher.py:17: UserWarning: /content/drive/MyDrive/data_test/sonja/results/34_300k_meso_5.2_0924_labels.png is a low contrast image\n"
     ]
    },
    {
     "name": "stdout",
     "output_type": "stream",
     "text": [
      "2021-09-23 15:34:45,784 [INFO] >>>> TOTAL TIME 14.98 sec\n",
      "2021-09-23 15:34:45,952 [INFO] ~~~ FINDING MASKS ~~~\n"
     ]
    },
    {
     "name": "stderr",
     "output_type": "stream",
     "text": [
      "/usr/local/lib/python3.7/dist-packages/ipykernel_launcher.py:17: UserWarning: /content/drive/MyDrive/data_test/sonja/results/34_300k_meso_5.2_0925_labels.png is a low contrast image\n"
     ]
    },
    {
     "name": "stdout",
     "output_type": "stream",
     "text": [
      "2021-09-23 15:35:00,950 [INFO] >>>> TOTAL TIME 15.00 sec\n",
      "2021-09-23 15:35:01,131 [INFO] ~~~ FINDING MASKS ~~~\n"
     ]
    },
    {
     "name": "stderr",
     "output_type": "stream",
     "text": [
      "/usr/local/lib/python3.7/dist-packages/ipykernel_launcher.py:17: UserWarning: /content/drive/MyDrive/data_test/sonja/results/34_300k_meso_5.2_0926_labels.png is a low contrast image\n"
     ]
    },
    {
     "name": "stdout",
     "output_type": "stream",
     "text": [
      "2021-09-23 15:35:16,115 [INFO] >>>> TOTAL TIME 14.98 sec\n",
      "2021-09-23 15:35:16,295 [INFO] ~~~ FINDING MASKS ~~~\n"
     ]
    },
    {
     "name": "stderr",
     "output_type": "stream",
     "text": [
      "/usr/local/lib/python3.7/dist-packages/ipykernel_launcher.py:17: UserWarning: /content/drive/MyDrive/data_test/sonja/results/34_300k_meso_5.2_0927_labels.png is a low contrast image\n"
     ]
    },
    {
     "name": "stdout",
     "output_type": "stream",
     "text": [
      "2021-09-23 15:35:31,359 [INFO] >>>> TOTAL TIME 15.06 sec\n",
      "2021-09-23 15:35:31,544 [INFO] ~~~ FINDING MASKS ~~~\n"
     ]
    },
    {
     "name": "stderr",
     "output_type": "stream",
     "text": [
      "/usr/local/lib/python3.7/dist-packages/ipykernel_launcher.py:17: UserWarning: /content/drive/MyDrive/data_test/sonja/results/34_300k_meso_5.2_0928_labels.png is a low contrast image\n"
     ]
    },
    {
     "name": "stdout",
     "output_type": "stream",
     "text": [
      "2021-09-23 15:35:46,566 [INFO] >>>> TOTAL TIME 15.02 sec\n",
      "2021-09-23 15:35:46,755 [INFO] ~~~ FINDING MASKS ~~~\n"
     ]
    },
    {
     "name": "stderr",
     "output_type": "stream",
     "text": [
      "/usr/local/lib/python3.7/dist-packages/ipykernel_launcher.py:17: UserWarning: /content/drive/MyDrive/data_test/sonja/results/34_300k_meso_5.2_0929_labels.png is a low contrast image\n"
     ]
    },
    {
     "name": "stdout",
     "output_type": "stream",
     "text": [
      "2021-09-23 15:36:01,810 [INFO] >>>> TOTAL TIME 15.06 sec\n",
      "2021-09-23 15:36:02,010 [INFO] ~~~ FINDING MASKS ~~~\n"
     ]
    },
    {
     "name": "stderr",
     "output_type": "stream",
     "text": [
      "/usr/local/lib/python3.7/dist-packages/ipykernel_launcher.py:17: UserWarning: /content/drive/MyDrive/data_test/sonja/results/34_300k_meso_5.2_0930_labels.png is a low contrast image\n"
     ]
    },
    {
     "name": "stdout",
     "output_type": "stream",
     "text": [
      "2021-09-23 15:36:17,104 [INFO] >>>> TOTAL TIME 15.09 sec\n",
      "2021-09-23 15:36:17,287 [INFO] ~~~ FINDING MASKS ~~~\n"
     ]
    },
    {
     "name": "stderr",
     "output_type": "stream",
     "text": [
      "/usr/local/lib/python3.7/dist-packages/ipykernel_launcher.py:17: UserWarning: /content/drive/MyDrive/data_test/sonja/results/34_300k_meso_5.2_0931_labels.png is a low contrast image\n"
     ]
    },
    {
     "name": "stdout",
     "output_type": "stream",
     "text": [
      "2021-09-23 15:36:32,268 [INFO] >>>> TOTAL TIME 14.98 sec\n",
      "2021-09-23 15:36:32,446 [INFO] ~~~ FINDING MASKS ~~~\n"
     ]
    },
    {
     "name": "stderr",
     "output_type": "stream",
     "text": [
      "/usr/local/lib/python3.7/dist-packages/ipykernel_launcher.py:17: UserWarning: /content/drive/MyDrive/data_test/sonja/results/34_300k_meso_5.2_0932_labels.png is a low contrast image\n"
     ]
    },
    {
     "name": "stdout",
     "output_type": "stream",
     "text": [
      "2021-09-23 15:36:47,484 [INFO] >>>> TOTAL TIME 15.04 sec\n",
      "2021-09-23 15:36:47,682 [INFO] ~~~ FINDING MASKS ~~~\n"
     ]
    },
    {
     "name": "stderr",
     "output_type": "stream",
     "text": [
      "/usr/local/lib/python3.7/dist-packages/ipykernel_launcher.py:17: UserWarning: /content/drive/MyDrive/data_test/sonja/results/34_300k_meso_5.2_0933_labels.png is a low contrast image\n"
     ]
    },
    {
     "name": "stdout",
     "output_type": "stream",
     "text": [
      "2021-09-23 15:37:02,732 [INFO] >>>> TOTAL TIME 15.05 sec\n",
      "2021-09-23 15:37:02,921 [INFO] ~~~ FINDING MASKS ~~~\n"
     ]
    },
    {
     "name": "stderr",
     "output_type": "stream",
     "text": [
      "/usr/local/lib/python3.7/dist-packages/ipykernel_launcher.py:17: UserWarning: /content/drive/MyDrive/data_test/sonja/results/34_300k_meso_5.2_0934_labels.png is a low contrast image\n"
     ]
    },
    {
     "name": "stdout",
     "output_type": "stream",
     "text": [
      "2021-09-23 15:37:17,951 [INFO] >>>> TOTAL TIME 15.03 sec\n",
      "2021-09-23 15:37:18,134 [INFO] ~~~ FINDING MASKS ~~~\n"
     ]
    },
    {
     "name": "stderr",
     "output_type": "stream",
     "text": [
      "/usr/local/lib/python3.7/dist-packages/ipykernel_launcher.py:17: UserWarning: /content/drive/MyDrive/data_test/sonja/results/34_300k_meso_5.2_0935_labels.png is a low contrast image\n"
     ]
    },
    {
     "name": "stdout",
     "output_type": "stream",
     "text": [
      "2021-09-23 15:37:33,188 [INFO] >>>> TOTAL TIME 15.05 sec\n",
      "2021-09-23 15:37:33,374 [INFO] ~~~ FINDING MASKS ~~~\n"
     ]
    },
    {
     "name": "stderr",
     "output_type": "stream",
     "text": [
      "/usr/local/lib/python3.7/dist-packages/ipykernel_launcher.py:17: UserWarning: /content/drive/MyDrive/data_test/sonja/results/34_300k_meso_5.2_0936_labels.png is a low contrast image\n"
     ]
    },
    {
     "name": "stdout",
     "output_type": "stream",
     "text": [
      "2021-09-23 15:37:48,424 [INFO] >>>> TOTAL TIME 15.05 sec\n",
      "2021-09-23 15:37:48,620 [INFO] ~~~ FINDING MASKS ~~~\n"
     ]
    },
    {
     "name": "stderr",
     "output_type": "stream",
     "text": [
      "/usr/local/lib/python3.7/dist-packages/ipykernel_launcher.py:17: UserWarning: /content/drive/MyDrive/data_test/sonja/results/34_300k_meso_5.2_0937_labels.png is a low contrast image\n"
     ]
    },
    {
     "name": "stdout",
     "output_type": "stream",
     "text": [
      "2021-09-23 15:38:03,684 [INFO] >>>> TOTAL TIME 15.06 sec\n",
      "2021-09-23 15:38:03,870 [INFO] ~~~ FINDING MASKS ~~~\n"
     ]
    },
    {
     "name": "stderr",
     "output_type": "stream",
     "text": [
      "/usr/local/lib/python3.7/dist-packages/ipykernel_launcher.py:17: UserWarning: /content/drive/MyDrive/data_test/sonja/results/34_300k_meso_5.2_0938_labels.png is a low contrast image\n"
     ]
    },
    {
     "name": "stdout",
     "output_type": "stream",
     "text": [
      "2021-09-23 15:38:18,838 [INFO] >>>> TOTAL TIME 14.97 sec\n",
      "2021-09-23 15:38:19,018 [INFO] ~~~ FINDING MASKS ~~~\n"
     ]
    },
    {
     "name": "stderr",
     "output_type": "stream",
     "text": [
      "/usr/local/lib/python3.7/dist-packages/ipykernel_launcher.py:17: UserWarning: /content/drive/MyDrive/data_test/sonja/results/34_300k_meso_5.2_0939_labels.png is a low contrast image\n"
     ]
    },
    {
     "name": "stdout",
     "output_type": "stream",
     "text": [
      "2021-09-23 15:38:34,030 [INFO] >>>> TOTAL TIME 15.01 sec\n",
      "2021-09-23 15:38:34,223 [INFO] ~~~ FINDING MASKS ~~~\n"
     ]
    },
    {
     "name": "stderr",
     "output_type": "stream",
     "text": [
      "/usr/local/lib/python3.7/dist-packages/ipykernel_launcher.py:17: UserWarning: /content/drive/MyDrive/data_test/sonja/results/34_300k_meso_5.2_0940_labels.png is a low contrast image\n"
     ]
    },
    {
     "name": "stdout",
     "output_type": "stream",
     "text": [
      "2021-09-23 15:38:49,269 [INFO] >>>> TOTAL TIME 15.05 sec\n",
      "2021-09-23 15:38:49,459 [INFO] ~~~ FINDING MASKS ~~~\n"
     ]
    },
    {
     "name": "stderr",
     "output_type": "stream",
     "text": [
      "/usr/local/lib/python3.7/dist-packages/ipykernel_launcher.py:17: UserWarning: /content/drive/MyDrive/data_test/sonja/results/34_300k_meso_5.2_0941_labels.png is a low contrast image\n"
     ]
    },
    {
     "name": "stdout",
     "output_type": "stream",
     "text": [
      "2021-09-23 15:39:04,559 [INFO] >>>> TOTAL TIME 15.10 sec\n",
      "2021-09-23 15:39:04,748 [INFO] ~~~ FINDING MASKS ~~~\n"
     ]
    },
    {
     "name": "stderr",
     "output_type": "stream",
     "text": [
      "/usr/local/lib/python3.7/dist-packages/ipykernel_launcher.py:17: UserWarning: /content/drive/MyDrive/data_test/sonja/results/34_300k_meso_5.2_0942_labels.png is a low contrast image\n"
     ]
    },
    {
     "name": "stdout",
     "output_type": "stream",
     "text": [
      "2021-09-23 15:39:19,824 [INFO] >>>> TOTAL TIME 15.08 sec\n",
      "2021-09-23 15:39:20,023 [INFO] ~~~ FINDING MASKS ~~~\n"
     ]
    },
    {
     "name": "stderr",
     "output_type": "stream",
     "text": [
      "/usr/local/lib/python3.7/dist-packages/ipykernel_launcher.py:17: UserWarning: /content/drive/MyDrive/data_test/sonja/results/34_300k_meso_5.2_0943_labels.png is a low contrast image\n"
     ]
    },
    {
     "name": "stdout",
     "output_type": "stream",
     "text": [
      "2021-09-23 15:39:35,062 [INFO] >>>> TOTAL TIME 15.04 sec\n",
      "2021-09-23 15:39:35,255 [INFO] ~~~ FINDING MASKS ~~~\n"
     ]
    },
    {
     "name": "stderr",
     "output_type": "stream",
     "text": [
      "/usr/local/lib/python3.7/dist-packages/ipykernel_launcher.py:17: UserWarning: /content/drive/MyDrive/data_test/sonja/results/34_300k_meso_5.2_0944_labels.png is a low contrast image\n"
     ]
    },
    {
     "name": "stdout",
     "output_type": "stream",
     "text": [
      "2021-09-23 15:39:50,344 [INFO] >>>> TOTAL TIME 15.09 sec\n",
      "2021-09-23 15:39:50,532 [INFO] ~~~ FINDING MASKS ~~~\n"
     ]
    },
    {
     "name": "stderr",
     "output_type": "stream",
     "text": [
      "/usr/local/lib/python3.7/dist-packages/ipykernel_launcher.py:17: UserWarning: /content/drive/MyDrive/data_test/sonja/results/34_300k_meso_5.2_0945_labels.png is a low contrast image\n"
     ]
    },
    {
     "name": "stdout",
     "output_type": "stream",
     "text": [
      "2021-09-23 15:40:05,607 [INFO] >>>> TOTAL TIME 15.07 sec\n",
      "2021-09-23 15:40:05,801 [INFO] ~~~ FINDING MASKS ~~~\n"
     ]
    },
    {
     "name": "stderr",
     "output_type": "stream",
     "text": [
      "/usr/local/lib/python3.7/dist-packages/ipykernel_launcher.py:17: UserWarning: /content/drive/MyDrive/data_test/sonja/results/34_300k_meso_5.2_0946_labels.png is a low contrast image\n"
     ]
    },
    {
     "name": "stdout",
     "output_type": "stream",
     "text": [
      "2021-09-23 15:40:20,840 [INFO] >>>> TOTAL TIME 15.04 sec\n",
      "2021-09-23 15:40:21,033 [INFO] ~~~ FINDING MASKS ~~~\n"
     ]
    },
    {
     "name": "stderr",
     "output_type": "stream",
     "text": [
      "/usr/local/lib/python3.7/dist-packages/ipykernel_launcher.py:17: UserWarning: /content/drive/MyDrive/data_test/sonja/results/34_300k_meso_5.2_0947_labels.png is a low contrast image\n"
     ]
    },
    {
     "name": "stdout",
     "output_type": "stream",
     "text": [
      "2021-09-23 15:40:36,091 [INFO] >>>> TOTAL TIME 15.06 sec\n",
      "2021-09-23 15:40:36,300 [INFO] ~~~ FINDING MASKS ~~~\n"
     ]
    },
    {
     "name": "stderr",
     "output_type": "stream",
     "text": [
      "/usr/local/lib/python3.7/dist-packages/ipykernel_launcher.py:17: UserWarning: /content/drive/MyDrive/data_test/sonja/results/34_300k_meso_5.2_0948_labels.png is a low contrast image\n"
     ]
    },
    {
     "name": "stdout",
     "output_type": "stream",
     "text": [
      "2021-09-23 15:40:51,388 [INFO] >>>> TOTAL TIME 15.09 sec\n"
     ]
    },
    {
     "name": "stderr",
     "output_type": "stream",
     "text": [
      "/usr/local/lib/python3.7/dist-packages/ipykernel_launcher.py:17: UserWarning: /content/drive/MyDrive/data_test/sonja/results/34_300k_meso_5.2_0949_labels.png is a low contrast image\n"
     ]
    },
    {
     "name": "stdout",
     "output_type": "stream",
     "text": [
      "2021-09-23 15:40:51,611 [INFO] ~~~ FINDING MASKS ~~~\n",
      "2021-09-23 15:41:06,701 [INFO] >>>> TOTAL TIME 15.09 sec\n",
      "2021-09-23 15:41:06,899 [INFO] ~~~ FINDING MASKS ~~~\n"
     ]
    },
    {
     "name": "stderr",
     "output_type": "stream",
     "text": [
      "/usr/local/lib/python3.7/dist-packages/ipykernel_launcher.py:17: UserWarning: /content/drive/MyDrive/data_test/sonja/results/34_300k_meso_5.2_0950_labels.png is a low contrast image\n"
     ]
    },
    {
     "name": "stdout",
     "output_type": "stream",
     "text": [
      "2021-09-23 15:41:21,951 [INFO] >>>> TOTAL TIME 15.05 sec\n",
      "2021-09-23 15:41:22,146 [INFO] ~~~ FINDING MASKS ~~~\n"
     ]
    },
    {
     "name": "stderr",
     "output_type": "stream",
     "text": [
      "/usr/local/lib/python3.7/dist-packages/ipykernel_launcher.py:17: UserWarning: /content/drive/MyDrive/data_test/sonja/results/34_300k_meso_5.2_0951_labels.png is a low contrast image\n"
     ]
    },
    {
     "name": "stdout",
     "output_type": "stream",
     "text": [
      "2021-09-23 15:41:37,234 [INFO] >>>> TOTAL TIME 15.09 sec\n",
      "2021-09-23 15:41:37,428 [INFO] ~~~ FINDING MASKS ~~~\n"
     ]
    },
    {
     "name": "stderr",
     "output_type": "stream",
     "text": [
      "/usr/local/lib/python3.7/dist-packages/ipykernel_launcher.py:17: UserWarning: /content/drive/MyDrive/data_test/sonja/results/34_300k_meso_5.2_0952_labels.png is a low contrast image\n"
     ]
    },
    {
     "name": "stdout",
     "output_type": "stream",
     "text": [
      "2021-09-23 15:41:52,463 [INFO] >>>> TOTAL TIME 15.04 sec\n",
      "2021-09-23 15:41:52,677 [INFO] ~~~ FINDING MASKS ~~~\n"
     ]
    },
    {
     "name": "stderr",
     "output_type": "stream",
     "text": [
      "/usr/local/lib/python3.7/dist-packages/ipykernel_launcher.py:17: UserWarning: /content/drive/MyDrive/data_test/sonja/results/34_300k_meso_5.2_0953_labels.png is a low contrast image\n"
     ]
    },
    {
     "name": "stdout",
     "output_type": "stream",
     "text": [
      "2021-09-23 15:42:07,794 [INFO] >>>> TOTAL TIME 15.12 sec\n",
      "2021-09-23 15:42:07,997 [INFO] ~~~ FINDING MASKS ~~~\n"
     ]
    },
    {
     "name": "stderr",
     "output_type": "stream",
     "text": [
      "/usr/local/lib/python3.7/dist-packages/ipykernel_launcher.py:17: UserWarning: /content/drive/MyDrive/data_test/sonja/results/34_300k_meso_5.2_0954_labels.png is a low contrast image\n"
     ]
    },
    {
     "name": "stdout",
     "output_type": "stream",
     "text": [
      "2021-09-23 15:42:23,137 [INFO] >>>> TOTAL TIME 15.14 sec\n",
      "2021-09-23 15:42:23,341 [INFO] ~~~ FINDING MASKS ~~~\n"
     ]
    },
    {
     "name": "stderr",
     "output_type": "stream",
     "text": [
      "/usr/local/lib/python3.7/dist-packages/ipykernel_launcher.py:17: UserWarning: /content/drive/MyDrive/data_test/sonja/results/34_300k_meso_5.2_0955_labels.png is a low contrast image\n"
     ]
    },
    {
     "name": "stdout",
     "output_type": "stream",
     "text": [
      "2021-09-23 15:42:38,453 [INFO] >>>> TOTAL TIME 15.11 sec\n",
      "2021-09-23 15:42:38,669 [INFO] ~~~ FINDING MASKS ~~~\n"
     ]
    },
    {
     "name": "stderr",
     "output_type": "stream",
     "text": [
      "/usr/local/lib/python3.7/dist-packages/ipykernel_launcher.py:17: UserWarning: /content/drive/MyDrive/data_test/sonja/results/34_300k_meso_5.2_0956_labels.png is a low contrast image\n"
     ]
    },
    {
     "name": "stdout",
     "output_type": "stream",
     "text": [
      "2021-09-23 15:42:53,725 [INFO] >>>> TOTAL TIME 15.06 sec\n",
      "2021-09-23 15:42:53,933 [INFO] ~~~ FINDING MASKS ~~~\n"
     ]
    },
    {
     "name": "stderr",
     "output_type": "stream",
     "text": [
      "/usr/local/lib/python3.7/dist-packages/ipykernel_launcher.py:17: UserWarning: /content/drive/MyDrive/data_test/sonja/results/34_300k_meso_5.2_0957_labels.png is a low contrast image\n"
     ]
    },
    {
     "name": "stdout",
     "output_type": "stream",
     "text": [
      "2021-09-23 15:43:08,979 [INFO] >>>> TOTAL TIME 15.05 sec\n",
      "2021-09-23 15:43:09,194 [INFO] ~~~ FINDING MASKS ~~~\n"
     ]
    },
    {
     "name": "stderr",
     "output_type": "stream",
     "text": [
      "/usr/local/lib/python3.7/dist-packages/ipykernel_launcher.py:17: UserWarning: /content/drive/MyDrive/data_test/sonja/results/34_300k_meso_5.2_0958_labels.png is a low contrast image\n"
     ]
    },
    {
     "name": "stdout",
     "output_type": "stream",
     "text": [
      "2021-09-23 15:43:24,315 [INFO] >>>> TOTAL TIME 15.12 sec\n",
      "2021-09-23 15:43:24,537 [INFO] ~~~ FINDING MASKS ~~~\n"
     ]
    },
    {
     "name": "stderr",
     "output_type": "stream",
     "text": [
      "/usr/local/lib/python3.7/dist-packages/ipykernel_launcher.py:17: UserWarning: /content/drive/MyDrive/data_test/sonja/results/34_300k_meso_5.2_0959_labels.png is a low contrast image\n"
     ]
    },
    {
     "name": "stdout",
     "output_type": "stream",
     "text": [
      "2021-09-23 15:43:39,671 [INFO] >>>> TOTAL TIME 15.13 sec\n",
      "2021-09-23 15:43:39,888 [INFO] ~~~ FINDING MASKS ~~~\n"
     ]
    },
    {
     "name": "stderr",
     "output_type": "stream",
     "text": [
      "/usr/local/lib/python3.7/dist-packages/ipykernel_launcher.py:17: UserWarning: /content/drive/MyDrive/data_test/sonja/results/34_300k_meso_5.2_0960_labels.png is a low contrast image\n"
     ]
    },
    {
     "name": "stdout",
     "output_type": "stream",
     "text": [
      "2021-09-23 15:43:55,035 [INFO] >>>> TOTAL TIME 15.15 sec\n",
      "2021-09-23 15:43:55,254 [INFO] ~~~ FINDING MASKS ~~~\n"
     ]
    },
    {
     "name": "stderr",
     "output_type": "stream",
     "text": [
      "/usr/local/lib/python3.7/dist-packages/ipykernel_launcher.py:17: UserWarning: /content/drive/MyDrive/data_test/sonja/results/34_300k_meso_5.2_0961_labels.png is a low contrast image\n"
     ]
    },
    {
     "name": "stdout",
     "output_type": "stream",
     "text": [
      "2021-09-23 15:44:10,319 [INFO] >>>> TOTAL TIME 15.07 sec\n",
      "2021-09-23 15:44:10,518 [INFO] ~~~ FINDING MASKS ~~~\n"
     ]
    },
    {
     "name": "stderr",
     "output_type": "stream",
     "text": [
      "/usr/local/lib/python3.7/dist-packages/ipykernel_launcher.py:17: UserWarning: /content/drive/MyDrive/data_test/sonja/results/34_300k_meso_5.2_0962_labels.png is a low contrast image\n"
     ]
    },
    {
     "name": "stdout",
     "output_type": "stream",
     "text": [
      "2021-09-23 15:44:25,592 [INFO] >>>> TOTAL TIME 15.07 sec\n",
      "2021-09-23 15:44:25,800 [INFO] ~~~ FINDING MASKS ~~~\n"
     ]
    },
    {
     "name": "stderr",
     "output_type": "stream",
     "text": [
      "/usr/local/lib/python3.7/dist-packages/ipykernel_launcher.py:17: UserWarning: /content/drive/MyDrive/data_test/sonja/results/34_300k_meso_5.2_0963_labels.png is a low contrast image\n"
     ]
    },
    {
     "name": "stdout",
     "output_type": "stream",
     "text": [
      "2021-09-23 15:44:40,931 [INFO] >>>> TOTAL TIME 15.13 sec\n",
      "2021-09-23 15:44:41,140 [INFO] ~~~ FINDING MASKS ~~~\n"
     ]
    },
    {
     "name": "stderr",
     "output_type": "stream",
     "text": [
      "/usr/local/lib/python3.7/dist-packages/ipykernel_launcher.py:17: UserWarning: /content/drive/MyDrive/data_test/sonja/results/34_300k_meso_5.2_0964_labels.png is a low contrast image\n"
     ]
    },
    {
     "name": "stdout",
     "output_type": "stream",
     "text": [
      "2021-09-23 15:44:56,248 [INFO] >>>> TOTAL TIME 15.11 sec\n",
      "2021-09-23 15:44:56,449 [INFO] ~~~ FINDING MASKS ~~~\n"
     ]
    },
    {
     "name": "stderr",
     "output_type": "stream",
     "text": [
      "/usr/local/lib/python3.7/dist-packages/ipykernel_launcher.py:17: UserWarning: /content/drive/MyDrive/data_test/sonja/results/34_300k_meso_5.2_0965_labels.png is a low contrast image\n"
     ]
    },
    {
     "name": "stdout",
     "output_type": "stream",
     "text": [
      "2021-09-23 15:45:11,572 [INFO] >>>> TOTAL TIME 15.12 sec\n",
      "2021-09-23 15:45:11,780 [INFO] ~~~ FINDING MASKS ~~~\n"
     ]
    },
    {
     "name": "stderr",
     "output_type": "stream",
     "text": [
      "/usr/local/lib/python3.7/dist-packages/ipykernel_launcher.py:17: UserWarning: /content/drive/MyDrive/data_test/sonja/results/34_300k_meso_5.2_0966_labels.png is a low contrast image\n"
     ]
    },
    {
     "name": "stdout",
     "output_type": "stream",
     "text": [
      "2021-09-23 15:45:26,909 [INFO] >>>> TOTAL TIME 15.13 sec\n",
      "2021-09-23 15:45:27,116 [INFO] ~~~ FINDING MASKS ~~~\n"
     ]
    },
    {
     "name": "stderr",
     "output_type": "stream",
     "text": [
      "/usr/local/lib/python3.7/dist-packages/ipykernel_launcher.py:17: UserWarning: /content/drive/MyDrive/data_test/sonja/results/34_300k_meso_5.2_0967_labels.png is a low contrast image\n"
     ]
    },
    {
     "name": "stdout",
     "output_type": "stream",
     "text": [
      "2021-09-23 15:45:42,248 [INFO] >>>> TOTAL TIME 15.13 sec\n"
     ]
    },
    {
     "name": "stderr",
     "output_type": "stream",
     "text": [
      "/usr/local/lib/python3.7/dist-packages/ipykernel_launcher.py:17: UserWarning: /content/drive/MyDrive/data_test/sonja/results/34_300k_meso_5.2_0968_labels.png is a low contrast image\n"
     ]
    },
    {
     "name": "stdout",
     "output_type": "stream",
     "text": [
      "2021-09-23 15:45:42,481 [INFO] ~~~ FINDING MASKS ~~~\n",
      "2021-09-23 15:45:57,620 [INFO] >>>> TOTAL TIME 15.14 sec\n",
      "2021-09-23 15:45:57,823 [INFO] ~~~ FINDING MASKS ~~~\n"
     ]
    },
    {
     "name": "stderr",
     "output_type": "stream",
     "text": [
      "/usr/local/lib/python3.7/dist-packages/ipykernel_launcher.py:17: UserWarning: /content/drive/MyDrive/data_test/sonja/results/34_300k_meso_5.2_0969_labels.png is a low contrast image\n"
     ]
    },
    {
     "name": "stdout",
     "output_type": "stream",
     "text": [
      "2021-09-23 15:46:12,912 [INFO] >>>> TOTAL TIME 15.09 sec\n",
      "2021-09-23 15:46:13,132 [INFO] ~~~ FINDING MASKS ~~~\n"
     ]
    },
    {
     "name": "stderr",
     "output_type": "stream",
     "text": [
      "/usr/local/lib/python3.7/dist-packages/ipykernel_launcher.py:17: UserWarning: /content/drive/MyDrive/data_test/sonja/results/34_300k_meso_5.2_0970_labels.png is a low contrast image\n"
     ]
    },
    {
     "name": "stdout",
     "output_type": "stream",
     "text": [
      "2021-09-23 15:46:28,302 [INFO] >>>> TOTAL TIME 15.17 sec\n",
      "2021-09-23 15:46:28,518 [INFO] ~~~ FINDING MASKS ~~~\n"
     ]
    },
    {
     "name": "stderr",
     "output_type": "stream",
     "text": [
      "/usr/local/lib/python3.7/dist-packages/ipykernel_launcher.py:17: UserWarning: /content/drive/MyDrive/data_test/sonja/results/34_300k_meso_5.2_0971_labels.png is a low contrast image\n"
     ]
    },
    {
     "name": "stdout",
     "output_type": "stream",
     "text": [
      "2021-09-23 15:46:43,663 [INFO] >>>> TOTAL TIME 15.15 sec\n",
      "2021-09-23 15:46:43,881 [INFO] ~~~ FINDING MASKS ~~~\n"
     ]
    },
    {
     "name": "stderr",
     "output_type": "stream",
     "text": [
      "/usr/local/lib/python3.7/dist-packages/ipykernel_launcher.py:17: UserWarning: /content/drive/MyDrive/data_test/sonja/results/34_300k_meso_5.2_0972_labels.png is a low contrast image\n"
     ]
    },
    {
     "name": "stdout",
     "output_type": "stream",
     "text": [
      "2021-09-23 15:46:59,029 [INFO] >>>> TOTAL TIME 15.15 sec\n"
     ]
    },
    {
     "name": "stderr",
     "output_type": "stream",
     "text": [
      "/usr/local/lib/python3.7/dist-packages/ipykernel_launcher.py:17: UserWarning: /content/drive/MyDrive/data_test/sonja/results/34_300k_meso_5.2_0973_labels.png is a low contrast image\n"
     ]
    },
    {
     "name": "stdout",
     "output_type": "stream",
     "text": [
      "2021-09-23 15:46:59,262 [INFO] ~~~ FINDING MASKS ~~~\n",
      "2021-09-23 15:47:14,506 [INFO] >>>> TOTAL TIME 15.24 sec\n",
      "2021-09-23 15:47:14,730 [INFO] ~~~ FINDING MASKS ~~~\n"
     ]
    },
    {
     "name": "stderr",
     "output_type": "stream",
     "text": [
      "/usr/local/lib/python3.7/dist-packages/ipykernel_launcher.py:17: UserWarning: /content/drive/MyDrive/data_test/sonja/results/34_300k_meso_5.2_0974_labels.png is a low contrast image\n"
     ]
    },
    {
     "name": "stdout",
     "output_type": "stream",
     "text": [
      "2021-09-23 15:47:29,877 [INFO] >>>> TOTAL TIME 15.15 sec\n",
      "2021-09-23 15:47:30,096 [INFO] ~~~ FINDING MASKS ~~~\n"
     ]
    },
    {
     "name": "stderr",
     "output_type": "stream",
     "text": [
      "/usr/local/lib/python3.7/dist-packages/ipykernel_launcher.py:17: UserWarning: /content/drive/MyDrive/data_test/sonja/results/34_300k_meso_5.2_0975_labels.png is a low contrast image\n"
     ]
    },
    {
     "name": "stdout",
     "output_type": "stream",
     "text": [
      "2021-09-23 15:47:45,292 [INFO] >>>> TOTAL TIME 15.20 sec\n",
      "2021-09-23 15:47:45,512 [INFO] ~~~ FINDING MASKS ~~~\n"
     ]
    },
    {
     "name": "stderr",
     "output_type": "stream",
     "text": [
      "/usr/local/lib/python3.7/dist-packages/ipykernel_launcher.py:17: UserWarning: /content/drive/MyDrive/data_test/sonja/results/34_300k_meso_5.2_0976_labels.png is a low contrast image\n"
     ]
    },
    {
     "name": "stdout",
     "output_type": "stream",
     "text": [
      "2021-09-23 15:48:00,766 [INFO] >>>> TOTAL TIME 15.25 sec\n",
      "2021-09-23 15:48:00,981 [INFO] ~~~ FINDING MASKS ~~~\n"
     ]
    },
    {
     "name": "stderr",
     "output_type": "stream",
     "text": [
      "/usr/local/lib/python3.7/dist-packages/ipykernel_launcher.py:17: UserWarning: /content/drive/MyDrive/data_test/sonja/results/34_300k_meso_5.2_0977_labels.png is a low contrast image\n"
     ]
    },
    {
     "name": "stdout",
     "output_type": "stream",
     "text": [
      "2021-09-23 15:48:16,148 [INFO] >>>> TOTAL TIME 15.17 sec\n"
     ]
    },
    {
     "name": "stderr",
     "output_type": "stream",
     "text": [
      "/usr/local/lib/python3.7/dist-packages/ipykernel_launcher.py:17: UserWarning: /content/drive/MyDrive/data_test/sonja/results/34_300k_meso_5.2_0978_labels.png is a low contrast image\n"
     ]
    },
    {
     "name": "stdout",
     "output_type": "stream",
     "text": [
      "2021-09-23 15:48:16,380 [INFO] ~~~ FINDING MASKS ~~~\n",
      "2021-09-23 15:48:31,602 [INFO] >>>> TOTAL TIME 15.22 sec\n"
     ]
    },
    {
     "name": "stderr",
     "output_type": "stream",
     "text": [
      "/usr/local/lib/python3.7/dist-packages/ipykernel_launcher.py:17: UserWarning: /content/drive/MyDrive/data_test/sonja/results/34_300k_meso_5.2_0979_labels.png is a low contrast image\n"
     ]
    },
    {
     "name": "stdout",
     "output_type": "stream",
     "text": [
      "2021-09-23 15:48:31,849 [INFO] ~~~ FINDING MASKS ~~~\n",
      "2021-09-23 15:48:47,149 [INFO] >>>> TOTAL TIME 15.30 sec\n"
     ]
    },
    {
     "name": "stderr",
     "output_type": "stream",
     "text": [
      "/usr/local/lib/python3.7/dist-packages/ipykernel_launcher.py:17: UserWarning: /content/drive/MyDrive/data_test/sonja/results/34_300k_meso_5.2_0980_labels.png is a low contrast image\n"
     ]
    },
    {
     "name": "stdout",
     "output_type": "stream",
     "text": [
      "2021-09-23 15:48:47,392 [INFO] ~~~ FINDING MASKS ~~~\n",
      "2021-09-23 15:49:02,593 [INFO] >>>> TOTAL TIME 15.20 sec\n"
     ]
    },
    {
     "name": "stderr",
     "output_type": "stream",
     "text": [
      "/usr/local/lib/python3.7/dist-packages/ipykernel_launcher.py:17: UserWarning: /content/drive/MyDrive/data_test/sonja/results/34_300k_meso_5.2_0981_labels.png is a low contrast image\n"
     ]
    },
    {
     "name": "stdout",
     "output_type": "stream",
     "text": [
      "2021-09-23 15:49:02,824 [INFO] ~~~ FINDING MASKS ~~~\n",
      "2021-09-23 15:49:18,028 [INFO] >>>> TOTAL TIME 15.20 sec\n"
     ]
    },
    {
     "name": "stderr",
     "output_type": "stream",
     "text": [
      "/usr/local/lib/python3.7/dist-packages/ipykernel_launcher.py:17: UserWarning: /content/drive/MyDrive/data_test/sonja/results/34_300k_meso_5.2_0982_labels.png is a low contrast image\n"
     ]
    },
    {
     "name": "stdout",
     "output_type": "stream",
     "text": [
      "2021-09-23 15:49:18,271 [INFO] ~~~ FINDING MASKS ~~~\n",
      "2021-09-23 15:49:33,486 [INFO] >>>> TOTAL TIME 15.21 sec\n",
      "2021-09-23 15:49:33,711 [INFO] ~~~ FINDING MASKS ~~~\n"
     ]
    },
    {
     "name": "stderr",
     "output_type": "stream",
     "text": [
      "/usr/local/lib/python3.7/dist-packages/ipykernel_launcher.py:17: UserWarning: /content/drive/MyDrive/data_test/sonja/results/34_300k_meso_5.2_0983_labels.png is a low contrast image\n"
     ]
    },
    {
     "name": "stdout",
     "output_type": "stream",
     "text": [
      "2021-09-23 15:49:48,937 [INFO] >>>> TOTAL TIME 15.23 sec\n"
     ]
    },
    {
     "name": "stderr",
     "output_type": "stream",
     "text": [
      "/usr/local/lib/python3.7/dist-packages/ipykernel_launcher.py:17: UserWarning: /content/drive/MyDrive/data_test/sonja/results/34_300k_meso_5.2_0984_labels.png is a low contrast image\n"
     ]
    },
    {
     "name": "stdout",
     "output_type": "stream",
     "text": [
      "2021-09-23 15:49:49,169 [INFO] ~~~ FINDING MASKS ~~~\n",
      "2021-09-23 15:50:04,428 [INFO] >>>> TOTAL TIME 15.26 sec\n"
     ]
    },
    {
     "name": "stderr",
     "output_type": "stream",
     "text": [
      "/usr/local/lib/python3.7/dist-packages/ipykernel_launcher.py:17: UserWarning: /content/drive/MyDrive/data_test/sonja/results/34_300k_meso_5.2_0985_labels.png is a low contrast image\n"
     ]
    },
    {
     "name": "stdout",
     "output_type": "stream",
     "text": [
      "2021-09-23 15:50:04,656 [INFO] ~~~ FINDING MASKS ~~~\n",
      "2021-09-23 15:50:19,940 [INFO] >>>> TOTAL TIME 15.28 sec\n"
     ]
    },
    {
     "name": "stderr",
     "output_type": "stream",
     "text": [
      "/usr/local/lib/python3.7/dist-packages/ipykernel_launcher.py:17: UserWarning: /content/drive/MyDrive/data_test/sonja/results/34_300k_meso_5.2_0986_labels.png is a low contrast image\n"
     ]
    },
    {
     "name": "stdout",
     "output_type": "stream",
     "text": [
      "2021-09-23 15:50:20,184 [INFO] ~~~ FINDING MASKS ~~~\n",
      "2021-09-23 15:50:35,432 [INFO] >>>> TOTAL TIME 15.25 sec\n"
     ]
    },
    {
     "name": "stderr",
     "output_type": "stream",
     "text": [
      "/usr/local/lib/python3.7/dist-packages/ipykernel_launcher.py:17: UserWarning: /content/drive/MyDrive/data_test/sonja/results/34_300k_meso_5.2_0987_labels.png is a low contrast image\n"
     ]
    },
    {
     "name": "stdout",
     "output_type": "stream",
     "text": [
      "2021-09-23 15:50:35,664 [INFO] ~~~ FINDING MASKS ~~~\n",
      "2021-09-23 15:50:50,939 [INFO] >>>> TOTAL TIME 15.28 sec\n",
      "2021-09-23 15:50:51,159 [INFO] ~~~ FINDING MASKS ~~~\n"
     ]
    },
    {
     "name": "stderr",
     "output_type": "stream",
     "text": [
      "/usr/local/lib/python3.7/dist-packages/ipykernel_launcher.py:17: UserWarning: /content/drive/MyDrive/data_test/sonja/results/34_300k_meso_5.2_0988_labels.png is a low contrast image\n"
     ]
    },
    {
     "name": "stdout",
     "output_type": "stream",
     "text": [
      "2021-09-23 15:51:06,443 [INFO] >>>> TOTAL TIME 15.28 sec\n"
     ]
    },
    {
     "name": "stderr",
     "output_type": "stream",
     "text": [
      "/usr/local/lib/python3.7/dist-packages/ipykernel_launcher.py:17: UserWarning: /content/drive/MyDrive/data_test/sonja/results/34_300k_meso_5.2_0989_labels.png is a low contrast image\n"
     ]
    },
    {
     "name": "stdout",
     "output_type": "stream",
     "text": [
      "2021-09-23 15:51:06,687 [INFO] ~~~ FINDING MASKS ~~~\n",
      "2021-09-23 15:51:21,909 [INFO] >>>> TOTAL TIME 15.22 sec\n"
     ]
    },
    {
     "name": "stderr",
     "output_type": "stream",
     "text": [
      "/usr/local/lib/python3.7/dist-packages/ipykernel_launcher.py:17: UserWarning: /content/drive/MyDrive/data_test/sonja/results/34_300k_meso_5.2_0990_labels.png is a low contrast image\n"
     ]
    },
    {
     "name": "stdout",
     "output_type": "stream",
     "text": [
      "2021-09-23 15:51:22,152 [INFO] ~~~ FINDING MASKS ~~~\n",
      "2021-09-23 15:51:37,380 [INFO] >>>> TOTAL TIME 15.23 sec\n"
     ]
    },
    {
     "name": "stderr",
     "output_type": "stream",
     "text": [
      "/usr/local/lib/python3.7/dist-packages/ipykernel_launcher.py:17: UserWarning: /content/drive/MyDrive/data_test/sonja/results/34_300k_meso_5.2_0991_labels.png is a low contrast image\n"
     ]
    },
    {
     "name": "stdout",
     "output_type": "stream",
     "text": [
      "2021-09-23 15:51:37,613 [INFO] ~~~ FINDING MASKS ~~~\n",
      "2021-09-23 15:51:52,850 [INFO] >>>> TOTAL TIME 15.24 sec\n",
      "2021-09-23 15:51:53,070 [INFO] ~~~ FINDING MASKS ~~~\n"
     ]
    },
    {
     "name": "stderr",
     "output_type": "stream",
     "text": [
      "/usr/local/lib/python3.7/dist-packages/ipykernel_launcher.py:17: UserWarning: /content/drive/MyDrive/data_test/sonja/results/34_300k_meso_5.2_0992_labels.png is a low contrast image\n"
     ]
    },
    {
     "name": "stdout",
     "output_type": "stream",
     "text": [
      "2021-09-23 15:52:08,211 [INFO] >>>> TOTAL TIME 15.14 sec\n"
     ]
    },
    {
     "name": "stderr",
     "output_type": "stream",
     "text": [
      "/usr/local/lib/python3.7/dist-packages/ipykernel_launcher.py:17: UserWarning: /content/drive/MyDrive/data_test/sonja/results/34_300k_meso_5.2_0993_labels.png is a low contrast image\n"
     ]
    },
    {
     "name": "stdout",
     "output_type": "stream",
     "text": [
      "2021-09-23 15:52:08,437 [INFO] ~~~ FINDING MASKS ~~~\n",
      "2021-09-23 15:52:23,715 [INFO] >>>> TOTAL TIME 15.28 sec\n"
     ]
    },
    {
     "name": "stderr",
     "output_type": "stream",
     "text": [
      "/usr/local/lib/python3.7/dist-packages/ipykernel_launcher.py:17: UserWarning: /content/drive/MyDrive/data_test/sonja/results/34_300k_meso_5.2_0994_labels.png is a low contrast image\n"
     ]
    },
    {
     "name": "stdout",
     "output_type": "stream",
     "text": [
      "2021-09-23 15:52:23,964 [INFO] ~~~ FINDING MASKS ~~~\n",
      "2021-09-23 15:52:39,399 [INFO] >>>> TOTAL TIME 15.44 sec\n"
     ]
    },
    {
     "name": "stderr",
     "output_type": "stream",
     "text": [
      "/usr/local/lib/python3.7/dist-packages/ipykernel_launcher.py:17: UserWarning: /content/drive/MyDrive/data_test/sonja/results/34_300k_meso_5.2_0995_labels.png is a low contrast image\n"
     ]
    },
    {
     "name": "stdout",
     "output_type": "stream",
     "text": [
      "2021-09-23 15:52:39,696 [INFO] ~~~ FINDING MASKS ~~~\n",
      "2021-09-23 15:52:54,954 [INFO] >>>> TOTAL TIME 15.26 sec\n"
     ]
    },
    {
     "name": "stderr",
     "output_type": "stream",
     "text": [
      "/usr/local/lib/python3.7/dist-packages/ipykernel_launcher.py:17: UserWarning: /content/drive/MyDrive/data_test/sonja/results/34_300k_meso_5.2_0996_labels.png is a low contrast image\n"
     ]
    },
    {
     "name": "stdout",
     "output_type": "stream",
     "text": [
      "2021-09-23 15:52:55,198 [INFO] ~~~ FINDING MASKS ~~~\n",
      "2021-09-23 15:53:10,470 [INFO] >>>> TOTAL TIME 15.27 sec\n"
     ]
    },
    {
     "name": "stderr",
     "output_type": "stream",
     "text": [
      "/usr/local/lib/python3.7/dist-packages/ipykernel_launcher.py:17: UserWarning: /content/drive/MyDrive/data_test/sonja/results/34_300k_meso_5.2_0997_labels.png is a low contrast image\n"
     ]
    },
    {
     "name": "stdout",
     "output_type": "stream",
     "text": [
      "2021-09-23 15:53:10,711 [INFO] ~~~ FINDING MASKS ~~~\n",
      "2021-09-23 15:53:25,990 [INFO] >>>> TOTAL TIME 15.28 sec\n"
     ]
    },
    {
     "name": "stderr",
     "output_type": "stream",
     "text": [
      "/usr/local/lib/python3.7/dist-packages/ipykernel_launcher.py:17: UserWarning: /content/drive/MyDrive/data_test/sonja/results/34_300k_meso_5.2_0998_labels.png is a low contrast image\n"
     ]
    },
    {
     "name": "stdout",
     "output_type": "stream",
     "text": [
      "2021-09-23 15:53:26,260 [INFO] ~~~ FINDING MASKS ~~~\n",
      "2021-09-23 15:53:41,414 [INFO] >>>> TOTAL TIME 15.15 sec\n"
     ]
    },
    {
     "name": "stderr",
     "output_type": "stream",
     "text": [
      "/usr/local/lib/python3.7/dist-packages/ipykernel_launcher.py:17: UserWarning: /content/drive/MyDrive/data_test/sonja/results/34_300k_meso_5.2_0999_labels.png is a low contrast image\n"
     ]
    },
    {
     "name": "stdout",
     "output_type": "stream",
     "text": [
      "2021-09-23 15:53:41,662 [INFO] ~~~ FINDING MASKS ~~~\n",
      "2021-09-23 15:53:56,995 [INFO] >>>> TOTAL TIME 15.33 sec\n"
     ]
    },
    {
     "name": "stderr",
     "output_type": "stream",
     "text": [
      "/usr/local/lib/python3.7/dist-packages/ipykernel_launcher.py:17: UserWarning: /content/drive/MyDrive/data_test/sonja/results/34_300k_meso_5.2_1000_labels.png is a low contrast image\n"
     ]
    },
    {
     "name": "stdout",
     "output_type": "stream",
     "text": [
      "2021-09-23 15:53:57,244 [INFO] ~~~ FINDING MASKS ~~~\n",
      "2021-09-23 15:54:12,489 [INFO] >>>> TOTAL TIME 15.24 sec\n"
     ]
    },
    {
     "name": "stderr",
     "output_type": "stream",
     "text": [
      "/usr/local/lib/python3.7/dist-packages/ipykernel_launcher.py:17: UserWarning: /content/drive/MyDrive/data_test/sonja/results/34_300k_meso_5.2_1001_labels.png is a low contrast image\n"
     ]
    },
    {
     "name": "stdout",
     "output_type": "stream",
     "text": [
      "2021-09-23 15:54:12,728 [INFO] ~~~ FINDING MASKS ~~~\n",
      "2021-09-23 15:54:28,029 [INFO] >>>> TOTAL TIME 15.30 sec\n"
     ]
    },
    {
     "name": "stderr",
     "output_type": "stream",
     "text": [
      "/usr/local/lib/python3.7/dist-packages/ipykernel_launcher.py:17: UserWarning: /content/drive/MyDrive/data_test/sonja/results/34_300k_meso_5.2_1002_labels.png is a low contrast image\n"
     ]
    },
    {
     "name": "stdout",
     "output_type": "stream",
     "text": [
      "2021-09-23 15:54:28,273 [INFO] ~~~ FINDING MASKS ~~~\n",
      "2021-09-23 15:54:43,523 [INFO] >>>> TOTAL TIME 15.25 sec\n"
     ]
    },
    {
     "name": "stderr",
     "output_type": "stream",
     "text": [
      "/usr/local/lib/python3.7/dist-packages/ipykernel_launcher.py:17: UserWarning: /content/drive/MyDrive/data_test/sonja/results/34_300k_meso_5.2_1003_labels.png is a low contrast image\n"
     ]
    },
    {
     "name": "stdout",
     "output_type": "stream",
     "text": [
      "2021-09-23 15:54:43,801 [INFO] ~~~ FINDING MASKS ~~~\n",
      "2021-09-23 15:54:59,117 [INFO] >>>> TOTAL TIME 15.32 sec\n"
     ]
    },
    {
     "name": "stderr",
     "output_type": "stream",
     "text": [
      "/usr/local/lib/python3.7/dist-packages/ipykernel_launcher.py:17: UserWarning: /content/drive/MyDrive/data_test/sonja/results/34_300k_meso_5.2_1004_labels.png is a low contrast image\n"
     ]
    },
    {
     "name": "stdout",
     "output_type": "stream",
     "text": [
      "2021-09-23 15:54:59,366 [INFO] ~~~ FINDING MASKS ~~~\n",
      "2021-09-23 15:55:14,730 [INFO] >>>> TOTAL TIME 15.36 sec\n"
     ]
    },
    {
     "name": "stderr",
     "output_type": "stream",
     "text": [
      "/usr/local/lib/python3.7/dist-packages/ipykernel_launcher.py:17: UserWarning: /content/drive/MyDrive/data_test/sonja/results/34_300k_meso_5.2_1005_labels.png is a low contrast image\n"
     ]
    },
    {
     "name": "stdout",
     "output_type": "stream",
     "text": [
      "2021-09-23 15:55:14,967 [INFO] ~~~ FINDING MASKS ~~~\n",
      "2021-09-23 15:55:30,218 [INFO] >>>> TOTAL TIME 15.25 sec\n"
     ]
    },
    {
     "name": "stderr",
     "output_type": "stream",
     "text": [
      "/usr/local/lib/python3.7/dist-packages/ipykernel_launcher.py:17: UserWarning: /content/drive/MyDrive/data_test/sonja/results/34_300k_meso_5.2_1006_labels.png is a low contrast image\n"
     ]
    },
    {
     "name": "stdout",
     "output_type": "stream",
     "text": [
      "2021-09-23 15:55:30,471 [INFO] ~~~ FINDING MASKS ~~~\n",
      "2021-09-23 15:55:45,990 [INFO] >>>> TOTAL TIME 15.52 sec\n"
     ]
    },
    {
     "name": "stderr",
     "output_type": "stream",
     "text": [
      "/usr/local/lib/python3.7/dist-packages/ipykernel_launcher.py:17: UserWarning: /content/drive/MyDrive/data_test/sonja/results/34_300k_meso_5.2_1007_labels.png is a low contrast image\n"
     ]
    },
    {
     "name": "stdout",
     "output_type": "stream",
     "text": [
      "2021-09-23 15:55:46,256 [INFO] ~~~ FINDING MASKS ~~~\n",
      "2021-09-23 15:56:01,643 [INFO] >>>> TOTAL TIME 15.39 sec\n"
     ]
    },
    {
     "name": "stderr",
     "output_type": "stream",
     "text": [
      "/usr/local/lib/python3.7/dist-packages/ipykernel_launcher.py:17: UserWarning: /content/drive/MyDrive/data_test/sonja/results/34_300k_meso_5.2_1008_labels.png is a low contrast image\n"
     ]
    },
    {
     "name": "stdout",
     "output_type": "stream",
     "text": [
      "2021-09-23 15:56:01,915 [INFO] ~~~ FINDING MASKS ~~~\n",
      "2021-09-23 15:56:17,345 [INFO] >>>> TOTAL TIME 15.43 sec\n"
     ]
    },
    {
     "name": "stderr",
     "output_type": "stream",
     "text": [
      "/usr/local/lib/python3.7/dist-packages/ipykernel_launcher.py:17: UserWarning: /content/drive/MyDrive/data_test/sonja/results/34_300k_meso_5.2_1009_labels.png is a low contrast image\n"
     ]
    },
    {
     "name": "stdout",
     "output_type": "stream",
     "text": [
      "2021-09-23 15:56:17,631 [INFO] ~~~ FINDING MASKS ~~~\n",
      "2021-09-23 15:56:33,114 [INFO] >>>> TOTAL TIME 15.48 sec\n"
     ]
    },
    {
     "name": "stderr",
     "output_type": "stream",
     "text": [
      "/usr/local/lib/python3.7/dist-packages/ipykernel_launcher.py:17: UserWarning: /content/drive/MyDrive/data_test/sonja/results/34_300k_meso_5.2_1010_labels.png is a low contrast image\n"
     ]
    },
    {
     "name": "stdout",
     "output_type": "stream",
     "text": [
      "2021-09-23 15:56:33,413 [INFO] ~~~ FINDING MASKS ~~~\n",
      "2021-09-23 15:56:48,908 [INFO] >>>> TOTAL TIME 15.49 sec\n"
     ]
    },
    {
     "name": "stderr",
     "output_type": "stream",
     "text": [
      "/usr/local/lib/python3.7/dist-packages/ipykernel_launcher.py:17: UserWarning: /content/drive/MyDrive/data_test/sonja/results/34_300k_meso_5.2_1011_labels.png is a low contrast image\n"
     ]
    },
    {
     "name": "stdout",
     "output_type": "stream",
     "text": [
      "2021-09-23 15:56:49,193 [INFO] ~~~ FINDING MASKS ~~~\n",
      "2021-09-23 15:57:04,850 [INFO] >>>> TOTAL TIME 15.66 sec\n"
     ]
    },
    {
     "name": "stderr",
     "output_type": "stream",
     "text": [
      "/usr/local/lib/python3.7/dist-packages/ipykernel_launcher.py:17: UserWarning: /content/drive/MyDrive/data_test/sonja/results/34_300k_meso_5.2_1012_labels.png is a low contrast image\n"
     ]
    },
    {
     "name": "stdout",
     "output_type": "stream",
     "text": [
      "2021-09-23 15:57:05,145 [INFO] ~~~ FINDING MASKS ~~~\n",
      "2021-09-23 15:57:20,618 [INFO] >>>> TOTAL TIME 15.47 sec\n"
     ]
    },
    {
     "name": "stderr",
     "output_type": "stream",
     "text": [
      "/usr/local/lib/python3.7/dist-packages/ipykernel_launcher.py:17: UserWarning: /content/drive/MyDrive/data_test/sonja/results/34_300k_meso_5.2_1013_labels.png is a low contrast image\n"
     ]
    },
    {
     "name": "stdout",
     "output_type": "stream",
     "text": [
      "2021-09-23 15:57:20,913 [INFO] ~~~ FINDING MASKS ~~~\n",
      "2021-09-23 15:57:36,442 [INFO] >>>> TOTAL TIME 15.53 sec\n"
     ]
    },
    {
     "name": "stderr",
     "output_type": "stream",
     "text": [
      "/usr/local/lib/python3.7/dist-packages/ipykernel_launcher.py:17: UserWarning: /content/drive/MyDrive/data_test/sonja/results/34_300k_meso_5.2_1014_labels.png is a low contrast image\n"
     ]
    },
    {
     "name": "stdout",
     "output_type": "stream",
     "text": [
      "2021-09-23 15:57:36,731 [INFO] ~~~ FINDING MASKS ~~~\n",
      "2021-09-23 15:57:52,216 [INFO] >>>> TOTAL TIME 15.49 sec\n"
     ]
    },
    {
     "name": "stderr",
     "output_type": "stream",
     "text": [
      "/usr/local/lib/python3.7/dist-packages/ipykernel_launcher.py:17: UserWarning: /content/drive/MyDrive/data_test/sonja/results/34_300k_meso_5.2_1015_labels.png is a low contrast image\n"
     ]
    },
    {
     "name": "stdout",
     "output_type": "stream",
     "text": [
      "2021-09-23 15:57:52,512 [INFO] ~~~ FINDING MASKS ~~~\n",
      "2021-09-23 15:58:08,020 [INFO] >>>> TOTAL TIME 15.51 sec\n"
     ]
    },
    {
     "name": "stderr",
     "output_type": "stream",
     "text": [
      "/usr/local/lib/python3.7/dist-packages/ipykernel_launcher.py:17: UserWarning: /content/drive/MyDrive/data_test/sonja/results/34_300k_meso_5.2_1016_labels.png is a low contrast image\n"
     ]
    },
    {
     "name": "stdout",
     "output_type": "stream",
     "text": [
      "2021-09-23 15:58:08,312 [INFO] ~~~ FINDING MASKS ~~~\n",
      "2021-09-23 15:58:23,809 [INFO] >>>> TOTAL TIME 15.50 sec\n"
     ]
    },
    {
     "name": "stderr",
     "output_type": "stream",
     "text": [
      "/usr/local/lib/python3.7/dist-packages/ipykernel_launcher.py:17: UserWarning: /content/drive/MyDrive/data_test/sonja/results/34_300k_meso_5.2_1017_labels.png is a low contrast image\n"
     ]
    },
    {
     "name": "stdout",
     "output_type": "stream",
     "text": [
      "2021-09-23 15:58:24,095 [INFO] ~~~ FINDING MASKS ~~~\n",
      "2021-09-23 15:58:39,608 [INFO] >>>> TOTAL TIME 15.51 sec\n"
     ]
    },
    {
     "name": "stderr",
     "output_type": "stream",
     "text": [
      "/usr/local/lib/python3.7/dist-packages/ipykernel_launcher.py:17: UserWarning: /content/drive/MyDrive/data_test/sonja/results/34_300k_meso_5.2_1018_labels.png is a low contrast image\n"
     ]
    },
    {
     "name": "stdout",
     "output_type": "stream",
     "text": [
      "2021-09-23 15:58:39,889 [INFO] ~~~ FINDING MASKS ~~~\n",
      "2021-09-23 15:58:55,404 [INFO] >>>> TOTAL TIME 15.52 sec\n"
     ]
    },
    {
     "name": "stderr",
     "output_type": "stream",
     "text": [
      "/usr/local/lib/python3.7/dist-packages/ipykernel_launcher.py:17: UserWarning: /content/drive/MyDrive/data_test/sonja/results/34_300k_meso_5.2_1019_labels.png is a low contrast image\n"
     ]
    },
    {
     "name": "stdout",
     "output_type": "stream",
     "text": [
      "2021-09-23 15:58:55,701 [INFO] ~~~ FINDING MASKS ~~~\n",
      "2021-09-23 15:59:11,210 [INFO] >>>> TOTAL TIME 15.51 sec\n"
     ]
    },
    {
     "name": "stderr",
     "output_type": "stream",
     "text": [
      "/usr/local/lib/python3.7/dist-packages/ipykernel_launcher.py:17: UserWarning: /content/drive/MyDrive/data_test/sonja/results/34_300k_meso_5.2_1020_labels.png is a low contrast image\n"
     ]
    },
    {
     "name": "stdout",
     "output_type": "stream",
     "text": [
      "2021-09-23 15:59:11,505 [INFO] ~~~ FINDING MASKS ~~~\n",
      "2021-09-23 15:59:27,067 [INFO] >>>> TOTAL TIME 15.56 sec\n"
     ]
    },
    {
     "name": "stderr",
     "output_type": "stream",
     "text": [
      "/usr/local/lib/python3.7/dist-packages/ipykernel_launcher.py:17: UserWarning: /content/drive/MyDrive/data_test/sonja/results/34_300k_meso_5.2_1021_labels.png is a low contrast image\n"
     ]
    },
    {
     "name": "stdout",
     "output_type": "stream",
     "text": [
      "2021-09-23 15:59:27,371 [INFO] ~~~ FINDING MASKS ~~~\n",
      "2021-09-23 15:59:43,013 [INFO] >>>> TOTAL TIME 15.64 sec\n"
     ]
    },
    {
     "name": "stderr",
     "output_type": "stream",
     "text": [
      "/usr/local/lib/python3.7/dist-packages/ipykernel_launcher.py:17: UserWarning: /content/drive/MyDrive/data_test/sonja/results/34_300k_meso_5.2_1022_labels.png is a low contrast image\n"
     ]
    },
    {
     "name": "stdout",
     "output_type": "stream",
     "text": [
      "2021-09-23 15:59:43,302 [INFO] ~~~ FINDING MASKS ~~~\n",
      "2021-09-23 15:59:58,758 [INFO] >>>> TOTAL TIME 15.46 sec\n"
     ]
    },
    {
     "name": "stderr",
     "output_type": "stream",
     "text": [
      "/usr/local/lib/python3.7/dist-packages/ipykernel_launcher.py:17: UserWarning: /content/drive/MyDrive/data_test/sonja/results/34_300k_meso_5.2_1023_labels.png is a low contrast image\n"
     ]
    },
    {
     "name": "stdout",
     "output_type": "stream",
     "text": [
      "2021-09-23 15:59:59,055 [INFO] ~~~ FINDING MASKS ~~~\n",
      "2021-09-23 16:00:14,599 [INFO] >>>> TOTAL TIME 15.54 sec\n"
     ]
    },
    {
     "name": "stderr",
     "output_type": "stream",
     "text": [
      "/usr/local/lib/python3.7/dist-packages/ipykernel_launcher.py:17: UserWarning: /content/drive/MyDrive/data_test/sonja/results/34_300k_meso_5.2_1024_labels.png is a low contrast image\n"
     ]
    },
    {
     "name": "stdout",
     "output_type": "stream",
     "text": [
      "2021-09-23 16:00:14,880 [INFO] ~~~ FINDING MASKS ~~~\n",
      "2021-09-23 16:00:30,383 [INFO] >>>> TOTAL TIME 15.50 sec\n"
     ]
    },
    {
     "name": "stderr",
     "output_type": "stream",
     "text": [
      "/usr/local/lib/python3.7/dist-packages/ipykernel_launcher.py:17: UserWarning: /content/drive/MyDrive/data_test/sonja/results/34_300k_meso_5.2_1025_labels.png is a low contrast image\n"
     ]
    },
    {
     "name": "stdout",
     "output_type": "stream",
     "text": [
      "2021-09-23 16:00:30,676 [INFO] ~~~ FINDING MASKS ~~~\n",
      "2021-09-23 16:00:46,133 [INFO] >>>> TOTAL TIME 15.46 sec\n"
     ]
    },
    {
     "name": "stderr",
     "output_type": "stream",
     "text": [
      "/usr/local/lib/python3.7/dist-packages/ipykernel_launcher.py:17: UserWarning: /content/drive/MyDrive/data_test/sonja/results/34_300k_meso_5.2_1026_labels.png is a low contrast image\n"
     ]
    },
    {
     "name": "stdout",
     "output_type": "stream",
     "text": [
      "2021-09-23 16:00:46,414 [INFO] ~~~ FINDING MASKS ~~~\n",
      "2021-09-23 16:01:01,812 [INFO] >>>> TOTAL TIME 15.40 sec\n"
     ]
    },
    {
     "name": "stderr",
     "output_type": "stream",
     "text": [
      "/usr/local/lib/python3.7/dist-packages/ipykernel_launcher.py:17: UserWarning: /content/drive/MyDrive/data_test/sonja/results/34_300k_meso_5.2_1027_labels.png is a low contrast image\n"
     ]
    },
    {
     "name": "stdout",
     "output_type": "stream",
     "text": [
      "2021-09-23 16:01:02,091 [INFO] ~~~ FINDING MASKS ~~~\n",
      "2021-09-23 16:01:17,538 [INFO] >>>> TOTAL TIME 15.45 sec\n"
     ]
    },
    {
     "name": "stderr",
     "output_type": "stream",
     "text": [
      "/usr/local/lib/python3.7/dist-packages/ipykernel_launcher.py:17: UserWarning: /content/drive/MyDrive/data_test/sonja/results/34_300k_meso_5.2_1028_labels.png is a low contrast image\n"
     ]
    },
    {
     "name": "stdout",
     "output_type": "stream",
     "text": [
      "2021-09-23 16:01:17,821 [INFO] ~~~ FINDING MASKS ~~~\n",
      "2021-09-23 16:01:33,187 [INFO] >>>> TOTAL TIME 15.37 sec\n"
     ]
    },
    {
     "name": "stderr",
     "output_type": "stream",
     "text": [
      "/usr/local/lib/python3.7/dist-packages/ipykernel_launcher.py:17: UserWarning: /content/drive/MyDrive/data_test/sonja/results/34_300k_meso_5.2_1029_labels.png is a low contrast image\n"
     ]
    },
    {
     "name": "stdout",
     "output_type": "stream",
     "text": [
      "2021-09-23 16:01:33,476 [INFO] ~~~ FINDING MASKS ~~~\n",
      "2021-09-23 16:01:48,905 [INFO] >>>> TOTAL TIME 15.43 sec\n"
     ]
    },
    {
     "name": "stderr",
     "output_type": "stream",
     "text": [
      "/usr/local/lib/python3.7/dist-packages/ipykernel_launcher.py:17: UserWarning: /content/drive/MyDrive/data_test/sonja/results/34_300k_meso_5.2_1030_labels.png is a low contrast image\n"
     ]
    },
    {
     "name": "stdout",
     "output_type": "stream",
     "text": [
      "2021-09-23 16:01:49,187 [INFO] ~~~ FINDING MASKS ~~~\n",
      "2021-09-23 16:02:04,721 [INFO] >>>> TOTAL TIME 15.53 sec\n"
     ]
    },
    {
     "name": "stderr",
     "output_type": "stream",
     "text": [
      "/usr/local/lib/python3.7/dist-packages/ipykernel_launcher.py:17: UserWarning: /content/drive/MyDrive/data_test/sonja/results/34_300k_meso_5.2_1031_labels.png is a low contrast image\n"
     ]
    },
    {
     "name": "stdout",
     "output_type": "stream",
     "text": [
      "2021-09-23 16:02:05,077 [INFO] ~~~ FINDING MASKS ~~~\n",
      "2021-09-23 16:02:20,582 [INFO] >>>> TOTAL TIME 15.50 sec\n"
     ]
    },
    {
     "name": "stderr",
     "output_type": "stream",
     "text": [
      "/usr/local/lib/python3.7/dist-packages/ipykernel_launcher.py:17: UserWarning: /content/drive/MyDrive/data_test/sonja/results/34_300k_meso_5.2_1032_labels.png is a low contrast image\n"
     ]
    },
    {
     "ename": "KeyError",
     "evalue": "ignored",
     "output_type": "error",
     "traceback": [
      "\u001b[0;31m---------------------------------------------------------------------------\u001b[0m",
      "\u001b[0;31mKeyError\u001b[0m                                  Traceback (most recent call last)",
      "\u001b[0;32m<ipython-input-13-9c3601a257de>\u001b[0m in \u001b[0;36m<module>\u001b[0;34m()\u001b[0m\n\u001b[1;32m      8\u001b[0m \u001b[0;34m\u001b[0m\u001b[0m\n\u001b[1;32m      9\u001b[0m     \u001b[0;31m# get an image\u001b[0m\u001b[0;34m\u001b[0m\u001b[0;34m\u001b[0m\u001b[0;34m\u001b[0m\u001b[0m\n\u001b[0;32m---> 10\u001b[0;31m     \u001b[0mim\u001b[0m \u001b[0;34m=\u001b[0m \u001b[0mnd2_movie\u001b[0m\u001b[0;34m.\u001b[0m\u001b[0mget_frame_2D\u001b[0m\u001b[0;34m(\u001b[0m\u001b[0mc\u001b[0m\u001b[0;34m=\u001b[0m\u001b[0;36m0\u001b[0m\u001b[0;34m,\u001b[0m \u001b[0mt\u001b[0m\u001b[0;34m=\u001b[0m\u001b[0mi\u001b[0m\u001b[0;34m)\u001b[0m\u001b[0;34m\u001b[0m\u001b[0;34m\u001b[0m\u001b[0m\n\u001b[0m\u001b[1;32m     11\u001b[0m \u001b[0;34m\u001b[0m\u001b[0m\n\u001b[1;32m     12\u001b[0m     \u001b[0;31m# segment the right plane\u001b[0m\u001b[0;34m\u001b[0m\u001b[0;34m\u001b[0m\u001b[0;34m\u001b[0m\u001b[0m\n",
      "\u001b[0;32m/usr/local/lib/python3.7/dist-packages/nd2reader/reader.py\u001b[0m in \u001b[0;36mget_frame_2D\u001b[0;34m(self, c, t, z, x, y, v)\u001b[0m\n\u001b[1;32m     86\u001b[0m         \u001b[0my\u001b[0m \u001b[0;34m=\u001b[0m \u001b[0mself\u001b[0m\u001b[0;34m.\u001b[0m\u001b[0mmetadata\u001b[0m\u001b[0;34m[\u001b[0m\u001b[0;34m\"height\"\u001b[0m\u001b[0;34m]\u001b[0m\u001b[0;34m\u001b[0m\u001b[0;34m\u001b[0m\u001b[0m\n\u001b[1;32m     87\u001b[0m \u001b[0;34m\u001b[0m\u001b[0m\n\u001b[0;32m---> 88\u001b[0;31m         \u001b[0;32mreturn\u001b[0m \u001b[0mself\u001b[0m\u001b[0;34m.\u001b[0m\u001b[0m_parser\u001b[0m\u001b[0;34m.\u001b[0m\u001b[0mget_image_by_attributes\u001b[0m\u001b[0;34m(\u001b[0m\u001b[0mt\u001b[0m\u001b[0;34m,\u001b[0m \u001b[0mv\u001b[0m\u001b[0;34m,\u001b[0m \u001b[0mc\u001b[0m\u001b[0;34m,\u001b[0m \u001b[0mz\u001b[0m\u001b[0;34m,\u001b[0m \u001b[0my\u001b[0m\u001b[0;34m,\u001b[0m \u001b[0mx\u001b[0m\u001b[0;34m)\u001b[0m\u001b[0;34m\u001b[0m\u001b[0;34m\u001b[0m\u001b[0m\n\u001b[0m\u001b[1;32m     89\u001b[0m \u001b[0;34m\u001b[0m\u001b[0m\n\u001b[1;32m     90\u001b[0m     \u001b[0;34m@\u001b[0m\u001b[0mproperty\u001b[0m\u001b[0;34m\u001b[0m\u001b[0;34m\u001b[0m\u001b[0m\n",
      "\u001b[0;32m/usr/local/lib/python3.7/dist-packages/nd2reader/parser.py\u001b[0m in \u001b[0;36mget_image_by_attributes\u001b[0;34m(self, frame_number, field_of_view, channel, z_level, height, width)\u001b[0m\n\u001b[1;32m    102\u001b[0m         \u001b[0;32mtry\u001b[0m\u001b[0;34m:\u001b[0m\u001b[0;34m\u001b[0m\u001b[0;34m\u001b[0m\u001b[0m\n\u001b[1;32m    103\u001b[0m             timestamp, raw_image_data = self._get_raw_image_data(image_group_number, channel,\n\u001b[0;32m--> 104\u001b[0;31m                                                                  height, width)\n\u001b[0m\u001b[1;32m    105\u001b[0m         \u001b[0;32mexcept\u001b[0m \u001b[0;34m(\u001b[0m\u001b[0mTypeError\u001b[0m\u001b[0;34m)\u001b[0m\u001b[0;34m:\u001b[0m\u001b[0;34m\u001b[0m\u001b[0;34m\u001b[0m\u001b[0m\n\u001b[1;32m    106\u001b[0m             \u001b[0;32mreturn\u001b[0m \u001b[0mFrame\u001b[0m\u001b[0;34m(\u001b[0m\u001b[0;34m[\u001b[0m\u001b[0;34m]\u001b[0m\u001b[0;34m,\u001b[0m \u001b[0mframe_no\u001b[0m\u001b[0;34m=\u001b[0m\u001b[0mframe_number\u001b[0m\u001b[0;34m,\u001b[0m \u001b[0mmetadata\u001b[0m\u001b[0;34m=\u001b[0m\u001b[0mself\u001b[0m\u001b[0;34m.\u001b[0m\u001b[0m_get_frame_metadata\u001b[0m\u001b[0;34m(\u001b[0m\u001b[0;34m)\u001b[0m\u001b[0;34m)\u001b[0m\u001b[0;34m\u001b[0m\u001b[0;34m\u001b[0m\u001b[0m\n",
      "\u001b[0;32m/usr/local/lib/python3.7/dist-packages/nd2reader/parser.py\u001b[0m in \u001b[0;36m_get_raw_image_data\u001b[0;34m(self, image_group_number, channel_offset, height, width)\u001b[0m\n\u001b[1;32m    259\u001b[0m \u001b[0;34m\u001b[0m\u001b[0m\n\u001b[1;32m    260\u001b[0m         \"\"\"\n\u001b[0;32m--> 261\u001b[0;31m         \u001b[0mchunk\u001b[0m \u001b[0;34m=\u001b[0m \u001b[0mself\u001b[0m\u001b[0;34m.\u001b[0m\u001b[0m_label_map\u001b[0m\u001b[0;34m.\u001b[0m\u001b[0mget_image_data_location\u001b[0m\u001b[0;34m(\u001b[0m\u001b[0mimage_group_number\u001b[0m\u001b[0;34m)\u001b[0m\u001b[0;34m\u001b[0m\u001b[0;34m\u001b[0m\u001b[0m\n\u001b[0m\u001b[1;32m    262\u001b[0m         \u001b[0mdata\u001b[0m \u001b[0;34m=\u001b[0m \u001b[0mread_chunk\u001b[0m\u001b[0;34m(\u001b[0m\u001b[0mself\u001b[0m\u001b[0;34m.\u001b[0m\u001b[0m_fh\u001b[0m\u001b[0;34m,\u001b[0m \u001b[0mchunk\u001b[0m\u001b[0;34m)\u001b[0m\u001b[0;34m\u001b[0m\u001b[0;34m\u001b[0m\u001b[0m\n\u001b[1;32m    263\u001b[0m \u001b[0;34m\u001b[0m\u001b[0m\n",
      "\u001b[0;32m/usr/local/lib/python3.7/dist-packages/nd2reader/label_map.py\u001b[0m in \u001b[0;36mget_image_data_location\u001b[0;34m(self, index)\u001b[0m\n\u001b[1;32m     78\u001b[0m                     \u001b[0mlocation\u001b[0m \u001b[0;34m=\u001b[0m \u001b[0mself\u001b[0m\u001b[0;34m.\u001b[0m\u001b[0m_parse_data_location\u001b[0m\u001b[0;34m(\u001b[0m\u001b[0mmatch\u001b[0m\u001b[0;34m.\u001b[0m\u001b[0mend\u001b[0m\u001b[0;34m(\u001b[0m\u001b[0;34m)\u001b[0m\u001b[0;34m)\u001b[0m\u001b[0;34m\u001b[0m\u001b[0;34m\u001b[0m\u001b[0m\n\u001b[1;32m     79\u001b[0m                     \u001b[0mself\u001b[0m\u001b[0;34m.\u001b[0m\u001b[0m_image_data\u001b[0m\u001b[0;34m[\u001b[0m\u001b[0mint\u001b[0m\u001b[0;34m(\u001b[0m\u001b[0mmatch\u001b[0m\u001b[0;34m.\u001b[0m\u001b[0mgroup\u001b[0m\u001b[0;34m(\u001b[0m\u001b[0;36m1\u001b[0m\u001b[0;34m)\u001b[0m\u001b[0;34m)\u001b[0m\u001b[0;34m]\u001b[0m \u001b[0;34m=\u001b[0m \u001b[0mlocation\u001b[0m\u001b[0;34m\u001b[0m\u001b[0;34m\u001b[0m\u001b[0m\n\u001b[0;32m---> 80\u001b[0;31m         \u001b[0;32mreturn\u001b[0m \u001b[0mself\u001b[0m\u001b[0;34m.\u001b[0m\u001b[0m_image_data\u001b[0m\u001b[0;34m[\u001b[0m\u001b[0mindex\u001b[0m\u001b[0;34m]\u001b[0m\u001b[0;34m\u001b[0m\u001b[0;34m\u001b[0m\u001b[0m\n\u001b[0m\u001b[1;32m     81\u001b[0m \u001b[0;34m\u001b[0m\u001b[0m\n\u001b[1;32m     82\u001b[0m     \u001b[0;34m@\u001b[0m\u001b[0mproperty\u001b[0m\u001b[0;34m\u001b[0m\u001b[0;34m\u001b[0m\u001b[0m\n",
      "\u001b[0;31mKeyError\u001b[0m: 1033"
     ]
    }
   ],
   "source": [
    "# loop for segmentation \n",
    "\n",
    "for myWell in well_list:\n",
    "    \n",
    "    file_list = os.listdir(os.path.join(path_data,myWell))\n",
    "    \n",
    "    try:\n",
    "        os.mkdir(os.path.join(save_path,myWell))\n",
    "        print(f'Directory for saving {myWell} labels created.')\n",
    "    except:\n",
    "        pass\n",
    "\n",
    "    for file_name in file_list: \n",
    "\n",
    "        # specify pathway to the image\n",
    "        im_path = os.path.join(path_data,myWell,file_name)\n",
    "\n",
    "        # get an image\n",
    "        im = imread(im_path)\n",
    "\n",
    "        # segment the right plane\n",
    "        labels, _, _, _ = model.eval(im, diameter=selected_diameter, channels=[0,0])\n",
    "\n",
    "        # save segmentation\n",
    "        path_save_temp = os.path.join(path_save,myWell,file_name.replace('im2segment','labels'))\n",
    "        imsave(path_save_temp,labels) "
   ]
  }
 ],
 "metadata": {
  "accelerator": "GPU",
  "colab": {
   "authorship_tag": "ABX9TyNGhYUAObWehP4wfnZZStWw",
   "name": "cellpose_movie_segmentation_nd2.ipynb",
   "provenance": []
  },
  "kernelspec": {
   "display_name": "Python 3 (ipykernel)",
   "language": "python",
   "name": "python3"
  },
  "language_info": {
   "codemirror_mode": {
    "name": "ipython",
    "version": 3
   },
   "file_extension": ".py",
   "mimetype": "text/x-python",
   "name": "python",
   "nbconvert_exporter": "python",
   "pygments_lexer": "ipython3",
   "version": "3.7.10"
  }
 },
 "nbformat": 4,
 "nbformat_minor": 1
}
