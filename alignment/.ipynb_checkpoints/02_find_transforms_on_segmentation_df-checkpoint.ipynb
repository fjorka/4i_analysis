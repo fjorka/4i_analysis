{
 "cells": [
  {
   "cell_type": "markdown",
   "metadata": {},
   "source": [
    "# Points collection for the alignment of 4i data"
   ]
  },
  {
   "cell_type": "markdown",
   "metadata": {},
   "source": [
    "This script allows collection of points that will be used for alignment of 4i experiments."
   ]
  },
  {
   "cell_type": "markdown",
   "metadata": {},
   "source": [
    "# Select a well to align"
   ]
  },
  {
   "cell_type": "code",
   "execution_count": 13,
   "metadata": {},
   "outputs": [],
   "source": [
    "myWell = 'A3'"
   ]
  },
  {
   "cell_type": "markdown",
   "metadata": {},
   "source": [
    "# Preparing the data"
   ]
  },
  {
   "cell_type": "markdown",
   "metadata": {},
   "source": [
    "Execute all cells in this section. If you see any errors stop, save the file and report it. If a cell is not supposed to execute right away it will have expected waiting time indicated above. "
   ]
  },
  {
   "cell_type": "code",
   "execution_count": 16,
   "metadata": {},
   "outputs": [],
   "source": [
    "import os\n",
    "import re\n",
    "import time\n",
    "import pickle\n",
    "\n",
    "import nd2\n",
    "\n",
    "import pickle\n",
    "\n",
    "import pandas as pd\n",
    "import numpy as np\n",
    "\n",
    "from scipy.spatial import distance\n",
    "from tifffile import imread,imsave\n",
    "from skimage import transform\n",
    "from skimage.transform import downscale_local_mean\n",
    "\n",
    "import matplotlib.pyplot as plt\n",
    "\n",
    "import napari\n",
    "\n",
    "from pystackreg import StackReg\n",
    "import pystackreg\n",
    "\n",
    "import mxnet\n",
    "from cellpose import models\n",
    "\n",
    "import ipywidgets as widgets\n",
    "from IPython.display import display"
   ]
  },
  {
   "cell_type": "code",
   "execution_count": 15,
   "metadata": {},
   "outputs": [],
   "source": [
    "pathInfoFile=r'Z:\\Wayne\\20210716_sen_sig_IF\\210716_info.csv'\n",
    "\n",
    "pathData=r'Z:\\Wayne\\20210716_sen_sig_IF'"
   ]
  },
  {
   "cell_type": "markdown",
   "metadata": {},
   "source": [
    "**Expected execution time: 10s.**"
   ]
  },
  {
   "cell_type": "code",
   "execution_count": 27,
   "metadata": {},
   "outputs": [
    {
     "name": "stdout",
     "output_type": "stream",
     "text": [
      "Wall time: 971 ms\n"
     ]
    }
   ],
   "source": [
    "%%time\n",
    "\n",
    "# read in the file with the info about the eperiment\n",
    "myDataRounds = pd.read_csv(pathInfoFile)\n",
    "\n",
    "# create a list of subdirectories\n",
    "myFiles = os.listdir(pathData)\n",
    "\n",
    "myData=pd.DataFrame()\n",
    "\n",
    "k=0\n",
    "\n",
    "for i,myRoundInfo in myDataRounds.iterrows():\n",
    "    \n",
    "    mySubDirName = [x for x in myFiles if (f'Round_{myRoundInfo.myRound}_' in x)]\n",
    "    \n",
    "    mySubDir = os.path.join(pathData,mySubDirName[0])\n",
    "    \n",
    "    myFileName = [x for x in os.listdir(mySubDir) if f'Well{myWell}_Channel' in x][0]\n",
    "    \n",
    "    # get a handle to the file\n",
    "    myIm = nd2.ND2File(os.path.join(mySubDir,myFileName))\n",
    "    \n",
    "    # through the channels in the file\n",
    "    for j in range(myIm.sizes['C']):\n",
    "        \n",
    "        # get the channel name (OC)\n",
    "        myChannel = myIm.metadata.channels[j].channel.name\n",
    "        \n",
    "        # translate the OC into the signal name\n",
    "        mySignal = myRoundInfo[myChannel]\n",
    "        \n",
    "        if mySignal == mySignal: # if this channel was admitted (otherwise no entry in the info file)\n",
    "        \n",
    "            myData.loc[k,'file'] = myFileName\n",
    "            myData.loc[k,'dir'] = pathData\n",
    "            myData.loc[k,'sub_dir'] = mySubDirName\n",
    "            myData.loc[k,'myRound'] = myRoundInfo.myRound\n",
    "            myData.loc[k,'channel_in_file'] = j\n",
    "            \n",
    "            myData.loc[k,'signal'] = myRoundInfo[myChannel]\n",
    "            myData.loc[k,'width'] = myIm.sizes['X']\n",
    "            myData.loc[k,'height'] = myIm.sizes['Y']\n",
    "        \n",
    "            k = k+1\n",
    "\n",
    "\n",
    "########################################################################################################   \n",
    "# choose images for alignment\n",
    "\n",
    "#myData['alignIm'] = ((myData.signal=='DNA') | (myData.signal=='CDK2')).astype(int)\n",
    "myData['alignIm'] = (myData.signal=='DNA').astype(int)\n",
    "\n",
    "k=0\n",
    "for myGroup in myData.groupby(['myRound']):\n",
    "    \n",
    "    myData.loc[myData.myRound==myGroup[0],'alignRound'] = k\n",
    "    \n",
    "    k=k+1"
   ]
  },
  {
   "cell_type": "code",
   "execution_count": 28,
   "metadata": {},
   "outputs": [
    {
     "data": {
      "text/html": [
       "<div>\n",
       "<style scoped>\n",
       "    .dataframe tbody tr th:only-of-type {\n",
       "        vertical-align: middle;\n",
       "    }\n",
       "\n",
       "    .dataframe tbody tr th {\n",
       "        vertical-align: top;\n",
       "    }\n",
       "\n",
       "    .dataframe thead th {\n",
       "        text-align: right;\n",
       "    }\n",
       "</style>\n",
       "<table border=\"1\" class=\"dataframe\">\n",
       "  <thead>\n",
       "    <tr style=\"text-align: right;\">\n",
       "      <th></th>\n",
       "      <th>file</th>\n",
       "      <th>dir</th>\n",
       "      <th>sub_dir</th>\n",
       "      <th>myRound</th>\n",
       "      <th>channel_in_file</th>\n",
       "      <th>signal</th>\n",
       "      <th>width</th>\n",
       "      <th>height</th>\n",
       "      <th>alignIm</th>\n",
       "      <th>alignRound</th>\n",
       "    </tr>\n",
       "  </thead>\n",
       "  <tbody>\n",
       "    <tr>\n",
       "      <th>0</th>\n",
       "      <td>WellA3_ChannelHoechst,AF488_Seq1202.nd2</td>\n",
       "      <td>Z:\\Wayne\\20210716_sen_sig_IF</td>\n",
       "      <td>20210716_Round_1_DNA_bGal</td>\n",
       "      <td>1.0</td>\n",
       "      <td>0.0</td>\n",
       "      <td>DNA</td>\n",
       "      <td>16589.0</td>\n",
       "      <td>16590.0</td>\n",
       "      <td>1</td>\n",
       "      <td>0.0</td>\n",
       "    </tr>\n",
       "    <tr>\n",
       "      <th>1</th>\n",
       "      <td>WellA3_ChannelHoechst,AF488_Seq1202.nd2</td>\n",
       "      <td>Z:\\Wayne\\20210716_sen_sig_IF</td>\n",
       "      <td>20210716_Round_1_DNA_bGal</td>\n",
       "      <td>1.0</td>\n",
       "      <td>1.0</td>\n",
       "      <td>bGal</td>\n",
       "      <td>16589.0</td>\n",
       "      <td>16590.0</td>\n",
       "      <td>0</td>\n",
       "      <td>0.0</td>\n",
       "    </tr>\n",
       "    <tr>\n",
       "      <th>2</th>\n",
       "      <td>WellA3_ChannelHoechst,AF555,AF647_Seq0801.nd2</td>\n",
       "      <td>Z:\\Wayne\\20210716_sen_sig_IF</td>\n",
       "      <td>20210719_Round_2_DNA_AF555_AF647</td>\n",
       "      <td>2.0</td>\n",
       "      <td>0.0</td>\n",
       "      <td>DNA</td>\n",
       "      <td>16589.0</td>\n",
       "      <td>16590.0</td>\n",
       "      <td>1</td>\n",
       "      <td>1.0</td>\n",
       "    </tr>\n",
       "    <tr>\n",
       "      <th>3</th>\n",
       "      <td>WellA3_ChannelHoechst,AF555,AF647_Seq0801.nd2</td>\n",
       "      <td>Z:\\Wayne\\20210716_sen_sig_IF</td>\n",
       "      <td>20210719_Round_2_DNA_AF555_AF647</td>\n",
       "      <td>2.0</td>\n",
       "      <td>1.0</td>\n",
       "      <td>anti_1</td>\n",
       "      <td>16589.0</td>\n",
       "      <td>16590.0</td>\n",
       "      <td>0</td>\n",
       "      <td>1.0</td>\n",
       "    </tr>\n",
       "    <tr>\n",
       "      <th>4</th>\n",
       "      <td>WellA3_ChannelHoechst,AF555,AF647_Seq0801.nd2</td>\n",
       "      <td>Z:\\Wayne\\20210716_sen_sig_IF</td>\n",
       "      <td>20210719_Round_2_DNA_AF555_AF647</td>\n",
       "      <td>2.0</td>\n",
       "      <td>2.0</td>\n",
       "      <td>anti_2</td>\n",
       "      <td>16589.0</td>\n",
       "      <td>16590.0</td>\n",
       "      <td>0</td>\n",
       "      <td>1.0</td>\n",
       "    </tr>\n",
       "    <tr>\n",
       "      <th>5</th>\n",
       "      <td>WellA3_ChannelHoechst,AF647_Seq0400.nd2</td>\n",
       "      <td>Z:\\Wayne\\20210716_sen_sig_IF</td>\n",
       "      <td>20210725_Round_3_DNA_CDK4</td>\n",
       "      <td>3.0</td>\n",
       "      <td>0.0</td>\n",
       "      <td>DNA</td>\n",
       "      <td>16589.0</td>\n",
       "      <td>16590.0</td>\n",
       "      <td>1</td>\n",
       "      <td>2.0</td>\n",
       "    </tr>\n",
       "    <tr>\n",
       "      <th>6</th>\n",
       "      <td>WellA3_ChannelHoechst,AF647_Seq0400.nd2</td>\n",
       "      <td>Z:\\Wayne\\20210716_sen_sig_IF</td>\n",
       "      <td>20210725_Round_3_DNA_CDK4</td>\n",
       "      <td>3.0</td>\n",
       "      <td>1.0</td>\n",
       "      <td>CDK4</td>\n",
       "      <td>16589.0</td>\n",
       "      <td>16590.0</td>\n",
       "      <td>0</td>\n",
       "      <td>2.0</td>\n",
       "    </tr>\n",
       "  </tbody>\n",
       "</table>\n",
       "</div>"
      ],
      "text/plain": [
       "                                            file  \\\n",
       "0        WellA3_ChannelHoechst,AF488_Seq1202.nd2   \n",
       "1        WellA3_ChannelHoechst,AF488_Seq1202.nd2   \n",
       "2  WellA3_ChannelHoechst,AF555,AF647_Seq0801.nd2   \n",
       "3  WellA3_ChannelHoechst,AF555,AF647_Seq0801.nd2   \n",
       "4  WellA3_ChannelHoechst,AF555,AF647_Seq0801.nd2   \n",
       "5        WellA3_ChannelHoechst,AF647_Seq0400.nd2   \n",
       "6        WellA3_ChannelHoechst,AF647_Seq0400.nd2   \n",
       "\n",
       "                            dir                           sub_dir  myRound  \\\n",
       "0  Z:\\Wayne\\20210716_sen_sig_IF         20210716_Round_1_DNA_bGal      1.0   \n",
       "1  Z:\\Wayne\\20210716_sen_sig_IF         20210716_Round_1_DNA_bGal      1.0   \n",
       "2  Z:\\Wayne\\20210716_sen_sig_IF  20210719_Round_2_DNA_AF555_AF647      2.0   \n",
       "3  Z:\\Wayne\\20210716_sen_sig_IF  20210719_Round_2_DNA_AF555_AF647      2.0   \n",
       "4  Z:\\Wayne\\20210716_sen_sig_IF  20210719_Round_2_DNA_AF555_AF647      2.0   \n",
       "5  Z:\\Wayne\\20210716_sen_sig_IF         20210725_Round_3_DNA_CDK4      3.0   \n",
       "6  Z:\\Wayne\\20210716_sen_sig_IF         20210725_Round_3_DNA_CDK4      3.0   \n",
       "\n",
       "   channel_in_file  signal    width   height  alignIm  alignRound  \n",
       "0              0.0     DNA  16589.0  16590.0        1         0.0  \n",
       "1              1.0    bGal  16589.0  16590.0        0         0.0  \n",
       "2              0.0     DNA  16589.0  16590.0        1         1.0  \n",
       "3              1.0  anti_1  16589.0  16590.0        0         1.0  \n",
       "4              2.0  anti_2  16589.0  16590.0        0         1.0  \n",
       "5              0.0     DNA  16589.0  16590.0        1         2.0  \n",
       "6              1.0    CDK4  16589.0  16590.0        0         2.0  "
      ]
     },
     "execution_count": 28,
     "metadata": {},
     "output_type": "execute_result"
    }
   ],
   "source": [
    "myData"
   ]
  },
  {
   "cell_type": "markdown",
   "metadata": {},
   "source": [
    "**Test cell**"
   ]
  },
  {
   "cell_type": "code",
   "execution_count": 6,
   "metadata": {},
   "outputs": [
    {
     "name": "stdout",
     "output_type": "stream",
     "text": [
      "Data preparation passed tests.\n"
     ]
    }
   ],
   "source": [
    "# test wheather each round has one alignment frame\n",
    "\n",
    "t=myData.groupby(['myRound']).sum()\n",
    "test1 = list(t.alignIm)==([1]*len(t))\n",
    "\n",
    "# find numbers of frames of images to align\n",
    "frames2align = list(np.where(np.array(myData.alignIm)==1)[0])\n",
    "\n",
    "#############################################\n",
    "# put the number of expected rounds to align\n",
    "#############################################\n",
    "test2 = len(frames2align) == 3\n",
    "\n",
    "if (test1 & test2):\n",
    "    print('Data preparation passed tests.')\n",
    "else:\n",
    "    print('Error - stop and report.')"
   ]
  },
  {
   "cell_type": "markdown",
   "metadata": {},
   "source": [
    "## Save data for segmentation"
   ]
  },
  {
   "cell_type": "code",
   "execution_count": 30,
   "metadata": {},
   "outputs": [
    {
     "data": {
      "text/html": [
       "<div>\n",
       "<style scoped>\n",
       "    .dataframe tbody tr th:only-of-type {\n",
       "        vertical-align: middle;\n",
       "    }\n",
       "\n",
       "    .dataframe tbody tr th {\n",
       "        vertical-align: top;\n",
       "    }\n",
       "\n",
       "    .dataframe thead th {\n",
       "        text-align: right;\n",
       "    }\n",
       "</style>\n",
       "<table border=\"1\" class=\"dataframe\">\n",
       "  <thead>\n",
       "    <tr style=\"text-align: right;\">\n",
       "      <th></th>\n",
       "      <th>file</th>\n",
       "      <th>dir</th>\n",
       "      <th>sub_dir</th>\n",
       "      <th>myRound</th>\n",
       "      <th>channel_in_file</th>\n",
       "      <th>signal</th>\n",
       "      <th>width</th>\n",
       "      <th>height</th>\n",
       "      <th>alignIm</th>\n",
       "      <th>alignRound</th>\n",
       "    </tr>\n",
       "  </thead>\n",
       "  <tbody>\n",
       "    <tr>\n",
       "      <th>0</th>\n",
       "      <td>WellA3_ChannelHoechst,AF488_Seq1202.nd2</td>\n",
       "      <td>Z:\\Wayne\\20210716_sen_sig_IF</td>\n",
       "      <td>20210716_Round_1_DNA_bGal</td>\n",
       "      <td>1.0</td>\n",
       "      <td>0.0</td>\n",
       "      <td>DNA</td>\n",
       "      <td>16589.0</td>\n",
       "      <td>16590.0</td>\n",
       "      <td>1</td>\n",
       "      <td>0.0</td>\n",
       "    </tr>\n",
       "    <tr>\n",
       "      <th>1</th>\n",
       "      <td>WellA3_ChannelHoechst,AF488_Seq1202.nd2</td>\n",
       "      <td>Z:\\Wayne\\20210716_sen_sig_IF</td>\n",
       "      <td>20210716_Round_1_DNA_bGal</td>\n",
       "      <td>1.0</td>\n",
       "      <td>1.0</td>\n",
       "      <td>bGal</td>\n",
       "      <td>16589.0</td>\n",
       "      <td>16590.0</td>\n",
       "      <td>0</td>\n",
       "      <td>0.0</td>\n",
       "    </tr>\n",
       "    <tr>\n",
       "      <th>2</th>\n",
       "      <td>WellA3_ChannelHoechst,AF555,AF647_Seq0801.nd2</td>\n",
       "      <td>Z:\\Wayne\\20210716_sen_sig_IF</td>\n",
       "      <td>20210719_Round_2_DNA_AF555_AF647</td>\n",
       "      <td>2.0</td>\n",
       "      <td>0.0</td>\n",
       "      <td>DNA</td>\n",
       "      <td>16589.0</td>\n",
       "      <td>16590.0</td>\n",
       "      <td>1</td>\n",
       "      <td>1.0</td>\n",
       "    </tr>\n",
       "    <tr>\n",
       "      <th>3</th>\n",
       "      <td>WellA3_ChannelHoechst,AF555,AF647_Seq0801.nd2</td>\n",
       "      <td>Z:\\Wayne\\20210716_sen_sig_IF</td>\n",
       "      <td>20210719_Round_2_DNA_AF555_AF647</td>\n",
       "      <td>2.0</td>\n",
       "      <td>1.0</td>\n",
       "      <td>anti_1</td>\n",
       "      <td>16589.0</td>\n",
       "      <td>16590.0</td>\n",
       "      <td>0</td>\n",
       "      <td>1.0</td>\n",
       "    </tr>\n",
       "    <tr>\n",
       "      <th>4</th>\n",
       "      <td>WellA3_ChannelHoechst,AF555,AF647_Seq0801.nd2</td>\n",
       "      <td>Z:\\Wayne\\20210716_sen_sig_IF</td>\n",
       "      <td>20210719_Round_2_DNA_AF555_AF647</td>\n",
       "      <td>2.0</td>\n",
       "      <td>2.0</td>\n",
       "      <td>anti_2</td>\n",
       "      <td>16589.0</td>\n",
       "      <td>16590.0</td>\n",
       "      <td>0</td>\n",
       "      <td>1.0</td>\n",
       "    </tr>\n",
       "    <tr>\n",
       "      <th>5</th>\n",
       "      <td>WellA3_ChannelHoechst,AF647_Seq0400.nd2</td>\n",
       "      <td>Z:\\Wayne\\20210716_sen_sig_IF</td>\n",
       "      <td>20210725_Round_3_DNA_CDK4</td>\n",
       "      <td>3.0</td>\n",
       "      <td>0.0</td>\n",
       "      <td>DNA</td>\n",
       "      <td>16589.0</td>\n",
       "      <td>16590.0</td>\n",
       "      <td>1</td>\n",
       "      <td>2.0</td>\n",
       "    </tr>\n",
       "    <tr>\n",
       "      <th>6</th>\n",
       "      <td>WellA3_ChannelHoechst,AF647_Seq0400.nd2</td>\n",
       "      <td>Z:\\Wayne\\20210716_sen_sig_IF</td>\n",
       "      <td>20210725_Round_3_DNA_CDK4</td>\n",
       "      <td>3.0</td>\n",
       "      <td>1.0</td>\n",
       "      <td>CDK4</td>\n",
       "      <td>16589.0</td>\n",
       "      <td>16590.0</td>\n",
       "      <td>0</td>\n",
       "      <td>2.0</td>\n",
       "    </tr>\n",
       "  </tbody>\n",
       "</table>\n",
       "</div>"
      ],
      "text/plain": [
       "                                            file  \\\n",
       "0        WellA3_ChannelHoechst,AF488_Seq1202.nd2   \n",
       "1        WellA3_ChannelHoechst,AF488_Seq1202.nd2   \n",
       "2  WellA3_ChannelHoechst,AF555,AF647_Seq0801.nd2   \n",
       "3  WellA3_ChannelHoechst,AF555,AF647_Seq0801.nd2   \n",
       "4  WellA3_ChannelHoechst,AF555,AF647_Seq0801.nd2   \n",
       "5        WellA3_ChannelHoechst,AF647_Seq0400.nd2   \n",
       "6        WellA3_ChannelHoechst,AF647_Seq0400.nd2   \n",
       "\n",
       "                            dir                           sub_dir  myRound  \\\n",
       "0  Z:\\Wayne\\20210716_sen_sig_IF         20210716_Round_1_DNA_bGal      1.0   \n",
       "1  Z:\\Wayne\\20210716_sen_sig_IF         20210716_Round_1_DNA_bGal      1.0   \n",
       "2  Z:\\Wayne\\20210716_sen_sig_IF  20210719_Round_2_DNA_AF555_AF647      2.0   \n",
       "3  Z:\\Wayne\\20210716_sen_sig_IF  20210719_Round_2_DNA_AF555_AF647      2.0   \n",
       "4  Z:\\Wayne\\20210716_sen_sig_IF  20210719_Round_2_DNA_AF555_AF647      2.0   \n",
       "5  Z:\\Wayne\\20210716_sen_sig_IF         20210725_Round_3_DNA_CDK4      3.0   \n",
       "6  Z:\\Wayne\\20210716_sen_sig_IF         20210725_Round_3_DNA_CDK4      3.0   \n",
       "\n",
       "   channel_in_file  signal    width   height  alignIm  alignRound  \n",
       "0              0.0     DNA  16589.0  16590.0        1         0.0  \n",
       "1              1.0    bGal  16589.0  16590.0        0         0.0  \n",
       "2              0.0     DNA  16589.0  16590.0        1         1.0  \n",
       "3              1.0  anti_1  16589.0  16590.0        0         1.0  \n",
       "4              2.0  anti_2  16589.0  16590.0        0         1.0  \n",
       "5              0.0     DNA  16589.0  16590.0        1         2.0  \n",
       "6              1.0    CDK4  16589.0  16590.0        0         2.0  "
      ]
     },
     "execution_count": 30,
     "metadata": {},
     "output_type": "execute_result"
    }
   ],
   "source": [
    "myData"
   ]
  },
  {
   "cell_type": "code",
   "execution_count": 32,
   "metadata": {},
   "outputs": [],
   "source": [
    "for ind,my_signal in myData.iterrows():\n",
    "    \n",
    "    if my_signal.alignIm == 1:\n",
    "        \n",
    "        # construct the path\n",
    "        file_path = os.path.join(my_signal.dir,my_signal.sub_dir,my_signal.file)\n",
    "        \n",
    "        # get a handle to the nd2 file\n",
    "        myIm = nd2.ND2File(os.path.join(mySubDir,myFileName))\n",
    "        \n",
    "        # choose the right frame\n",
    "        dask_im = myIm.to_dask()\n",
    "        im = dask_im[my_signal.channel_in_file,:,:]\n",
    "\n",
    "    "
   ]
  },
  {
   "cell_type": "code",
   "execution_count": 44,
   "metadata": {},
   "outputs": [
    {
     "name": "stdout",
     "output_type": "stream",
     "text": [
      "Wall time: 4 ms\n"
     ]
    },
    {
     "data": {
      "text/plain": [
       "(16590, 16589)"
      ]
     },
     "execution_count": 44,
     "metadata": {},
     "output_type": "execute_result"
    }
   ],
   "source": [
    "%%time\n",
    "dask_im = myIm.to_dask()\n",
    "im =dask_im[my_signal.channel_in_file,:,:]\n",
    "im.shape"
   ]
  },
  {
   "cell_type": "code",
   "execution_count": 42,
   "metadata": {},
   "outputs": [
    {
     "data": {
      "text/plain": [
       "(2, 16590, 16589)"
      ]
     },
     "execution_count": 42,
     "metadata": {},
     "output_type": "execute_result"
    }
   ],
   "source": [
    "t.shape"
   ]
  },
  {
   "cell_type": "code",
   "execution_count": 43,
   "metadata": {},
   "outputs": [
    {
     "name": "stdout",
     "output_type": "stream",
     "text": [
      "Wall time: 401 ms\n"
     ]
    },
    {
     "data": {
      "text/plain": [
       "(16590, 16589)"
      ]
     },
     "execution_count": 43,
     "metadata": {},
     "output_type": "execute_result"
    }
   ],
   "source": [
    "%%time\n",
    "t=myIm.asarray()\n",
    "im=t[int(my_signal.channel_in_file),:,:]\n",
    "im.shape"
   ]
  },
  {
   "cell_type": "code",
   "execution_count": 36,
   "metadata": {},
   "outputs": [
    {
     "data": {
      "text/plain": [
       "(2, 16590, 16589)"
      ]
     },
     "execution_count": 36,
     "metadata": {},
     "output_type": "execute_result"
    }
   ],
   "source": [
    "im.shape"
   ]
  },
  {
   "cell_type": "code",
   "execution_count": 7,
   "metadata": {},
   "outputs": [
    {
     "name": "stderr",
     "output_type": "stream",
     "text": [
      "C:\\ProgramData\\Anaconda3\\envs\\cellpose\\lib\\site-packages\\nd2reader\\raw_metadata.py:187: UserWarning: Z-levels details missing in metadata. Using Z-coordinates instead.\n",
      "  warnings.warn(\"Z-levels details missing in metadata. Using Z-coordinates instead.\")\n"
     ]
    },
    {
     "name": "stdout",
     "output_type": "stream",
     "text": [
      "Wall time: 1min 1s\n"
     ]
    }
   ],
   "source": [
    "%%time\n",
    "# load images\n",
    "# it goes through the same loops so it is in the same order as the main dataframe\n",
    "\n",
    "imList=[]\n",
    "\n",
    "for i,myRoundInfo in myDataRounds.iterrows():\n",
    "    \n",
    "    mySubDirName = [x for x in myFiles if (f'Round_{myRoundInfo.myRound}_' in x)]\n",
    "    \n",
    "    mySubDir = os.path.join(pathData,mySubDirName[0])\n",
    "    \n",
    "    myFileName = [x for x in os.listdir(mySubDir) if f'Well{myWell}_Channel' in x][0]\n",
    "    \n",
    "    # get a handle to the nd2 file\n",
    "    myIm = nd2reader.ND2File(os.path.join(mySubDir,myFileName))\n",
    "    \n",
    "    # through the channels in the file\n",
    "    for j,myChannel in enumerate(myIm.metadata['channels']):\n",
    "        \n",
    "        mySignal = myRoundInfo[myChannel]\n",
    "        \n",
    "        if mySignal == mySignal: # if this channel was admitted\n",
    "            \n",
    "            temp = myIm.get_frame_2D(c=j)\n",
    "            '''\n",
    "            try:\n",
    "                temp = myIm.get_frame_2D(c=j)\n",
    "            except:\n",
    "                tiff_file = [x for x in os.listdir(mySubDir) if ((myWell in x) and ('tif' in x))][0]\n",
    "                temp = imread(os.path.join(mySubDir,tiff_file),key=j)\n",
    "            '''\n",
    "            \n",
    "            imList.append(temp)"
   ]
  },
  {
   "cell_type": "code",
   "execution_count": 14,
   "metadata": {},
   "outputs": [],
   "source": [
    "# create a structure to segment\n",
    "im2align = np.array([imList[x] for x in frames2align]).astype('uint16')"
   ]
  },
  {
   "cell_type": "code",
   "execution_count": 15,
   "metadata": {},
   "outputs": [
    {
     "data": {
      "text/plain": [
       "(3, 16590, 16589)"
      ]
     },
     "execution_count": 15,
     "metadata": {},
     "output_type": "execute_result"
    }
   ],
   "source": [
    "im2align.shape"
   ]
  },
  {
   "cell_type": "code",
   "execution_count": 16,
   "metadata": {},
   "outputs": [],
   "source": [
    "# save the structure to segment\n",
    "imsave(os.path.join(pathData,f'210622_well_{myWell}_im2align.tif'),im2align)"
   ]
  },
  {
   "cell_type": "markdown",
   "metadata": {},
   "source": [
    "## Go and segment wherever you wish :)"
   ]
  },
  {
   "cell_type": "markdown",
   "metadata": {},
   "source": [
    "## Option 2 - read in segmented masks"
   ]
  },
  {
   "cell_type": "markdown",
   "metadata": {},
   "source": [
    "Run segmentation somewhere else."
   ]
  },
  {
   "cell_type": "code",
   "execution_count": 17,
   "metadata": {},
   "outputs": [
    {
     "name": "stdout",
     "output_type": "stream",
     "text": [
      "210622_well_A3_0000_label.tif\n",
      "210622_well_A3_0001_label.tif\n",
      "210622_well_A3_0002_label.tif\n"
     ]
    }
   ],
   "source": [
    "# read in segmentation results\n",
    "\n",
    "myLabels = []\n",
    "\n",
    "for my_file in [x for x in os.listdir(os.path.join(pathData,'segmented')) if myWell in x]:\n",
    "    \n",
    "    print(my_file)\n",
    "    \n",
    "    temp = imread(os.path.join(pathData,'segmented',my_file))\n",
    "    \n",
    "    myLabels.append(temp)\n",
    "    \n",
    "myLabels = np.array(myLabels)"
   ]
  },
  {
   "cell_type": "code",
   "execution_count": 18,
   "metadata": {},
   "outputs": [
    {
     "data": {
      "text/plain": [
       "(3, 16590, 16589)"
      ]
     },
     "execution_count": 18,
     "metadata": {},
     "output_type": "execute_result"
    }
   ],
   "source": [
    "myLabels.shape"
   ]
  },
  {
   "cell_type": "markdown",
   "metadata": {},
   "source": [
    "## Registration"
   ]
  },
  {
   "cell_type": "code",
   "execution_count": 19,
   "metadata": {},
   "outputs": [],
   "source": [
    "downscale_factor = 4\n",
    "\n",
    "labels_small = myLabels>0\n",
    "labels_small = downscale_local_mean(labels_small,(1,downscale_factor,downscale_factor))"
   ]
  },
  {
   "cell_type": "code",
   "execution_count": 20,
   "metadata": {},
   "outputs": [
    {
     "data": {
      "text/plain": [
       "(3, 4148, 4148)"
      ]
     },
     "execution_count": 20,
     "metadata": {},
     "output_type": "execute_result"
    }
   ],
   "source": [
    "labels_small.shape"
   ]
  },
  {
   "cell_type": "code",
   "execution_count": 21,
   "metadata": {},
   "outputs": [
    {
     "name": "stderr",
     "output_type": "stream",
     "text": [
      "100%|████████████████████████████████████████████████████████████████████████████████████| 2/2 [00:48<00:00, 24.29s/it]"
     ]
    },
    {
     "name": "stdout",
     "output_type": "stream",
     "text": [
      "Wall time: 50.1 s\n"
     ]
    },
    {
     "name": "stderr",
     "output_type": "stream",
     "text": [
      "\n"
     ]
    }
   ],
   "source": [
    "%%time\n",
    "\n",
    "name = 'RIGID_BODY'\n",
    "tf = StackReg.RIGID_BODY\n",
    "reference = 'first'\n",
    "\n",
    "sr = StackReg(tf)\n",
    "\n",
    "tmat_small = sr.register_stack(labels_small, axis=0, reference=reference, verbose=True)"
   ]
  },
  {
   "cell_type": "code",
   "execution_count": 22,
   "metadata": {},
   "outputs": [
    {
     "name": "stdout",
     "output_type": "stream",
     "text": [
      "Wall time: 2.93 s\n"
     ]
    }
   ],
   "source": [
    "%%time\n",
    "\n",
    "# apply transformations to check if they were all successful\n",
    "\n",
    "res = []\n",
    "\n",
    "for index,tranform_matrix in enumerate(tmat_small):\n",
    "    \n",
    "    eu_transform_small = transform.EuclideanTransform(tranform_matrix)\n",
    "    \n",
    "    # if you want to check only transformation without rotation\n",
    "    #eu_transform_small = transform.EuclideanTransform(translation = eu_transform_small.translation, rotation = 0)\n",
    "    \n",
    "    temp = transform.warp(labels_small[index,:,:],eu_transform_small,output_shape=labels_small[index].shape)\n",
    "    \n",
    "    res.append(temp)\n",
    "    \n",
    "res = np.array(res)"
   ]
  },
  {
   "cell_type": "code",
   "execution_count": 34,
   "metadata": {},
   "outputs": [],
   "source": [
    "viewer = napari.Viewer()"
   ]
  },
  {
   "cell_type": "code",
   "execution_count": 28,
   "metadata": {},
   "outputs": [
    {
     "data": {
      "text/plain": [
       "<Image layer 'res' at 0x25873022708>"
      ]
     },
     "execution_count": 28,
     "metadata": {},
     "output_type": "execute_result"
    }
   ],
   "source": [
    "viewer = napari.Viewer()\n",
    "viewer.add_image(res[0],blending ='additive')\n",
    "viewer.add_image(res,blending ='additive',colormap='green')"
   ]
  },
  {
   "cell_type": "code",
   "execution_count": 14,
   "metadata": {},
   "outputs": [],
   "source": [
    "#viewer.add_image(labels_small,blending ='additive',colormap='red')"
   ]
  },
  {
   "cell_type": "code",
   "execution_count": 30,
   "metadata": {},
   "outputs": [],
   "source": [
    "# transform results of stackreg to work as Euclidean transform on original size images\n",
    "\n",
    "tmat =[]\n",
    "\n",
    "for tranform_matrix in tmat_small:\n",
    "    \n",
    "    eu_transform_small = transform.EuclideanTransform(tranform_matrix)\n",
    "    \n",
    "    eu_transform = transform.EuclideanTransform(translation = eu_transform_small.translation * downscale_factor,\n",
    "                                                rotation = eu_transform_small.rotation)\n",
    "    \n",
    "    tmat.append(eu_transform)"
   ]
  },
  {
   "cell_type": "code",
   "execution_count": 31,
   "metadata": {},
   "outputs": [],
   "source": [
    "saveDir = os.path.join(pathData,'transforms')"
   ]
  },
  {
   "cell_type": "code",
   "execution_count": 32,
   "metadata": {},
   "outputs": [
    {
     "name": "stdout",
     "output_type": "stream",
     "text": [
      "Directory exists\n"
     ]
    }
   ],
   "source": [
    "try:\n",
    "    os.mkdir(saveDir)\n",
    "    print('Save dir created')\n",
    "except(FileExistsError):\n",
    "    print('Directory exists')"
   ]
  },
  {
   "cell_type": "code",
   "execution_count": 33,
   "metadata": {},
   "outputs": [],
   "source": [
    "# save transformations\n",
    "\n",
    "save_file_path = os.path.join(saveDir,f'tranformations_{myWell}.pkl') \n",
    "\n",
    "pickle.dump(tmat, open(save_file_path, \"wb\"))"
   ]
  },
  {
   "cell_type": "code",
   "execution_count": null,
   "metadata": {},
   "outputs": [],
   "source": []
  }
 ],
 "metadata": {
  "kernelspec": {
   "display_name": "Python 3 (ipykernel)",
   "language": "python",
   "name": "python3"
  },
  "language_info": {
   "codemirror_mode": {
    "name": "ipython",
    "version": 3
   },
   "file_extension": ".py",
   "mimetype": "text/x-python",
   "name": "python",
   "nbconvert_exporter": "python",
   "pygments_lexer": "ipython3",
   "version": "3.7.10"
  }
 },
 "nbformat": 4,
 "nbformat_minor": 4
}
