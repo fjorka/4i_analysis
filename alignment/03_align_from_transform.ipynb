{
 "cells": [
  {
   "cell_type": "markdown",
   "metadata": {},
   "source": [
    "## About this notebook:"
   ]
  },
  {
   "cell_type": "markdown",
   "metadata": {},
   "source": [
    "This notebook uses saved transformations to align all channels in a selected well (works for a single well because manual checking of alignment for each well is a good idea).\n",
    "\n",
    "Input:\n",
    "- a set of transforms (one transform/round)\n",
    "- data frames with channel data for each channel\n",
    "- nd2 images\n",
    "\n",
    "Output:\n",
    "- aligned tiffs "
   ]
  },
  {
   "cell_type": "markdown",
   "metadata": {},
   "source": [
    "## Fill in info about the experiment to process"
   ]
  },
  {
   "cell_type": "code",
   "execution_count": 2,
   "metadata": {},
   "outputs": [],
   "source": [
    "# pathway to a directory with data frames (ex. df)\n",
    "path_df = r''\n",
    "\n",
    "# pathway to save aligned tiffs (ex. aligned_tiffs)\n",
    "path_save = r''\n",
    "\n",
    "# list of wells to be processed (usually names as 'A3')\n",
    "selected_well = ''\n",
    "\n",
    "# if you want to use this notebook for visualization of results\n",
    "collect_for_test = True"
   ]
  },
  {
   "cell_type": "markdown",
   "metadata": {},
   "source": [
    "## Prepare for processing"
   ]
  },
  {
   "cell_type": "code",
   "execution_count": 12,
   "metadata": {},
   "outputs": [],
   "source": [
    "import os\n",
    "import pickle\n",
    "import pandas as pd\n",
    "import numpy as np\n",
    "import nd2\n",
    "\n",
    "from tifffile import imsave\n",
    "from skimage import transform\n",
    "\n",
    "import ipywidgets as widgets\n",
    "from IPython.display import display"
   ]
  },
  {
   "cell_type": "code",
   "execution_count": null,
   "metadata": {},
   "outputs": [],
   "source": [
    "# create directory for saving data frames if needed\n",
    "try:\n",
    "    os.mkdir(path_save)\n",
    "    print('Directory for saving aligned tiffs created.')\n",
    "except:\n",
    "    print('Directory not created.')\n",
    "    \n",
    "try:\n",
    "    os.mkdir(os.path.join(path_save,selected_well))\n",
    "    print('Sub-directory for saving aligned tiffs created.')\n",
    "except:\n",
    "    print('Directory not created.')"
   ]
  },
  {
   "cell_type": "code",
   "execution_count": null,
   "metadata": {},
   "outputs": [],
   "source": [
    "df_name = f'df_{selected_well}.pkl'\n",
    "tmat_name = f'tmat_{selected_well}.pkl'"
   ]
  },
  {
   "cell_type": "code",
   "execution_count": 3,
   "metadata": {},
   "outputs": [],
   "source": [
    "# read in the data\n",
    "myData = pd.read_pickle(os.path.join(dir_path,df_name))\n",
    "\n",
    "tmat_list = pickle.load(open(os.path.join(dir_path,tmat_name), \"rb\"))"
   ]
  },
  {
   "cell_type": "markdown",
   "metadata": {},
   "source": [
    "# Align and save images"
   ]
  },
  {
   "cell_type": "code",
   "execution_count": 10,
   "metadata": {},
   "outputs": [
    {
     "data": {
      "application/vnd.jupyter.widget-view+json": {
       "model_id": "a0b11acf937a42d4b2a108a1800aa85e",
       "version_major": 2,
       "version_minor": 0
      },
      "text/plain": [
       "FloatProgress(value=0.0, max=6.0)"
      ]
     },
     "metadata": {},
     "output_type": "display_data"
    }
   ],
   "source": [
    "myProgress = widgets.FloatProgress()\n",
    "myProgress.min = 0\n",
    "myProgress.max = len(myData)\n",
    "myProgress.value = 0\n",
    "display(myProgress)\n",
    "\n",
    "test_im = []\n",
    "for ind,my_signal in myData.iterrows():\n",
    "    \n",
    "    # set progress bar\n",
    "    myProgress.value = ind\n",
    "    \n",
    "    # get a path to the image file\n",
    "    file_path = os.path.join(my_signal.dir,my_signal.sub_dir,my_signal.file)\n",
    "\n",
    "    # get a handle to the nd2 file\n",
    "    myIm = nd2.ND2File(file_path)\n",
    "\n",
    "    # choose the right frame\n",
    "    dask_im = myIm.to_dask()\n",
    "    im = dask_im[my_signal.channel_in_file,:,:]\n",
    "    \n",
    "    # get the transform\n",
    "    tf = tmat_list[int(my_signal.alignRound)]\n",
    "    \n",
    "    # apply transform\n",
    "    im_alig = transform.warp(im,tf,output_shape=im.shape)\n",
    "    im_alig[im_alig<0] = 0\n",
    "    \n",
    "    if collect_for_test == True:\n",
    "        test_im.append(im_alig)\n",
    "    \n",
    "    # save image\n",
    "    imsave(os.path.join(save_dir,selected_well,f'Round_{str(int(my_signal.nameRound)).zfill(2)}_well{my_signal.well}_{my_signal.signal}.tif'),im_alig.astype('uint16'))\n",
    "    \n",
    "myProgress.value = len(myData)"
   ]
  },
  {
   "cell_type": "markdown",
   "metadata": {},
   "source": [
    "## Optional - view alignment"
   ]
  },
  {
   "cell_type": "code",
   "execution_count": null,
   "metadata": {},
   "outputs": [],
   "source": [
    "import napari"
   ]
  },
  {
   "cell_type": "code",
   "execution_count": null,
   "metadata": {},
   "outputs": [
    {
     "name": "stderr",
     "output_type": "stream",
     "text": [
      "C:\\ProgramData\\Anaconda3\\envs\\cellpose\\lib\\site-packages\\napari\\_vispy\\vispy_image_layer.py:186: UserWarning: data shape (16590, 16589) exceeds GL_MAX_TEXTURE_SIZE 16384 in at least one axis and will be downsampled. Rendering is currently in 2D mode.\n",
      "  ndisplay=self.layer._ndisplay,\n"
     ]
    }
   ],
   "source": [
    "# test alignment\n",
    "\n",
    "viewer = napari.Viewer()\n",
    "viewer.add_image(np.array(test_im),blending = 'additive')"
   ]
  },
  {
   "cell_type": "code",
   "execution_count": null,
   "metadata": {},
   "outputs": [],
   "source": []
  }
 ],
 "metadata": {
  "kernelspec": {
   "display_name": "Python 3 (ipykernel)",
   "language": "python",
   "name": "python3"
  },
  "language_info": {
   "codemirror_mode": {
    "name": "ipython",
    "version": 3
   },
   "file_extension": ".py",
   "mimetype": "text/x-python",
   "name": "python",
   "nbconvert_exporter": "python",
   "pygments_lexer": "ipython3",
   "version": "3.7.10"
  }
 },
 "nbformat": 4,
 "nbformat_minor": 4
}
