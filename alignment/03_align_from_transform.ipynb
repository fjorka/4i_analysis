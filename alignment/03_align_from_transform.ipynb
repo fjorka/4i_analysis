{
 "cells": [
  {
   "cell_type": "code",
   "execution_count": 12,
   "metadata": {},
   "outputs": [],
   "source": [
    "import os\n",
    "import pickle\n",
    "import pandas as pd\n",
    "import numpy as np\n",
    "import nd2\n",
    "\n",
    "from tifffile import imsave\n",
    "from skimage import transform\n",
    "import napari\n",
    "\n",
    "import ipywidgets as widgets\n",
    "from IPython.display import display"
   ]
  },
  {
   "cell_type": "code",
   "execution_count": 2,
   "metadata": {},
   "outputs": [],
   "source": [
    "dir_path = r'Z:\\Wayne\\20210716_sen_sig_IF'\n",
    "df_name = 'df_A3.pkl'\n",
    "tmat_name = 'tmat_A3.pkl'\n",
    "\n",
    "save_dir = r'D:\\toDel\\alig'"
   ]
  },
  {
   "cell_type": "code",
   "execution_count": 3,
   "metadata": {},
   "outputs": [],
   "source": [
    "# read in the data\n",
    "myData = pd.read_pickle(os.path.join(dir_path,df_name))"
   ]
  },
  {
   "cell_type": "code",
   "execution_count": 4,
   "metadata": {},
   "outputs": [
    {
     "data": {
      "text/html": [
       "<div>\n",
       "<style scoped>\n",
       "    .dataframe tbody tr th:only-of-type {\n",
       "        vertical-align: middle;\n",
       "    }\n",
       "\n",
       "    .dataframe tbody tr th {\n",
       "        vertical-align: top;\n",
       "    }\n",
       "\n",
       "    .dataframe thead th {\n",
       "        text-align: right;\n",
       "    }\n",
       "</style>\n",
       "<table border=\"1\" class=\"dataframe\">\n",
       "  <thead>\n",
       "    <tr style=\"text-align: right;\">\n",
       "      <th></th>\n",
       "      <th>dir</th>\n",
       "      <th>sub_dir</th>\n",
       "      <th>file</th>\n",
       "      <th>channel_in_file</th>\n",
       "      <th>nameRound</th>\n",
       "      <th>well</th>\n",
       "      <th>signal</th>\n",
       "      <th>width</th>\n",
       "      <th>height</th>\n",
       "      <th>alignRound</th>\n",
       "      <th>width_min</th>\n",
       "      <th>height_min</th>\n",
       "      <th>alignIm</th>\n",
       "    </tr>\n",
       "  </thead>\n",
       "  <tbody>\n",
       "    <tr>\n",
       "      <th>0</th>\n",
       "      <td>Z:\\Wayne\\20210716_sen_sig_IF</td>\n",
       "      <td>20210716_Round_1_DNA_bGal</td>\n",
       "      <td>WellA3_ChannelHoechst,AF488_Seq1202.nd2</td>\n",
       "      <td>0.0</td>\n",
       "      <td>1.0</td>\n",
       "      <td>A3</td>\n",
       "      <td>DNA</td>\n",
       "      <td>16589.0</td>\n",
       "      <td>16590.0</td>\n",
       "      <td>0.0</td>\n",
       "      <td>16589.0</td>\n",
       "      <td>16590.0</td>\n",
       "      <td>1</td>\n",
       "    </tr>\n",
       "    <tr>\n",
       "      <th>1</th>\n",
       "      <td>Z:\\Wayne\\20210716_sen_sig_IF</td>\n",
       "      <td>20210716_Round_1_DNA_bGal</td>\n",
       "      <td>WellA3_ChannelHoechst,AF488_Seq1202.nd2</td>\n",
       "      <td>1.0</td>\n",
       "      <td>1.0</td>\n",
       "      <td>A3</td>\n",
       "      <td>bGal</td>\n",
       "      <td>16589.0</td>\n",
       "      <td>16590.0</td>\n",
       "      <td>0.0</td>\n",
       "      <td>16589.0</td>\n",
       "      <td>16590.0</td>\n",
       "      <td>0</td>\n",
       "    </tr>\n",
       "    <tr>\n",
       "      <th>2</th>\n",
       "      <td>Z:\\Wayne\\20210716_sen_sig_IF</td>\n",
       "      <td>20210719_Round_2_DNA_AF555_AF647</td>\n",
       "      <td>WellA3_ChannelHoechst,AF555,AF647_Seq0801.nd2</td>\n",
       "      <td>0.0</td>\n",
       "      <td>2.0</td>\n",
       "      <td>A3</td>\n",
       "      <td>DNA</td>\n",
       "      <td>16589.0</td>\n",
       "      <td>16590.0</td>\n",
       "      <td>1.0</td>\n",
       "      <td>16589.0</td>\n",
       "      <td>16590.0</td>\n",
       "      <td>1</td>\n",
       "    </tr>\n",
       "    <tr>\n",
       "      <th>3</th>\n",
       "      <td>Z:\\Wayne\\20210716_sen_sig_IF</td>\n",
       "      <td>20210719_Round_2_DNA_AF555_AF647</td>\n",
       "      <td>WellA3_ChannelHoechst,AF555,AF647_Seq0801.nd2</td>\n",
       "      <td>1.0</td>\n",
       "      <td>2.0</td>\n",
       "      <td>A3</td>\n",
       "      <td>anti_1</td>\n",
       "      <td>16589.0</td>\n",
       "      <td>16590.0</td>\n",
       "      <td>1.0</td>\n",
       "      <td>16589.0</td>\n",
       "      <td>16590.0</td>\n",
       "      <td>0</td>\n",
       "    </tr>\n",
       "    <tr>\n",
       "      <th>4</th>\n",
       "      <td>Z:\\Wayne\\20210716_sen_sig_IF</td>\n",
       "      <td>20210719_Round_2_DNA_AF555_AF647</td>\n",
       "      <td>WellA3_ChannelHoechst,AF555,AF647_Seq0801.nd2</td>\n",
       "      <td>2.0</td>\n",
       "      <td>2.0</td>\n",
       "      <td>A3</td>\n",
       "      <td>anti_2</td>\n",
       "      <td>16589.0</td>\n",
       "      <td>16590.0</td>\n",
       "      <td>1.0</td>\n",
       "      <td>16589.0</td>\n",
       "      <td>16590.0</td>\n",
       "      <td>0</td>\n",
       "    </tr>\n",
       "    <tr>\n",
       "      <th>5</th>\n",
       "      <td>Z:\\Wayne\\20210716_sen_sig_IF</td>\n",
       "      <td>20210725_Round_3_DNA_CDK4</td>\n",
       "      <td>WellA3_ChannelHoechst,AF647_Seq0400.nd2</td>\n",
       "      <td>0.0</td>\n",
       "      <td>3.0</td>\n",
       "      <td>A3</td>\n",
       "      <td>DNA</td>\n",
       "      <td>16589.0</td>\n",
       "      <td>16590.0</td>\n",
       "      <td>2.0</td>\n",
       "      <td>16589.0</td>\n",
       "      <td>16590.0</td>\n",
       "      <td>1</td>\n",
       "    </tr>\n",
       "    <tr>\n",
       "      <th>6</th>\n",
       "      <td>Z:\\Wayne\\20210716_sen_sig_IF</td>\n",
       "      <td>20210725_Round_3_DNA_CDK4</td>\n",
       "      <td>WellA3_ChannelHoechst,AF647_Seq0400.nd2</td>\n",
       "      <td>1.0</td>\n",
       "      <td>3.0</td>\n",
       "      <td>A3</td>\n",
       "      <td>CDK4</td>\n",
       "      <td>16589.0</td>\n",
       "      <td>16590.0</td>\n",
       "      <td>2.0</td>\n",
       "      <td>16589.0</td>\n",
       "      <td>16590.0</td>\n",
       "      <td>0</td>\n",
       "    </tr>\n",
       "  </tbody>\n",
       "</table>\n",
       "</div>"
      ],
      "text/plain": [
       "                            dir                           sub_dir  \\\n",
       "0  Z:\\Wayne\\20210716_sen_sig_IF         20210716_Round_1_DNA_bGal   \n",
       "1  Z:\\Wayne\\20210716_sen_sig_IF         20210716_Round_1_DNA_bGal   \n",
       "2  Z:\\Wayne\\20210716_sen_sig_IF  20210719_Round_2_DNA_AF555_AF647   \n",
       "3  Z:\\Wayne\\20210716_sen_sig_IF  20210719_Round_2_DNA_AF555_AF647   \n",
       "4  Z:\\Wayne\\20210716_sen_sig_IF  20210719_Round_2_DNA_AF555_AF647   \n",
       "5  Z:\\Wayne\\20210716_sen_sig_IF         20210725_Round_3_DNA_CDK4   \n",
       "6  Z:\\Wayne\\20210716_sen_sig_IF         20210725_Round_3_DNA_CDK4   \n",
       "\n",
       "                                            file  channel_in_file  nameRound  \\\n",
       "0        WellA3_ChannelHoechst,AF488_Seq1202.nd2              0.0        1.0   \n",
       "1        WellA3_ChannelHoechst,AF488_Seq1202.nd2              1.0        1.0   \n",
       "2  WellA3_ChannelHoechst,AF555,AF647_Seq0801.nd2              0.0        2.0   \n",
       "3  WellA3_ChannelHoechst,AF555,AF647_Seq0801.nd2              1.0        2.0   \n",
       "4  WellA3_ChannelHoechst,AF555,AF647_Seq0801.nd2              2.0        2.0   \n",
       "5        WellA3_ChannelHoechst,AF647_Seq0400.nd2              0.0        3.0   \n",
       "6        WellA3_ChannelHoechst,AF647_Seq0400.nd2              1.0        3.0   \n",
       "\n",
       "  well  signal    width   height  alignRound  width_min  height_min  alignIm  \n",
       "0   A3     DNA  16589.0  16590.0         0.0    16589.0     16590.0        1  \n",
       "1   A3    bGal  16589.0  16590.0         0.0    16589.0     16590.0        0  \n",
       "2   A3     DNA  16589.0  16590.0         1.0    16589.0     16590.0        1  \n",
       "3   A3  anti_1  16589.0  16590.0         1.0    16589.0     16590.0        0  \n",
       "4   A3  anti_2  16589.0  16590.0         1.0    16589.0     16590.0        0  \n",
       "5   A3     DNA  16589.0  16590.0         2.0    16589.0     16590.0        1  \n",
       "6   A3    CDK4  16589.0  16590.0         2.0    16589.0     16590.0        0  "
      ]
     },
     "execution_count": 4,
     "metadata": {},
     "output_type": "execute_result"
    }
   ],
   "source": [
    "myData"
   ]
  },
  {
   "cell_type": "code",
   "execution_count": 5,
   "metadata": {},
   "outputs": [],
   "source": [
    "tmat_list = pickle.load(open(os.path.join(dir_path,tmat_name), \"rb\"))"
   ]
  },
  {
   "cell_type": "code",
   "execution_count": 6,
   "metadata": {},
   "outputs": [
    {
     "data": {
      "text/plain": [
       "3"
      ]
     },
     "execution_count": 6,
     "metadata": {},
     "output_type": "execute_result"
    }
   ],
   "source": [
    "len(tmat_list)"
   ]
  },
  {
   "cell_type": "markdown",
   "metadata": {},
   "source": [
    "# Align and save images"
   ]
  },
  {
   "cell_type": "code",
   "execution_count": 10,
   "metadata": {},
   "outputs": [
    {
     "data": {
      "application/vnd.jupyter.widget-view+json": {
       "model_id": "a0b11acf937a42d4b2a108a1800aa85e",
       "version_major": 2,
       "version_minor": 0
      },
      "text/plain": [
       "FloatProgress(value=0.0, max=6.0)"
      ]
     },
     "metadata": {},
     "output_type": "display_data"
    }
   ],
   "source": [
    "myProgress = widgets.FloatProgress()\n",
    "myProgress.min = 0\n",
    "myProgress.max = len(myData)\n",
    "myProgress.value = 0\n",
    "display(myProgress)\n",
    "\n",
    "test_im = []\n",
    "for ind,my_signal in myData.iterrows():\n",
    "    \n",
    "    # set progress bar\n",
    "    myProgress.value = ind\n",
    "    \n",
    "    # get a path to the image file\n",
    "    file_path = os.path.join(my_signal.dir,my_signal.sub_dir,my_signal.file)\n",
    "\n",
    "    # get a handle to the nd2 file\n",
    "    myIm = nd2.ND2File(file_path)\n",
    "\n",
    "    # choose the right frame\n",
    "    dask_im = myIm.to_dask()\n",
    "    im = dask_im[my_signal.channel_in_file,:,:]\n",
    "    \n",
    "    # get the transform\n",
    "    tf = tmat_list[int(my_signal.alignRound)]\n",
    "    \n",
    "    # apply transform\n",
    "    im_alig = transform.warp(im,tf,output_shape=im.shape)\n",
    "    im_alig[im_alig<0] = 0\n",
    "    \n",
    "    test_im.append(im_alig)\n",
    "    \n",
    "    # save image\n",
    "    imsave(os.path.join(save_dir,f'Round_{str(int(my_signal.nameRound)).zfill(2)}_well{my_signal.well}_{my_signal.signal}.tif'),im_alig.astype('uint16'))\n",
    "    \n",
    "myProgress.value = len(myData)"
   ]
  },
  {
   "cell_type": "code",
   "execution_count": null,
   "metadata": {},
   "outputs": [],
   "source": [
    "# test alignment\n",
    "\n",
    "viewer = napari.Viewer()\n",
    "viewer.add_image(np.array(test_im),blending = 'additive')"
   ]
  },
  {
   "cell_type": "code",
   "execution_count": null,
   "metadata": {},
   "outputs": [],
   "source": []
  }
 ],
 "metadata": {
  "kernelspec": {
   "display_name": "Python 3 (ipykernel)",
   "language": "python",
   "name": "python3"
  },
  "language_info": {
   "codemirror_mode": {
    "name": "ipython",
    "version": 3
   },
   "file_extension": ".py",
   "mimetype": "text/x-python",
   "name": "python",
   "nbconvert_exporter": "python",
   "pygments_lexer": "ipython3",
   "version": "3.7.10"
  }
 },
 "nbformat": 4,
 "nbformat_minor": 4
}
