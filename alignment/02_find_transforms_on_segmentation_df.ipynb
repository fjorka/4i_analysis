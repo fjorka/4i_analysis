{
 "cells": [
  {
   "cell_type": "markdown",
   "metadata": {},
   "source": [
    "## About this notebook:"
   ]
  },
  {
   "cell_type": "markdown",
   "metadata": {},
   "source": [
    "This notebook calculates a set of transformations based on segmented masks.\n",
    "\n",
    "Input:\n",
    "- pathway to a directory containing segmented labels\n",
    "- pathway to a directory containing data frames\n",
    "- list of wells to process\n",
    "- downscale factor (1 - no downscaling, 2 - will make images 4 times smaller)\n",
    "\n",
    "Output:\n",
    "- a set of transforms for each well saved as pkl files\n",
    "\n",
    "Downscale factor allows for calculations of transformations on smaller images (for huge images StackReg may run out of RAM - downscaling prevents solves the issue).\n",
    "\n",
    "Optionally you can visualize alignment on downscaled images (visualization uses Napari)."
   ]
  },
  {
   "cell_type": "markdown",
   "metadata": {},
   "source": [
    "## Fill in info about the experiment to process"
   ]
  },
  {
   "cell_type": "code",
   "execution_count": 3,
   "metadata": {},
   "outputs": [],
   "source": [
    "# pathway to a directory with segmented masks for alignment (ex. im_segmented)\n",
    "path_labels = r''\n",
    "\n",
    "# pathway to a directory with data frames (ex. df)\n",
    "path_df = r''\n",
    "\n",
    "# list of wells to be processed (usually names as 'A3')\n",
    "well_list = [''] \n",
    "\n",
    "# pathway to save transformations (ex. df)\n",
    "path_save = r''\n",
    "\n",
    "# specify a downscaling factor for the alignment\n",
    "downscale_factor = 1 "
   ]
  },
  {
   "cell_type": "markdown",
   "metadata": {},
   "source": [
    "## Prepare for processing"
   ]
  },
  {
   "cell_type": "code",
   "execution_count": 16,
   "metadata": {},
   "outputs": [],
   "source": [
    "import os\n",
    "import pickle\n",
    "\n",
    "import pandas as pd\n",
    "import numpy as np\n",
    "\n",
    "from skimage import transform\n",
    "from skimage.transform import downscale_local_mean\n",
    "\n",
    "from pystackreg import StackReg\n",
    "import pystackreg"
   ]
  },
  {
   "cell_type": "code",
   "execution_count": 14,
   "metadata": {},
   "outputs": [],
   "source": [
    "def read_labels(path_labels,myWell):\n",
    "    \n",
    "    labels_list = os.listdir(os.path.join(path_labels,myWell))\n",
    "    labels_list.sort()\n",
    "\n",
    "    labels_im_list = []\n",
    "    for lab_im_name in labels_list:\n",
    "\n",
    "        lab_im = plt.imread(os.path.join(labels_dir,lab_im_name))\n",
    "        labels_im_list.append(lab_im)\n",
    "\n",
    "    labels_im = np.array(labels_im_list)\n",
    "    \n",
    "    return labels_im\n",
    "\n",
    "def rescale_transforms(tmat_org,downscale_factor):\n",
    "     \n",
    "    # rescale transformation\n",
    "    if downscale_factor != 1:\n",
    "        \n",
    "        tmat = []\n",
    "\n",
    "        for tranform_matrix in tmat_org:\n",
    "\n",
    "            eu_transform_small = transform.EuclideanTransform(tranform_matrix)\n",
    "\n",
    "            eu_transform = transform.EuclideanTransform(translation = eu_transform_small.translation * downscale_factor,\n",
    "                                                        rotation = eu_transform_small.rotation)\n",
    "\n",
    "            tmat.append(eu_transform)\n",
    "            \n",
    "    else:\n",
    "        tmat = tmat_org\n",
    "            \n",
    "    return tmat\n",
    "\n",
    "def find_transformation(labels_im,downscale_factor = 1):\n",
    "\n",
    "    # resize the image\n",
    "    labels_small = labels_im>0\n",
    "    labels_small = downscale_local_mean(labels_small,(1,downscale_factor,downscale_factor))\n",
    "    \n",
    "    # find transformation\n",
    "    tf = StackReg.RIGID_BODY\n",
    "    sr = StackReg(tf)\n",
    "    \n",
    "    tmat_small = sr.register_stack(labels_small, axis=0, reference='first', verbose=True)\n",
    "    \n",
    "    tmat = rescale_transforms(tmat_small,downscale_factor)\n",
    "            \n",
    "    return tmat,tmat_small\n",
    "\n",
    "def apply_transforms_set(tmat,movie):\n",
    "    \n",
    "    res = []\n",
    "    \n",
    "    for index,tranform_matrix in enumerate(tmat):\n",
    "    \n",
    "        eu_transform = transform.EuclideanTransform(tranform_matrix)\n",
    "\n",
    "        # if you want to check only transformation without rotation\n",
    "        #eu_transform_small = transform.EuclideanTransform(translation = eu_transform_small.translation, rotation = 0)\n",
    "\n",
    "        temp = transform.warp(movie[index,:,:],eu_transform,output_shape=movie[index].shape)\n",
    "\n",
    "        res.append(temp)\n",
    "\n",
    "    res = np.array(res)\n",
    "    \n",
    "    return res"
   ]
  },
  {
   "cell_type": "markdown",
   "metadata": {},
   "source": [
    "## Process the wells"
   ]
  },
  {
   "cell_type": "code",
   "execution_count": null,
   "metadata": {},
   "outputs": [],
   "source": [
    "for myWell in well_list:\n",
    "    \n",
    "    print(f'Processing well {myWell}.')\n",
    "    \n",
    "    # read in the data\n",
    "    myData = pd.read_pickle(os.path.join(path_df,f'df_{myWell}.pkl'))\n",
    "    \n",
    "    # read in all the labels\n",
    "    labels_im = read_labels(path_labels,myWell)\n",
    "    \n",
    "    # check if you have an expected number of files to align\n",
    "    print(f'Number of label images {labels_im.shape[0]}')\n",
    "    print(f'Number of unique rounds {len(set(myData.alignRound))}')\n",
    "    \n",
    "    # find transformation\n",
    "    tmat,tmat_small = find_transformation(labels_im,downscale_factor = downscale_factor)\n",
    "    \n",
    "    # save transformations\n",
    "    save_file_path = os.path.join(path_save,df_name.replace('df','tmat')) \n",
    "    pickle.dump(tmat, open(save_file_path, \"wb\"))\n",
    " "
   ]
  },
  {
   "cell_type": "markdown",
   "metadata": {},
   "source": [
    "## Optional - test transformations"
   ]
  },
  {
   "cell_type": "code",
   "execution_count": null,
   "metadata": {},
   "outputs": [],
   "source": [
    "import napari"
   ]
  },
  {
   "cell_type": "code",
   "execution_count": 18,
   "metadata": {},
   "outputs": [
    {
     "name": "stderr",
     "output_type": "stream",
     "text": [
      "C:\\ProgramData\\Anaconda3\\envs\\cellpose\\lib\\site-packages\\napari\\_vispy\\vispy_camera.py:109: RuntimeWarning: divide by zero encountered in true_divide\n",
      "  zoom = np.min(canvas_size / scale)\n"
     ]
    },
    {
     "data": {
      "text/plain": [
       "<Image layer 'labels_small_aligned' at 0x2237f80f0c8>"
      ]
     },
     "execution_count": 18,
     "metadata": {},
     "output_type": "execute_result"
    }
   ],
   "source": [
    "# test transformations\n",
    "\n",
    "# choose on which well to perform tests \n",
    "myWell = 'A1'\n",
    "\n",
    "# read in images\n",
    "labels_im = read_labels(path_labels,myWell)\n",
    "\n",
    "# read in transformation matrix\n",
    "tmat_list = pickle.load(open(os.path.join(path_save,f'tmat_{myWell}.pkl'), \"rb\"))\n",
    "tmat_small = rescale_transforms(tmat_list,1/downscale_factor)\n",
    "\n",
    "labels_small = downscale_local_mean(labels_im,(1,downscale_factor,downscale_factor))\n",
    "labels_small_aligned = apply_transforms_set(tmat_small,labels_small)\n",
    "\n",
    "viewer = napari.Viewer()\n",
    "viewer.add_image(labels_small[0],blending ='additive',colormap='gray')\n",
    "viewer.add_image(labels_small,blending ='additive',colormap='red')\n",
    "viewer.add_image(labels_small_aligned,blending ='additive',colormap='green')"
   ]
  }
 ],
 "metadata": {
  "kernelspec": {
   "display_name": "Python 3 (ipykernel)",
   "language": "python",
   "name": "python3"
  },
  "language_info": {
   "codemirror_mode": {
    "name": "ipython",
    "version": 3
   },
   "file_extension": ".py",
   "mimetype": "text/x-python",
   "name": "python",
   "nbconvert_exporter": "python",
   "pygments_lexer": "ipython3",
   "version": "3.7.10"
  }
 },
 "nbformat": 4,
 "nbformat_minor": 4
}
