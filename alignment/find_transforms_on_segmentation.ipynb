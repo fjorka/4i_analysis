{
 "cells": [
  {
   "cell_type": "code",
   "execution_count": 2,
   "metadata": {},
   "outputs": [
    {
     "name": "stdout",
     "output_type": "stream",
     "text": [
      "creating new log file\n",
      "2021-07-25 17:31:50,269 [INFO] WRITING LOG OUTPUT TO C:\\Users\\kmkedz\\.cellpose\\run.log\n"
     ]
    }
   ],
   "source": [
    "import os\n",
    "import re\n",
    "import time\n",
    "import pickle\n",
    "\n",
    "import nd2reader\n",
    "\n",
    "import pickle\n",
    "\n",
    "import pandas as pd\n",
    "import numpy as np\n",
    "\n",
    "from scipy.spatial import distance\n",
    "from tifffile import imread,imsave\n",
    "from skimage import transform\n",
    "from skimage.transform import downscale_local_mean\n",
    "\n",
    "import matplotlib.pyplot as plt\n",
    "\n",
    "import napari\n",
    "\n",
    "from pystackreg import StackReg\n",
    "import pystackreg\n",
    "\n",
    "import mxnet\n",
    "from cellpose import models\n",
    "\n",
    "import ipywidgets as widgets\n",
    "from IPython.display import display"
   ]
  },
  {
   "cell_type": "code",
   "execution_count": 4,
   "metadata": {},
   "outputs": [],
   "source": [
    "pathData=r'Z:\\Wayne\\20210716_sen_sig_IF'\n",
    "\n",
    "myWell = 'A3'"
   ]
  },
  {
   "cell_type": "markdown",
   "metadata": {},
   "source": [
    "## Read in segmented masks"
   ]
  },
  {
   "cell_type": "code",
   "execution_count": 17,
   "metadata": {},
   "outputs": [
    {
     "name": "stdout",
     "output_type": "stream",
     "text": [
      "210622_well_A3_0000_label.tif\n",
      "210622_well_A3_0001_label.tif\n",
      "210622_well_A3_0002_label.tif\n"
     ]
    }
   ],
   "source": [
    "# read in segmentation results\n",
    "\n",
    "myLabels = []\n",
    "\n",
    "for my_file in [x for x in os.listdir(os.path.join(pathData,'segmented')) if myWell in x]:\n",
    "    \n",
    "    print(my_file)\n",
    "    \n",
    "    temp = imread(os.path.join(pathData,'segmented',my_file))\n",
    "    \n",
    "    myLabels.append(temp)\n",
    "    \n",
    "myLabels = np.array(myLabels)"
   ]
  },
  {
   "cell_type": "code",
   "execution_count": 18,
   "metadata": {},
   "outputs": [
    {
     "data": {
      "text/plain": [
       "(3, 16590, 16589)"
      ]
     },
     "execution_count": 18,
     "metadata": {},
     "output_type": "execute_result"
    }
   ],
   "source": [
    "myLabels.shape"
   ]
  },
  {
   "cell_type": "markdown",
   "metadata": {},
   "source": [
    "## Registration"
   ]
  },
  {
   "cell_type": "code",
   "execution_count": 19,
   "metadata": {},
   "outputs": [],
   "source": [
    "downscale_factor = 4\n",
    "\n",
    "labels_small = myLabels>0\n",
    "labels_small = downscale_local_mean(labels_small,(1,downscale_factor,downscale_factor))"
   ]
  },
  {
   "cell_type": "code",
   "execution_count": 20,
   "metadata": {},
   "outputs": [
    {
     "data": {
      "text/plain": [
       "(3, 4148, 4148)"
      ]
     },
     "execution_count": 20,
     "metadata": {},
     "output_type": "execute_result"
    }
   ],
   "source": [
    "labels_small.shape"
   ]
  },
  {
   "cell_type": "code",
   "execution_count": 21,
   "metadata": {},
   "outputs": [
    {
     "name": "stderr",
     "output_type": "stream",
     "text": [
      "100%|████████████████████████████████████████████████████████████████████████████████████| 2/2 [00:48<00:00, 24.29s/it]"
     ]
    },
    {
     "name": "stdout",
     "output_type": "stream",
     "text": [
      "Wall time: 50.1 s\n"
     ]
    },
    {
     "name": "stderr",
     "output_type": "stream",
     "text": [
      "\n"
     ]
    }
   ],
   "source": [
    "%%time\n",
    "\n",
    "name = 'RIGID_BODY'\n",
    "tf = StackReg.RIGID_BODY\n",
    "reference = 'first'\n",
    "\n",
    "sr = StackReg(tf)\n",
    "\n",
    "tmat_small = sr.register_stack(labels_small, axis=0, reference=reference, verbose=True)"
   ]
  },
  {
   "cell_type": "code",
   "execution_count": 22,
   "metadata": {},
   "outputs": [
    {
     "name": "stdout",
     "output_type": "stream",
     "text": [
      "Wall time: 2.93 s\n"
     ]
    }
   ],
   "source": [
    "%%time\n",
    "\n",
    "# apply transformations to check if they were all successful\n",
    "\n",
    "res = []\n",
    "\n",
    "for index,tranform_matrix in enumerate(tmat_small):\n",
    "    \n",
    "    eu_transform_small = transform.EuclideanTransform(tranform_matrix)\n",
    "    \n",
    "    # if you want to check only transformation without rotation\n",
    "    #eu_transform_small = transform.EuclideanTransform(translation = eu_transform_small.translation, rotation = 0)\n",
    "    \n",
    "    temp = transform.warp(labels_small[index,:,:],eu_transform_small,output_shape=labels_small[index].shape)\n",
    "    \n",
    "    res.append(temp)\n",
    "    \n",
    "res = np.array(res)"
   ]
  },
  {
   "cell_type": "code",
   "execution_count": 34,
   "metadata": {},
   "outputs": [],
   "source": [
    "viewer = napari.Viewer()"
   ]
  },
  {
   "cell_type": "code",
   "execution_count": 28,
   "metadata": {},
   "outputs": [
    {
     "data": {
      "text/plain": [
       "<Image layer 'res' at 0x25873022708>"
      ]
     },
     "execution_count": 28,
     "metadata": {},
     "output_type": "execute_result"
    }
   ],
   "source": [
    "viewer = napari.Viewer()\n",
    "viewer.add_image(res[0],blending ='additive')\n",
    "viewer.add_image(res,blending ='additive',colormap='green')"
   ]
  },
  {
   "cell_type": "code",
   "execution_count": 14,
   "metadata": {},
   "outputs": [],
   "source": [
    "#viewer.add_image(labels_small,blending ='additive',colormap='red')"
   ]
  },
  {
   "cell_type": "code",
   "execution_count": 30,
   "metadata": {},
   "outputs": [],
   "source": [
    "# transform results of stackreg to work as Euclidean transform on original size images\n",
    "\n",
    "tmat =[]\n",
    "\n",
    "for tranform_matrix in tmat_small:\n",
    "    \n",
    "    eu_transform_small = transform.EuclideanTransform(tranform_matrix)\n",
    "    \n",
    "    eu_transform = transform.EuclideanTransform(translation = eu_transform_small.translation * downscale_factor,\n",
    "                                                rotation = eu_transform_small.rotation)\n",
    "    \n",
    "    tmat.append(eu_transform)"
   ]
  },
  {
   "cell_type": "code",
   "execution_count": 31,
   "metadata": {},
   "outputs": [],
   "source": [
    "saveDir = os.path.join(pathData,'transforms')"
   ]
  }
 ],
 "metadata": {
  "kernelspec": {
   "display_name": "Python 3 (ipykernel)",
   "language": "python",
   "name": "python3"
  },
  "language_info": {
   "codemirror_mode": {
    "name": "ipython",
    "version": 3
   },
   "file_extension": ".py",
   "mimetype": "text/x-python",
   "name": "python",
   "nbconvert_exporter": "python",
   "pygments_lexer": "ipython3",
   "version": "3.8.5"
  }
 },
 "nbformat": 4,
 "nbformat_minor": 4
}
