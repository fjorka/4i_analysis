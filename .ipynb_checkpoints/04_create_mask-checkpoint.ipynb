{
 "cells": [
  {
   "cell_type": "markdown",
   "id": "74de8049",
   "metadata": {},
   "source": [
    "## About this notebook:"
   ]
  },
  {
   "cell_type": "markdown",
   "id": "4335c487",
   "metadata": {},
   "source": [
    "This notebook shows you how to use Napari to create a mask to exclude big areas of an image from analysis. Excluded regions can be marked using shapes layer available in napari (https://napari.org/howtos/layers/shapes.html).\n",
    "\n",
    "Input:\n",
    "- aligned tiffs from selected well\n",
    "- dat frame\n",
    "\n",
    "Output:\n",
    "- mask for a given well (all channels together)\n",
    "\n",
    "Remember to save your mask before closing the napari window!!!"
   ]
  },
  {
   "cell_type": "markdown",
   "id": "c2d7e5e6",
   "metadata": {},
   "source": [
    "## Fill in info about the experiment to process"
   ]
  },
  {
   "cell_type": "code",
   "execution_count": 14,
   "id": "925e8e99",
   "metadata": {},
   "outputs": [],
   "source": [
    "# pathway to a directory with data frames (ex. df)\n",
    "path_df = r''\n",
    "\n",
    "# pathway to aligned tiffs (ex. aligned_tiffs)\n",
    "path_tiffs = r''\n",
    "\n",
    "# pathway to save punch masks (ex. masks)\n",
    "path_save = r''\n",
    "\n",
    "# choose the well for processing (single well)\n",
    "selected_well = 'A4'\n",
    "\n",
    "# set to True if you want to add regions to an existing mask\n",
    "use_existing = True"
   ]
  },
  {
   "cell_type": "markdown",
   "id": "4af3e590",
   "metadata": {},
   "source": [
    "## Prepare for processing"
   ]
  },
  {
   "cell_type": "code",
   "execution_count": 15,
   "id": "ef1dfc60",
   "metadata": {},
   "outputs": [],
   "source": [
    "import os\n",
    "import pickle5 as pickle\n",
    "import pandas as pd\n",
    "from tifffile import imread\n",
    "from skimage.io import imsave\n",
    "import napari\n",
    "from magicgui.widgets import Container,Label,Dropdown\n",
    "from magicgui import magicgui"
   ]
  },
  {
   "cell_type": "code",
   "execution_count": null,
   "id": "dc078fbd",
   "metadata": {},
   "outputs": [],
   "source": [
    "# create directory for saving data frames if needed\n",
    "try:\n",
    "    os.mkdir(path_save)\n",
    "    print('Directory for saving aligned tiffs created.')\n",
    "except:\n",
    "    print('Directory not created.')"
   ]
  },
  {
   "cell_type": "code",
   "execution_count": 16,
   "id": "65e669ce",
   "metadata": {},
   "outputs": [],
   "source": [
    "# open data frame\n",
    "\n",
    "df_name = f'df_{selected_well}.pkl'\n",
    "\n",
    "with open(os.path.join(path_df,df_name), \"rb\") as fh:\n",
    "  df = pickle.load(fh)\n",
    "\n",
    "# open starting image\n",
    "im_path = os.path.join(path_tiffs,selected_well,df.aligned_file_name[0])\n",
    "im = imread(im_path)"
   ]
  },
  {
   "cell_type": "code",
   "execution_count": 17,
   "id": "9de549c1",
   "metadata": {},
   "outputs": [],
   "source": [
    "# try reading the mask\n",
    "if use_existing:\n",
    "    \n",
    "    try:\n",
    "        mask_path = os.path.join(path_save,f'mask_{selected_well}.pkl')\n",
    "        mask = pickle.load( open( mask_path, \"rb\" ) )\n",
    "        print('Existing mask found.')\n",
    "    except:\n",
    "        print('Mask not found')"
   ]
  },
  {
   "cell_type": "code",
   "execution_count": 18,
   "id": "7373a8c0",
   "metadata": {},
   "outputs": [],
   "source": [
    "# add saving button\n",
    "def save_mask(viewer: napari.Viewer):\n",
    "    \n",
    "    mask = viewer.layers['mask'].data\n",
    "    mask_path = os.path.join(path_save,f'mask_{selected_well}.pkl')\n",
    "    \n",
    "    pickle.dump(mask, open( mask_path, \"wb\" ) )\n",
    "    viewer.status = 'Data has been saved.'\n",
    "\n",
    "save_data = magicgui(save_mask, call_button='Save Mask')"
   ]
  },
  {
   "cell_type": "code",
   "execution_count": 19,
   "id": "2067f059",
   "metadata": {},
   "outputs": [
    {
     "data": {
      "text/plain": [
       "<function __main__.channel_change(val_coming: str)>"
      ]
     },
     "execution_count": 19,
     "metadata": {},
     "output_type": "execute_result"
    }
   ],
   "source": [
    "# add selection of images\n",
    "channel_list = ['_'.join([str(int(x)).zfill(2),y]) for x,y in zip(df.nameRound,df.signal.to_list())]\n",
    "df['round_channel'] = channel_list\n",
    "\n",
    "def channel_change(val_coming: str):\n",
    "    \n",
    "    global viewer\n",
    "    \n",
    "    alig_file = df.loc[df.round_channel == val_coming,'aligned_file_name'].to_list()[0]\n",
    "\n",
    "    im_path = os.path.join(path_tiffs,selected_well,alig_file)\n",
    "    im = imread(im_path)\n",
    "\n",
    "    viewer.layers[1].data = im\n",
    "    viewer.layers[1].name = df.loc[df.round_channel == val_coming,'signal'].to_list()[0]\n",
    "    \n",
    "    viewer.status = 'New channel opened.'\n",
    "\n",
    "\n",
    "widget_channel = Dropdown(choices=channel_list)\n",
    "widget_channel.changed.connect(channel_change)"
   ]
  },
  {
   "cell_type": "markdown",
   "id": "2570205a",
   "metadata": {},
   "source": [
    "## Open napari to draw masks"
   ]
  },
  {
   "cell_type": "code",
   "execution_count": 20,
   "id": "4a56da2b",
   "metadata": {},
   "outputs": [
    {
     "data": {
      "text/plain": [
       "<napari._qt.widgets.qt_viewer_dock_widget.QtViewerDockWidget at 0x1c7a71fa798>"
      ]
     },
     "execution_count": 20,
     "metadata": {},
     "output_type": "execute_result"
    }
   ],
   "source": [
    "viewer = napari.Viewer()\n",
    "\n",
    "viewer.add_shapes(name = 'mask',face_color='red')\n",
    "\n",
    "if use_existing:\n",
    "    \n",
    "    viewer.layers['mask'].data = mask\n",
    "    \n",
    "viewer.add_image(im,blending = 'additive',contrast_limits=[0,4095],name=df.signal[0])\n",
    "\n",
    "viewer.window.add_dock_widget(widget_channel,area='left',name='Choose channel')\n",
    "viewer.window.add_dock_widget(save_data,area='left',name='Save Mask')"
   ]
  },
  {
   "cell_type": "code",
   "execution_count": null,
   "id": "47e5c35c",
   "metadata": {},
   "outputs": [],
   "source": []
  }
 ],
 "metadata": {
  "kernelspec": {
   "display_name": "Python 3 (ipykernel)",
   "language": "python",
   "name": "python3"
  },
  "language_info": {
   "codemirror_mode": {
    "name": "ipython",
    "version": 3
   },
   "file_extension": ".py",
   "mimetype": "text/x-python",
   "name": "python",
   "nbconvert_exporter": "python",
   "pygments_lexer": "ipython3",
   "version": "3.7.10"
  }
 },
 "nbformat": 4,
 "nbformat_minor": 5
}
