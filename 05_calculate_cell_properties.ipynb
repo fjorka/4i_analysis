{
 "cells": [
  {
   "cell_type": "markdown",
   "id": "e9564c7b",
   "metadata": {},
   "source": [
    "## About this notebook:"
   ]
  },
  {
   "cell_type": "markdown",
   "id": "338b858e",
   "metadata": {},
   "source": [
    "This notebook extracts information from single cells in the 4i experiment. To customize calculated parameters read documentation of scikit-image regionprops: https://scikit-image.org/docs/dev/api/skimage.measure.html#skimage.measure.regionprops.\n",
    "\n",
    "Input:\n",
    "- data frames for selected wells\n",
    "- labels\n",
    "- selected round (anchor of alignment)\n",
    "- punchmask (mask of excluded regions)\n",
    "- aligned tiffs\n",
    "\n",
    "Output:\n",
    "- data frames with features of nuclei and rings"
   ]
  },
  {
   "cell_type": "markdown",
   "id": "fffd0484",
   "metadata": {},
   "source": [
    "## Fill in info about the experiment to process"
   ]
  },
  {
   "cell_type": "code",
   "execution_count": 1,
   "id": "c8aa844d",
   "metadata": {},
   "outputs": [],
   "source": [
    "# pathway to a directory with data frames (ex. df)\n",
    "path_df = r''\n",
    "\n",
    "# pathway to segmented cells (ex. im_segmented)\n",
    "path_labels = r''\n",
    "label_round = 0 # 0-indexed\n",
    "\n",
    "# pathway to punchmasks (ex. masks)\n",
    "path_mask = r''\n",
    "\n",
    "# pathway to aligned tiffs (ex. aligned_tiffs)\n",
    "path_tiffs = r''\n",
    "\n",
    "# pathway to save output data frames with info about cells (ex. cell data)\n",
    "path_save = r''\n",
    "\n",
    "well_list = ['A4','B4']"
   ]
  },
  {
   "cell_type": "code",
   "execution_count": 2,
   "id": "70a302cd",
   "metadata": {},
   "outputs": [],
   "source": [
    "# settings for properties to calculate\n",
    "properties = ['label', 'area','centroid','orientation','major_axis_length','minor_axis_length','bbox','mean_intensity']\n",
    "properties_ring = ['label','mean_intensity']"
   ]
  },
  {
   "cell_type": "markdown",
   "id": "2bc9af10",
   "metadata": {},
   "source": [
    "## Prepare for processing"
   ]
  },
  {
   "cell_type": "code",
   "execution_count": 3,
   "id": "e9b66a97",
   "metadata": {},
   "outputs": [],
   "source": [
    "import os\n",
    "import pickle5 as pickle\n",
    "import numpy as np\n",
    "import pandas as pd\n",
    "from tifffile import imread\n",
    "from skimage.measure import regionprops_table\n",
    "from skimage.segmentation import clear_border\n",
    "from skimage.draw import polygon\n",
    "from ring_functions import make_rings"
   ]
  },
  {
   "cell_type": "markdown",
   "id": "6be72dff",
   "metadata": {},
   "source": [
    "## Process"
   ]
  },
  {
   "cell_type": "code",
   "execution_count": 24,
   "id": "ee95ef23",
   "metadata": {},
   "outputs": [
    {
     "name": "stdout",
     "output_type": "stream",
     "text": [
      "Processing well A4.\n",
      "Loading labels.\n",
      "Loading mask.\n",
      "Loading intensity images.\n",
      "Quantifying nuclei.\n",
      "Generating cytoplasmic rings.\n",
      "Quantifying cytoplasmic rings.\n",
      "Processing well B4.\n",
      "Loading labels.\n",
      "Loading mask.\n",
      "Mask not found.\n",
      "Loading intensity images.\n",
      "Quantifying nuclei.\n",
      "Generating cytoplasmic rings.\n",
      "Quantifying cytoplasmic rings.\n"
     ]
    }
   ],
   "source": [
    "for selected_well in well_list:\n",
    "    \n",
    "    print(f'Processing well {selected_well}.')\n",
    "    \n",
    "    # open data frame\n",
    "    df_name = f'df_{selected_well}.pkl'\n",
    "    df = pd.read_pickle(os.path.join(path_df,df_name))\n",
    "    \n",
    "    ##############################################################\n",
    "    \n",
    "    # open labels\n",
    "    print('Loading labels.')\n",
    "    labels_path = os.path.join(path_labels,selected_well,f'labels_{selected_well}_round_{str(label_round).zfill(3)}.tif')\n",
    "    labels = imread(labels_path)\n",
    "    \n",
    "    # clear border objects\n",
    "    labels = clear_border(labels)\n",
    "    \n",
    "    ##############################################################\n",
    "    \n",
    "    # open punchmask\n",
    "    print('Loading mask.')\n",
    "    \n",
    "    # translate shapes into an image\n",
    "    mask = np.zeros(labels.shape).astype(int)\n",
    "    \n",
    "    try:\n",
    "        mask_path = os.path.join(path_mask,f'mask_{selected_well}.pkl')\n",
    "        sh = pickle.load( open( mask_path, \"rb\" ) )\n",
    "\n",
    "        for reg in sh:\n",
    "            rr, cc = polygon(reg[:,0],reg[:,1]) \n",
    "            mask[rr,cc] = 1\n",
    "            \n",
    "    except:\n",
    "        print('Mask not found.')\n",
    "        \n",
    "    \n",
    "    ##############################################################\n",
    "    \n",
    "    # open intensity images\n",
    "    print('Loading intensity images.')\n",
    "    int_im = []\n",
    "    for ind,signal in df.iterrows():\n",
    "        \n",
    "        im_path = os.path.join(path_tiffs,selected_well,signal.aligned_file_name)\n",
    "        im = imread(im_path)\n",
    "        \n",
    "        int_im.append(im)\n",
    "        \n",
    "    int_im.append(mask)    \n",
    "        \n",
    "    int_im = np.array(int_im)\n",
    "    int_im = np.moveaxis(int_im,0,2)\n",
    "\n",
    "        \n",
    "    ##############################################################\n",
    "        \n",
    "    # calculate properties of nuclei\n",
    "    print('Quantifying nuclei.')\n",
    "    nuclei_df = pd.DataFrame(regionprops_table(labels, properties=properties,intensity_image=int_im))\n",
    "        \n",
    "    # adjust names\n",
    "    channel_list = ['_'.join([str(int(x)).zfill(2),y]) for x,y in zip(df.nameRound,df.signal.to_list())]\n",
    "    df['round_channel'] = channel_list\n",
    "    \n",
    "    intensity_names = [f'{x}_nuc_mean' for x in df.round_channel]\n",
    "    intensity_names.append('nuc_mask')\n",
    "\n",
    "    nuclei_df.columns=list(nuclei_df.columns[:-len(df)-1])+intensity_names\n",
    "    \n",
    "    ##############################################################\n",
    "        \n",
    "    # generate rings\n",
    "    print('Generating cytoplasmic rings.')\n",
    "    rings = make_rings(labels,width=6,gap=1)\n",
    "    \n",
    "    # calculate properties of rings\n",
    "    print('Quantifying cytoplasmic rings.')\n",
    "    rings_df = pd.DataFrame(regionprops_table(rings, properties=properties_ring,intensity_image=int_im))\n",
    "    \n",
    "    # adjust names\n",
    "    intensity_names = [f'{x}_ring_mean' for x in df.round_channel]\n",
    "    intensity_names.append('ring_mask')\n",
    "    \n",
    "    rings_df.columns=list(rings_df.columns[:-len(df)-1])+intensity_names\n",
    "\n",
    "    ##############################################################\n",
    "        \n",
    "    # merging data frames\n",
    "    cell_data = pd.merge(nuclei_df,rings_df,how='inner',on='label',suffixes=('_nuc', '_ring'))\n",
    "    \n",
    "    ##############################################################\n",
    "        \n",
    "    # add info and save \n",
    "    cell_data['well'] = selected_well\n",
    "    \n",
    "    cell_data.to_pickle(os.path.join(path_save,f'cell_data_{selected_well}_df.pkl'),protocol=4)\n",
    "    "
   ]
  },
  {
   "cell_type": "code",
   "execution_count": null,
   "id": "4bdd7e88",
   "metadata": {},
   "outputs": [],
   "source": []
  }
 ],
 "metadata": {
  "kernelspec": {
   "display_name": "Python 3 (ipykernel)",
   "language": "python",
   "name": "python3"
  },
  "language_info": {
   "codemirror_mode": {
    "name": "ipython",
    "version": 3
   },
   "file_extension": ".py",
   "mimetype": "text/x-python",
   "name": "python",
   "nbconvert_exporter": "python",
   "pygments_lexer": "ipython3",
   "version": "3.7.10"
  }
 },
 "nbformat": 4,
 "nbformat_minor": 5
}
