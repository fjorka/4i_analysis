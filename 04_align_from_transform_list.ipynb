{
 "cells": [
  {
   "cell_type": "markdown",
   "metadata": {},
   "source": [
    "## About this notebook:"
   ]
  },
  {
   "cell_type": "markdown",
   "metadata": {},
   "source": [
    "This notebook uses saved transformations to align all channels in a list of wells.\n",
    "\n",
    "Input:\n",
    "- a set of transforms (one transform/round)\n",
    "- data frames with channel data for each channel\n",
    "- nd2 images\n",
    "\n",
    "Output:\n",
    "- aligned tiffs \n",
    "- updated data frames"
   ]
  },
  {
   "cell_type": "markdown",
   "metadata": {},
   "source": [
    "## Fill in info about the experiment to process"
   ]
  },
  {
   "cell_type": "code",
   "execution_count": 1,
   "metadata": {},
   "outputs": [],
   "source": [
    "# pathway to a directory with data frames (ex. df)\n",
    "path_df = r''\n",
    "path_tmat=path_df\n",
    "\n",
    "# pathway to save aligned tiffs (ex. aligned_tiffs)\n",
    "path_save = r''\n",
    "\n",
    "# list of wells to be processed (usually names as 'A3')\n",
    "well_list = ['D4']"
   ]
  },
  {
   "cell_type": "markdown",
   "metadata": {},
   "source": [
    "## Prepare for processing"
   ]
  },
  {
   "cell_type": "code",
   "execution_count": 4,
   "metadata": {},
   "outputs": [],
   "source": [
    "import os\n",
    "import pickle\n",
    "import pandas as pd\n",
    "import numpy as np\n",
    "import nd2\n",
    "\n",
    "from tifffile import imsave\n",
    "from skimage import transform\n",
    "\n",
    "import ipywidgets as widgets\n",
    "from IPython.display import display"
   ]
  },
  {
   "cell_type": "code",
   "execution_count": 5,
   "metadata": {},
   "outputs": [
    {
     "name": "stdout",
     "output_type": "stream",
     "text": [
      "Directory not created.\n"
     ]
    }
   ],
   "source": [
    "# create directory for saving data frames if needed\n",
    "try:\n",
    "    os.mkdir(path_save)\n",
    "    print('Directory for saving aligned tiffs created.')\n",
    "except:\n",
    "    print('Directory not created.')\n"
   ]
  },
  {
   "cell_type": "markdown",
   "metadata": {},
   "source": [
    "# Align and save images"
   ]
  },
  {
   "cell_type": "code",
   "execution_count": 6,
   "metadata": {},
   "outputs": [
    {
     "name": "stdout",
     "output_type": "stream",
     "text": [
      "Processing well D4.\n",
      "Directory not created.\n"
     ]
    },
    {
     "name": "stderr",
     "output_type": "stream",
     "text": [
      "C:\\Users\\kmkedz\\AppData\\Local\\Temp\\ipykernel_8008\\3263144274.py:52: DeprecationWarning: <tifffile.imsave> is deprecated. Use tifffile.imwrite\n",
      "  imsave(os.path.join(path_save,selected_well,alig_name),im_alig.astype('uint16'))\n",
      "C:\\Users\\kmkedz\\AppData\\Local\\Temp\\ipykernel_8008\\3263144274.py:52: DeprecationWarning: <tifffile.imsave> is deprecated. Use tifffile.imwrite\n",
      "  imsave(os.path.join(path_save,selected_well,alig_name),im_alig.astype('uint16'))\n",
      "C:\\Users\\kmkedz\\AppData\\Local\\Temp\\ipykernel_8008\\3263144274.py:52: DeprecationWarning: <tifffile.imsave> is deprecated. Use tifffile.imwrite\n",
      "  imsave(os.path.join(path_save,selected_well,alig_name),im_alig.astype('uint16'))\n",
      "C:\\Users\\kmkedz\\AppData\\Local\\Temp\\ipykernel_8008\\3263144274.py:52: DeprecationWarning: <tifffile.imsave> is deprecated. Use tifffile.imwrite\n",
      "  imsave(os.path.join(path_save,selected_well,alig_name),im_alig.astype('uint16'))\n",
      "C:\\Users\\kmkedz\\AppData\\Local\\Temp\\ipykernel_8008\\3263144274.py:52: DeprecationWarning: <tifffile.imsave> is deprecated. Use tifffile.imwrite\n",
      "  imsave(os.path.join(path_save,selected_well,alig_name),im_alig.astype('uint16'))\n",
      "C:\\Users\\kmkedz\\AppData\\Local\\Temp\\ipykernel_8008\\3263144274.py:52: DeprecationWarning: <tifffile.imsave> is deprecated. Use tifffile.imwrite\n",
      "  imsave(os.path.join(path_save,selected_well,alig_name),im_alig.astype('uint16'))\n",
      "C:\\Users\\kmkedz\\AppData\\Local\\Temp\\ipykernel_8008\\3263144274.py:52: DeprecationWarning: <tifffile.imsave> is deprecated. Use tifffile.imwrite\n",
      "  imsave(os.path.join(path_save,selected_well,alig_name),im_alig.astype('uint16'))\n",
      "C:\\Users\\kmkedz\\AppData\\Local\\Temp\\ipykernel_8008\\3263144274.py:52: DeprecationWarning: <tifffile.imsave> is deprecated. Use tifffile.imwrite\n",
      "  imsave(os.path.join(path_save,selected_well,alig_name),im_alig.astype('uint16'))\n",
      "C:\\Users\\kmkedz\\AppData\\Local\\Temp\\ipykernel_8008\\3263144274.py:52: DeprecationWarning: <tifffile.imsave> is deprecated. Use tifffile.imwrite\n",
      "  imsave(os.path.join(path_save,selected_well,alig_name),im_alig.astype('uint16'))\n",
      "C:\\Users\\kmkedz\\AppData\\Local\\Temp\\ipykernel_8008\\3263144274.py:52: DeprecationWarning: <tifffile.imsave> is deprecated. Use tifffile.imwrite\n",
      "  imsave(os.path.join(path_save,selected_well,alig_name),im_alig.astype('uint16'))\n",
      "C:\\Users\\kmkedz\\AppData\\Local\\Temp\\ipykernel_8008\\3263144274.py:52: DeprecationWarning: <tifffile.imsave> is deprecated. Use tifffile.imwrite\n",
      "  imsave(os.path.join(path_save,selected_well,alig_name),im_alig.astype('uint16'))\n",
      "C:\\Users\\kmkedz\\AppData\\Local\\Temp\\ipykernel_8008\\3263144274.py:52: DeprecationWarning: <tifffile.imsave> is deprecated. Use tifffile.imwrite\n",
      "  imsave(os.path.join(path_save,selected_well,alig_name),im_alig.astype('uint16'))\n",
      "C:\\Users\\kmkedz\\AppData\\Local\\Temp\\ipykernel_8008\\3263144274.py:52: DeprecationWarning: <tifffile.imsave> is deprecated. Use tifffile.imwrite\n",
      "  imsave(os.path.join(path_save,selected_well,alig_name),im_alig.astype('uint16'))\n"
     ]
    }
   ],
   "source": [
    "for selected_well in well_list:\n",
    "    \n",
    "    print(f'Processing well {selected_well}.')\n",
    "    \n",
    "    # create output directory\n",
    "    try:\n",
    "        os.mkdir(os.path.join(path_save,selected_well))\n",
    "        print('Sub-directory for saving aligned tiffs created.')\n",
    "    except:\n",
    "        print('Directory not created.')\n",
    "        \n",
    "    # open data frame\n",
    "    df_name = f'df_{selected_well}.pkl'\n",
    "    \n",
    "    #myData = pd.read_pickle(os.path.join(path_df,df_name))\n",
    "    with open(os.path.join(path_df,df_name), \"rb\") as fh: # in case of protocol 5 issues\n",
    "        myData = pickle.load(fh)\n",
    "        \n",
    "    # open transformations\n",
    "    tmat_name = f'tmat_{selected_well}.pkl'\n",
    "    tmat_list = pickle.load(open(os.path.join(path_tmat,tmat_name), \"rb\"))\n",
    "    \n",
    "    for ind,my_signal in myData.iterrows():\n",
    "\n",
    "        # get a path to the image file\n",
    "        file_path = os.path.join(my_signal.dir,my_signal.sub_dir,my_signal.file)\n",
    "\n",
    "        # get a handle to the nd2 file\n",
    "        myIm = nd2.ND2File(file_path)\n",
    "\n",
    "        # choose the right frame\n",
    "        dask_im = myIm.to_dask()\n",
    "        im = dask_im[my_signal.channel_in_file,:,:]\n",
    "\n",
    "        # trim if needed\n",
    "        if ((my_signal.width_min < my_signal.width) | (my_signal.height_min < my_signal.height)):\n",
    "\n",
    "            im = im[:my_signal.height_min,:my_signal.width_min]\n",
    "\n",
    "        # get the transform\n",
    "        tf = tmat_list[int(my_signal.alignRound)]\n",
    "\n",
    "        # apply transform\n",
    "        im_alig = transform.warp(im,tf,output_shape=im.shape)\n",
    "        im_alig[im_alig<0] = 0\n",
    "\n",
    "        # get the range correct\n",
    "        im_alig = im_alig*2**16\n",
    "\n",
    "        # save image\n",
    "        alig_name = f'Round_{str(int(my_signal.nameRound)).zfill(2)}_well{my_signal.well}_{my_signal.signal}.tif'\n",
    "        imsave(os.path.join(path_save,selected_well,alig_name),im_alig.astype('uint16'))\n",
    "\n",
    "        # remember this in the df\n",
    "        myData.loc[ind,'aligned_file_name'] = alig_name\n",
    "        \n",
    "    # save df    \n",
    "    myData.to_pickle(os.path.join(path_df,df_name))"
   ]
  },
  {
   "cell_type": "code",
   "execution_count": null,
   "metadata": {},
   "outputs": [],
   "source": []
  }
 ],
 "metadata": {
  "kernelspec": {
   "display_name": "Python 3 (ipykernel)",
   "language": "python",
   "name": "python3"
  },
  "language_info": {
   "codemirror_mode": {
    "name": "ipython",
    "version": 3
   },
   "file_extension": ".py",
   "mimetype": "text/x-python",
   "name": "python",
   "nbconvert_exporter": "python",
   "pygments_lexer": "ipython3",
   "version": "3.9.10"
  }
 },
 "nbformat": 4,
 "nbformat_minor": 4
}
